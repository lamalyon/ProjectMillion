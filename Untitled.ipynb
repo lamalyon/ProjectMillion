{
 "cells": [
  {
   "cell_type": "code",
   "execution_count": 1,
   "metadata": {},
   "outputs": [
    {
     "name": "stderr",
     "output_type": "stream",
     "text": [
      "ERROR -1 2104 Market data farm connection is OK:usfarm.nj\n",
      "ERROR -1 2104 Market data farm connection is OK:eufarm\n",
      "ERROR -1 2104 Market data farm connection is OK:cashfarm\n",
      "ERROR -1 2104 Market data farm connection is OK:usfarm\n",
      "ERROR -1 2106 HMDS data farm connection is OK:euhmds\n",
      "ERROR -1 2106 HMDS data farm connection is OK:ushmds.nj\n",
      "ERROR -1 2106 HMDS data farm connection is OK:fundfarm\n",
      "ERROR -1 2106 HMDS data farm connection is OK:ushmds\n",
      "ERROR -1 2158 Sec-def data farm connection is OK:secdefil\n",
      "ERROR 1 10168 Requested market data is not subscribed. Delayed market data is not enabled.\n"
     ]
    }
   ],
   "source": [
    "from ibapi.client import EClient\n",
    "from ibapi.wrapper import EWrapper\n",
    "from ibapi.contract import Contract\n",
    "\n",
    "import pandas\n",
    "import threading\n",
    "import time\n",
    "\n",
    "\n",
    "class IBapi(EWrapper, EClient):\n",
    "    def __init__(self):\n",
    "        EClient.__init__(self, self)\n",
    "    def tickPrice(self, reqId, tickType, price, attrib):\n",
    "        if tickType == 2 and reqId == 1:\n",
    "            print('The current ask price is: ', price)\n",
    "\n",
    "def run_loop():\n",
    "    app.run()\n",
    "\n",
    "app = IBapi()\n",
    "app.connect('127.0.0.1', 7497, 123)\n",
    "\n",
    "#Start the socket in a thread\n",
    "api_thread = threading.Thread(target=run_loop, daemon=True)\n",
    "api_thread.start()\n",
    "\n",
    "time.sleep(1) #Sleep interval to allow time for connection to server\n",
    "\n",
    "#Create contract object\n",
    "apple_contract = Contract()\n",
    "apple_contract.symbol = 'AAPL'\n",
    "apple_contract.secType = 'STK'\n",
    "apple_contract.exchange = 'SMART'\n",
    "apple_contract.currency = 'USD'\n",
    "\n",
    "#Request Market Data\n",
    "app.reqMktData(1, apple_contract, '', False, False, [])\n",
    "\n",
    "time.sleep(10) #Sleep interval to allow time for incoming price data\n",
    "app.disconnect()"
   ]
  },
  {
   "cell_type": "code",
   "execution_count": 2,
   "metadata": {},
   "outputs": [
    {
     "data": {
      "text/plain": [
       "2581536210184: 0,AAPL,STK,,0.0,,,SMART,,USD,,,False,,combo:"
      ]
     },
     "execution_count": 2,
     "metadata": {},
     "output_type": "execute_result"
    }
   ],
   "source": [
    "apple_contract"
   ]
  },
  {
   "cell_type": "code",
   "execution_count": 2,
   "metadata": {},
   "outputs": [],
   "source": [
    "import datetime"
   ]
  },
  {
   "cell_type": "code",
   "execution_count": 12,
   "metadata": {},
   "outputs": [
    {
     "data": {
      "text/plain": [
       "datetime.timedelta(seconds=3600)"
      ]
     },
     "execution_count": 12,
     "metadata": {},
     "output_type": "execute_result"
    }
   ],
   "source": [
    "datetime.timedelta(hours=1)"
   ]
  },
  {
   "cell_type": "code",
   "execution_count": 13,
   "metadata": {},
   "outputs": [
    {
     "data": {
      "text/plain": [
       "datetime.datetime(2021, 4, 20, 18, 32, 43, 690746)"
      ]
     },
     "execution_count": 13,
     "metadata": {},
     "output_type": "execute_result"
    }
   ],
   "source": [
    "datetime.datetime.now() - datetime.timedelta(hours=1)"
   ]
  },
  {
   "cell_type": "code",
   "execution_count": 1,
   "metadata": {
    "scrolled": true
   },
   "outputs": [
    {
     "name": "stderr",
     "output_type": "stream",
     "text": [
      "ERROR -1 2104 Market data farm connection is OK:usfarm.nj\n",
      "ERROR -1 2104 Market data farm connection is OK:eufarm\n",
      "ERROR -1 2104 Market data farm connection is OK:cashfarm\n",
      "ERROR -1 2104 Market data farm connection is OK:usfarm\n",
      "ERROR -1 2106 HMDS data farm connection is OK:euhmds\n",
      "ERROR -1 2106 HMDS data farm connection is OK:ushmds.nj\n",
      "ERROR -1 2106 HMDS data farm connection is OK:fundfarm\n",
      "ERROR -1 2106 HMDS data farm connection is OK:ushmds\n",
      "ERROR -1 2158 Sec-def data farm connection is OK:secdefil\n",
      "ERROR 1 162 Historical Market Data Service error message:No market data permissions for ISLAND STK\n"
     ]
    }
   ],
   "source": [
    "from ibapi.client import EClient\n",
    "from ibapi.wrapper import EWrapper\n",
    "from ibapi.contract import Contract\n",
    "\n",
    "import threading\n",
    "import time\n",
    "\n",
    "class IBapi(EWrapper, EClient):\n",
    "    def __init__(self):\n",
    "        EClient.__init__(self, self)\n",
    "        self.data = []\n",
    "    def historicalData(self, reqId, bar):\n",
    "        #print(bar)\n",
    "        #print(bar.low)\n",
    "        print(f'Time: {bar.date} Close: {bar.close}')\n",
    "        self.data.append([bar.date, bar.close])\n",
    "\n",
    "def run_loop():\n",
    "    app.run()\n",
    "\n",
    "app = IBapi()\n",
    "app.connect('127.0.0.1', 7497, 123)\n",
    "\n",
    "#Start the socket in a thread\n",
    "api_thread = threading.Thread(target=run_loop, daemon=True)\n",
    "api_thread.start()\n",
    "\n",
    "time.sleep(1) #Sleep interval to allow time for connection to server\n",
    "\n",
    "#Create contract object\n",
    "eurusd_contract = Contract()\n",
    "eurusd_contract.symbol = 'AMZN'\n",
    "eurusd_contract.secType = 'STK'\n",
    "eurusd_contract.currency = 'USD'\n",
    "eurusd_contract.exchange = 'SMART'\n",
    "\n",
    "#Request historical candles\n",
    "app.reqHistoricalData(1, eurusd_contract, '20210419 19:00:00 GMT', '2 D', '1 hour', 'BID', 1, 2, False, [])\n",
    "\n",
    "time.sleep(5) #sleep to allow enough time for data to be returned\n",
    "\n",
    "\n"
   ]
  },
  {
   "cell_type": "code",
   "execution_count": 1,
   "metadata": {},
   "outputs": [],
   "source": [
    "import backtrader as bt"
   ]
  },
  {
   "cell_type": "code",
   "execution_count": 6,
   "metadata": {},
   "outputs": [],
   "source": [
    "ibstore = bt.stores.IBStore(host='127.0.0.1', port=7497, clientId=35)\n"
   ]
  },
  {
   "cell_type": "code",
   "execution_count": 7,
   "metadata": {},
   "outputs": [],
   "source": [
    "data = ibstore.getdata(dataname='TWTR')"
   ]
  },
  {
   "cell_type": "code",
   "execution_count": 12,
   "metadata": {},
   "outputs": [],
   "source": [
    "cerebro = bt.Cerebro()"
   ]
  },
  {
   "cell_type": "code",
   "execution_count": null,
   "metadata": {},
   "outputs": [],
   "source": [
    "cerebro."
   ]
  },
  {
   "cell_type": "code",
   "execution_count": null,
   "metadata": {},
   "outputs": [],
   "source": []
  },
  {
   "cell_type": "code",
   "execution_count": 9,
   "metadata": {},
   "outputs": [],
   "source": [
    "def next(self):\n",
    "    # some logic before\n",
    "    self.buy(data, m_triggerMethod=2)"
   ]
  },
  {
   "cell_type": "code",
   "execution_count": 11,
   "metadata": {},
   "outputs": [
    {
     "ename": "NameError",
     "evalue": "name 'Order' is not defined",
     "output_type": "error",
     "traceback": [
      "\u001b[1;31m---------------------------------------------------------------------------\u001b[0m",
      "\u001b[1;31mNameError\u001b[0m                                 Traceback (most recent call last)",
      "\u001b[1;32m<ipython-input-11-340286f0d1fb>\u001b[0m in \u001b[0;36m<module>\u001b[1;34m\u001b[0m\n\u001b[1;32m----> 1\u001b[1;33m \u001b[0mOrder\u001b[0m\u001b[1;33m.\u001b[0m\u001b[0mMarket\u001b[0m\u001b[1;33m\u001b[0m\u001b[1;33m\u001b[0m\u001b[0m\n\u001b[0m",
      "\u001b[1;31mNameError\u001b[0m: name 'Order' is not defined"
     ]
    }
   ],
   "source": [
    "Order.Market"
   ]
  },
  {
   "cell_type": "code",
   "execution_count": null,
   "metadata": {},
   "outputs": [],
   "source": []
  },
  {
   "cell_type": "code",
   "execution_count": null,
   "metadata": {},
   "outputs": [],
   "source": [
    "app.reqHistoricalData()"
   ]
  },
  {
   "cell_type": "code",
   "execution_count": 1,
   "metadata": {},
   "outputs": [
    {
     "ename": "NameError",
     "evalue": "name 'app' is not defined",
     "output_type": "error",
     "traceback": [
      "\u001b[1;31m---------------------------------------------------------------------------\u001b[0m",
      "\u001b[1;31mNameError\u001b[0m                                 Traceback (most recent call last)",
      "\u001b[1;32m<ipython-input-1-ac32e74a2d32>\u001b[0m in \u001b[0;36m<module>\u001b[1;34m\u001b[0m\n\u001b[1;32m----> 1\u001b[1;33m \u001b[0mapp\u001b[0m\u001b[1;33m.\u001b[0m\u001b[0mdata\u001b[0m\u001b[1;33m\u001b[0m\u001b[1;33m\u001b[0m\u001b[0m\n\u001b[0m",
      "\u001b[1;31mNameError\u001b[0m: name 'app' is not defined"
     ]
    }
   ],
   "source": [
    "app.data"
   ]
  },
  {
   "cell_type": "code",
   "execution_count": 8,
   "metadata": {},
   "outputs": [],
   "source": [
    "def sendData():\n",
    "    '''sends data as a dictionary to black box in the format {Datetime: , \"Open\": 2 dp, \"High\": , \"Low\": , \"Close\": , \"Price\": (average of high, low, close, open), \"Volumne\", \"D\": (date), \"T\": (time) ,}'''"
   ]
  },
  {
   "cell_type": "code",
   "execution_count": 9,
   "metadata": {},
   "outputs": [],
   "source": [
    "def placeOrder():\n",
    "    '''receives dictionary of order which is in the format {\"type\": (\"long\" or \"short\"), \"volume\": int, }'''"
   ]
  },
  {
   "cell_type": "code",
   "execution_count": 2,
   "metadata": {},
   "outputs": [
    {
     "data": {
      "text/plain": [
       "'__main__'"
      ]
     },
     "execution_count": 2,
     "metadata": {},
     "output_type": "execute_result"
    }
   ],
   "source": [
    "__name__"
   ]
  },
  {
   "cell_type": "code",
   "execution_count": 1,
   "metadata": {},
   "outputs": [
    {
     "name": "stdout",
     "output_type": "stream",
     "text": [
      "name is testing\n"
     ]
    }
   ],
   "source": [
    "import testing"
   ]
  },
  {
   "cell_type": "code",
   "execution_count": null,
   "metadata": {},
   "outputs": [
    {
     "name": "stdout",
     "output_type": "stream",
     "text": [
      "Server Version: 76\n",
      "TWS Time at connection:20210511 18:42:47 British Summer Time\n",
      "***** DATA NOTIF: DELAYED\n"
     ]
    }
   ],
   "source": [
    "from __future__ import (absolute_import, division, print_function,\n",
    "                        unicode_literals)\n",
    "\n",
    "import backtrader as bt\n",
    "\n",
    "\n",
    "class St(bt.Strategy):\n",
    "    def logdata(self):\n",
    "        txt = []\n",
    "        txt.append('{}'.format(len(self)))\n",
    "        txt.append('{}'.format(self.data.datetime.datetime(0).isoformat()))\n",
    "        txt.append('{:.2f}'.format(self.data.open[0]))\n",
    "        txt.append('{:.2f}'.format(self.data.high[0]))\n",
    "        txt.append('{:.2f}'.format(self.data.low[0]))\n",
    "        txt.append('{:.2f}'.format(self.data.close[0]))\n",
    "        txt.append('{:.2f}'.format(self.data.volume[0]))\n",
    "        print(','.join(txt))\n",
    "\n",
    "    data_live = False\n",
    "\n",
    "    def notify_data(self, data, status, *args, **kwargs):\n",
    "        print('*' * 5, 'DATA NOTIF:', data._getstatusname(status), *args)\n",
    "        if status == data.LIVE:\n",
    "            self.data_live = True\n",
    "\n",
    "    def notify_order(self, order):\n",
    "        if order.status == order.Completed:\n",
    "            buysell = 'BUY ' if order.isbuy() else 'SELL'\n",
    "            txt = '{} {}@{}'.format(buysell, order.executed.size,\n",
    "                                    order.executed.price)\n",
    "            print(txt)\n",
    "\n",
    "    bought = 0\n",
    "    sold = 0\n",
    "\n",
    "    def next(self):\n",
    "        self.logdata()\n",
    "        if not self.data_live:\n",
    "            return\n",
    "\n",
    "        if not self.bought:\n",
    "            self.bought = len(self)  # keep entry bar\n",
    "            self.buy()\n",
    "        elif not self.sold:\n",
    "            if len(self) == (self.bought + 3):\n",
    "                self.sell()\n",
    "\n",
    "\n",
    "def run(args=None):\n",
    "    cerebro = bt.Cerebro(stdstats=False)\n",
    "    store = bt.stores.IBStore(port=7497)\n",
    "\n",
    "    data = store.getdata(dataname='TWTR', timeframe=bt.TimeFrame.Ticks)\n",
    "    cerebro.resampledata(data, timeframe=bt.TimeFrame.Seconds, compression=10)\n",
    "\n",
    "    cerebro.broker = store.getbroker()\n",
    "\n",
    "    cerebro.addstrategy(St)\n",
    "    cerebro.run()\n",
    "\n",
    "\n",
    "if __name__ == '__main__':\n",
    "    run()"
   ]
  },
  {
   "cell_type": "code",
   "execution_count": null,
   "metadata": {},
   "outputs": [],
   "source": []
  },
  {
   "cell_type": "code",
   "execution_count": 3,
   "metadata": {},
   "outputs": [
    {
     "name": "stdout",
     "output_type": "stream",
     "text": [
      "Server Version: 76\n",
      "TWS Time at connection:20210511 18:42:10 British Summer Time\n",
      "***** DATA NOTIF: DISCONNECTED\n"
     ]
    }
   ],
   "source": [
    "run()"
   ]
  },
  {
   "cell_type": "code",
   "execution_count": 9,
   "metadata": {},
   "outputs": [],
   "source": [
    "def next():\n",
    "    print(\"next22\")"
   ]
  },
  {
   "cell_type": "code",
   "execution_count": 6,
   "metadata": {},
   "outputs": [],
   "source": [
    "def gh():\n",
    "    print(\"hello\")"
   ]
  },
  {
   "cell_type": "code",
   "execution_count": 10,
   "metadata": {},
   "outputs": [
    {
     "name": "stdout",
     "output_type": "stream",
     "text": [
      "hello\n"
     ]
    }
   ],
   "source": [
    "gh()"
   ]
  },
  {
   "cell_type": "code",
   "execution_count": 14,
   "metadata": {},
   "outputs": [
    {
     "name": "stdout",
     "output_type": "stream",
     "text": [
      "next22\n"
     ]
    }
   ],
   "source": [
    "next()"
   ]
  },
  {
   "cell_type": "code",
   "execution_count": null,
   "metadata": {},
   "outputs": [],
   "source": []
  },
  {
   "cell_type": "code",
   "execution_count": null,
   "metadata": {},
   "outputs": [],
   "source": []
  },
  {
   "cell_type": "code",
   "execution_count": null,
   "metadata": {},
   "outputs": [],
   "source": []
  },
  {
   "cell_type": "code",
   "execution_count": 26,
   "metadata": {},
   "outputs": [],
   "source": [
    "from __future__ import (absolute_import, division, print_function,\n",
    "                        unicode_literals)\n",
    "\n",
    "import backtrader as bt\n",
    "\n",
    "\n",
    "class St(bt.Strategy):\n",
    "    def logdata(self):\n",
    "        txt = []\n",
    "        txt.append('{}'.format(len(self)))\n",
    "        txt.append('{}'.format(self.data.datetime.datetime(0).isoformat()))\n",
    "        txt.append('{:.2f}'.format(self.data.open[0]))\n",
    "        txt.append('{:.2f}'.format(self.data.high[0]))\n",
    "        txt.append('{:.2f}'.format(self.data.low[0]))\n",
    "        txt.append('{:.2f}'.format(self.data.close[0]))\n",
    "        txt.append('{:.2f}'.format(self.data.volume[0]))\n",
    "        print(','.join(txt))\n",
    "\n",
    "    data_live = False\n",
    "\n",
    "    def notify_data(self, data, status, *args, **kwargs):\n",
    "        print('*' * 5, 'DATA NOTIF:', data._getstatusname(status), *args)\n",
    "        if status == data.LIVE:\n",
    "            self.data_live = True\n",
    "\n",
    "    def notify_order(self, order):\n",
    "        if order.status == order.Completed:\n",
    "            buysell = 'BUY ' if order.isbuy() else 'SELL'\n",
    "            txt = '{} {}@{}'.format(buysell, order.executed.size,\n",
    "                                    order.executed.price)\n",
    "            print(txt)\n",
    "\n",
    "    bought = 0\n",
    "    sold = 0\n",
    "\n",
    "    def next(self):\n",
    "        self.logdata()\n",
    "        if not self.data_live:\n",
    "            return\n",
    "\n",
    "        if not self.bought:\n",
    "            self.bought = len(self)  # keep entry bar\n",
    "            self.buy()\n",
    "        elif not self.sold:\n",
    "            if len(self) == (self.bought + 3):\n",
    "                self.sell()\n",
    "    def testing(self):\n",
    "        print(\"testing\")\n",
    "\n",
    "def run(args=None):\n",
    "    cerebro = bt.Cerebro(stdstats=False)\n",
    "    store = bt.stores.IBStore(port=7497)\n",
    "\n",
    "    data = store.getdata(dataname='TWTR', timeframe=bt.TimeFrame.Ticks)\n",
    "    cerebro.resampledata(data, timeframe=bt.TimeFrame.Seconds, compression=10)\n",
    "\n",
    "    cerebro.broker = store.getbroker()\n",
    "\n",
    "    cerebro.addstrategy(St)\n",
    "    cerebro.run()\n",
    "\n",
    "\n",
    "if __name__ == '__main__':\n",
    "    run()"
   ]
  },
  {
   "cell_type": "code",
   "execution_count": 22,
   "metadata": {},
   "outputs": [],
   "source": [
    "class St(bt.Strategy):\n",
    "\n",
    "\n",
    "    def next(self):\n",
    "        self.buy()\n",
    "\n"
   ]
  },
  {
   "cell_type": "code",
   "execution_count": 23,
   "metadata": {},
   "outputs": [
    {
     "name": "stdout",
     "output_type": "stream",
     "text": [
      "Server Version: 76\n",
      "TWS Time at connection:20210504 20:59:40 British Summer Time\n"
     ]
    }
   ],
   "source": [
    "def run(args=None):\n",
    "    cerebro = bt.Cerebro(stdstats=False)\n",
    "    store = bt.stores.IBStore(port=7497)\n",
    "\n",
    "    data = store.getdata(dataname='TWTR', timeframe=bt.TimeFrame.Ticks)\n",
    "    cerebro.resampledata(data, timeframe=bt.TimeFrame.Seconds, compression=10)\n",
    "\n",
    "    cerebro.broker = store.getbroker()\n",
    "\n",
    "    cerebro.addstrategy(St)\n",
    "    cerebro.run()\n",
    "    \n",
    "if __name__ == '__main__':\n",
    "    run()"
   ]
  },
  {
   "cell_type": "code",
   "execution_count": null,
   "metadata": {},
   "outputs": [],
   "source": [
    "cerebro."
   ]
  },
  {
   "cell_type": "code",
   "execution_count": null,
   "metadata": {},
   "outputs": [],
   "source": []
  },
  {
   "cell_type": "code",
   "execution_count": null,
   "metadata": {},
   "outputs": [],
   "source": []
  },
  {
   "cell_type": "code",
   "execution_count": 19,
   "metadata": {},
   "outputs": [
    {
     "data": {
      "text/plain": [
       "1"
      ]
     },
     "execution_count": 19,
     "metadata": {},
     "output_type": "execute_result"
    }
   ],
   "source": [
    "cerebro.addstrategy(St)"
   ]
  },
  {
   "cell_type": "code",
   "execution_count": 18,
   "metadata": {},
   "outputs": [
    {
     "name": "stdout",
     "output_type": "stream",
     "text": [
      "Server Version: 76\n",
      "TWS Time at connection:20210504 20:56:31 British Summer Time\n"
     ]
    },
    {
     "data": {
      "text/plain": [
       "[<backtrader.strategy.Strategy at 0x1bf19a424c8>]"
      ]
     },
     "execution_count": 18,
     "metadata": {},
     "output_type": "execute_result"
    }
   ],
   "source": [
    "cerebro.run()"
   ]
  },
  {
   "cell_type": "code",
   "execution_count": null,
   "metadata": {},
   "outputs": [],
   "source": []
  },
  {
   "cell_type": "code",
   "execution_count": null,
   "metadata": {},
   "outputs": [],
   "source": [
    "class test(self):\n",
    "    def bla:\n",
    "        p"
   ]
  },
  {
   "cell_type": "code",
   "execution_count": null,
   "metadata": {},
   "outputs": [],
   "source": []
  },
  {
   "cell_type": "code",
   "execution_count": null,
   "metadata": {},
   "outputs": [],
   "source": []
  },
  {
   "cell_type": "code",
   "execution_count": null,
   "metadata": {},
   "outputs": [],
   "source": []
  },
  {
   "cell_type": "code",
   "execution_count": null,
   "metadata": {},
   "outputs": [],
   "source": []
  },
  {
   "cell_type": "code",
   "execution_count": 18,
   "metadata": {},
   "outputs": [
    {
     "ename": "NameError",
     "evalue": "name 'symbol' is not defined",
     "output_type": "error",
     "traceback": [
      "\u001b[1;31m---------------------------------------------------------------------------\u001b[0m",
      "\u001b[1;31mNameError\u001b[0m                                 Traceback (most recent call last)",
      "\u001b[1;32m<ipython-input-18-8228b90781b0>\u001b[0m in \u001b[0;36m<module>\u001b[1;34m\u001b[0m\n\u001b[1;32m----> 1\u001b[1;33m \u001b[0msymbol\u001b[0m\u001b[1;33m[\u001b[0m\u001b[1;33m:\u001b[0m\u001b[1;36m3\u001b[0m\u001b[1;33m]\u001b[0m\u001b[1;33m\u001b[0m\u001b[1;33m\u001b[0m\u001b[0m\n\u001b[0m",
      "\u001b[1;31mNameError\u001b[0m: name 'symbol' is not defined"
     ]
    }
   ],
   "source": [
    "symbol[:3]"
   ]
  },
  {
   "cell_type": "code",
   "execution_count": 1,
   "metadata": {},
   "outputs": [],
   "source": [
    "tickers = [\"APPL\", \"ABNB\", \"TWTR\"]"
   ]
  },
  {
   "cell_type": "code",
   "execution_count": 3,
   "metadata": {},
   "outputs": [],
   "source": [
    "tickers_to_short = ['WISH', 'RPHM', 'PTIX', 'OBLN', 'POSH', 'KBNT', 'CRIS', 'EYES', 'LHDX', 'NCTY', 'ATNF', 'HYMC', 'EBON', 'EAR', 'BFLY', 'ANIX', 'MICT', 'NTEC', 'BFI', 'AMTX', 'UAVS', 'HAE', 'SPRT', 'TMCI', 'SINO', 'VLDR', 'GRAY', 'INTZ', 'AGFY', 'HFFG', 'NNOX', 'CAN', 'KBSF', 'BIVI', 'TAL', 'RYAM', 'APLT', 'PAAS', 'PRPO', 'DAO', 'AUTL', 'XBIO', 'TAOP', 'SHLS', 'ATIF', 'MSTR', 'CHNR', 'PUBM', 'RMED', 'ALRN', 'SPI', 'CPNG', 'BCEL', 'SLP', 'JFU', 'NVIV', 'CGEM', 'OSH', 'CPE', 'BLNK', 'BIMI', 'PHIO', 'MSGM', 'NISN', 'KLDO', 'UPST', 'EM', 'SNGX', 'DOYU', 'XCUR', 'DRIO', 'IKT', 'QTRX', 'GLMD', 'IPWR', 'NMRD', 'OIBR-C']"
   ]
  },
  {
   "cell_type": "code",
   "execution_count": 1,
   "metadata": {},
   "outputs": [],
   "source": [
    "tickers_to_buy = ['DXF','YCBD','FREQ', 'SQBG', 'MEIP', 'INM', 'RNA', 'LEDS', 'MGTA', 'ZY', 'IKNA', 'ZEPP', 'PRAX', 'ETNB', 'BKTI', 'VINO', 'PRLD', 'OPGN', 'BEEM', 'REKR', 'AHPI', 'DQ', 'LIVE', 'GMBL', 'MREO', 'YVR', 'LIZI', 'REPX', 'PBF', 'CSCW', 'FEDU', 'GNCA', 'PFIE', 'OCG', 'GTBP', 'RETO', 'TLMD', 'ABEO', 'ADMS']\n"
   ]
  },
  {
   "cell_type": "code",
   "execution_count": 2,
   "metadata": {},
   "outputs": [
    {
     "name": "stderr",
     "output_type": "stream",
     "text": [
      "ERROR -1 2104 Market data farm connection is OK:usfarm.nj\n",
      "ERROR -1 2104 Market data farm connection is OK:usfarm\n",
      "ERROR -1 2106 HMDS data farm connection is OK:euhmds\n",
      "ERROR -1 2106 HMDS data farm connection is OK:fundfarm\n",
      "ERROR -1 2106 HMDS data farm connection is OK:ushmds\n",
      "ERROR -1 2158 Sec-def data farm connection is OK:secdefil\n"
     ]
    },
    {
     "name": "stdout",
     "output_type": "stream",
     "text": [
      "waiting for connection\n",
      "openOrder id: 41 PFIE STK @ SMART : BUY MIDPRICE 1.0 Submitted\n",
      "orderStatus - orderid: 41 status: Submitted filled 0.0 remaining 1.0 lastFillPrice 0.0\n",
      "The next valid order id is:  65\n",
      "connected\n",
      "openOrder id: 65 DXF STK @ SMART : BUY MKT 10.0 PreSubmitted\n",
      "orderStatus - orderid: 65 status: PreSubmitted filled 0.0 remaining 10.0 lastFillPrice 0.0\n",
      "Order Executed:  -1 DXF STK USD 0000e0d5.60fce13a.01.01 65 10.0 2\n",
      "openOrder id: 65 DXF STK @ SMART : BUY MKT 10.0 Filled\n",
      "orderStatus - orderid: 65 status: Filled filled 10.0 remaining 0.0 lastFillPrice 1.5\n",
      "openOrder id: 65 DXF STK @ SMART : BUY MKT 10.0 Filled\n",
      "orderStatus - orderid: 65 status: Filled filled 10.0 remaining 0.0 lastFillPrice 1.5\n"
     ]
    },
    {
     "name": "stderr",
     "output_type": "stream",
     "text": [
      "ERROR 65 10148 OrderId 65 that needs to be cancelled cannot be cancelled, state: Filled.\n"
     ]
    },
    {
     "name": "stdout",
     "output_type": "stream",
     "text": [
      "cancelling order\n"
     ]
    },
    {
     "name": "stderr",
     "output_type": "stream",
     "text": [
      "ERROR -1 2104 Market data farm connection is OK:usfarm.nj\n",
      "ERROR -1 2104 Market data farm connection is OK:usfarm\n",
      "ERROR -1 2106 HMDS data farm connection is OK:euhmds\n",
      "ERROR -1 2106 HMDS data farm connection is OK:fundfarm\n",
      "ERROR -1 2106 HMDS data farm connection is OK:ushmds\n",
      "ERROR -1 2158 Sec-def data farm connection is OK:secdefil\n"
     ]
    },
    {
     "name": "stdout",
     "output_type": "stream",
     "text": [
      "waiting for connection\n",
      "openOrder id: 41 PFIE STK @ SMART : BUY MIDPRICE 1.0 Submitted\n",
      "orderStatus - orderid: 41 status: Submitted filled 0.0 remaining 1.0 lastFillPrice 0.0\n",
      "The next valid order id is:  66\n",
      "connected\n",
      "openOrder id: 66 YCBD STK @ SMART : BUY MKT 10.0 Submitted\n",
      "orderStatus - orderid: 66 status: Submitted filled 0.0 remaining 10.0 lastFillPrice 0.0\n",
      "Order Executed:  -1 YCBD STK USD 0000e22a.60d769b7.01.01 66 10.0 2\n",
      "openOrder id: 66 YCBD STK @ SMART : BUY MKT 10.0 Filled\n",
      "orderStatus - orderid: 66 status: Filled filled 10.0 remaining 0.0 lastFillPrice 3.05\n",
      "openOrder id: 66 YCBD STK @ SMART : BUY MKT 10.0 Filled\n",
      "orderStatus - orderid: 66 status: Filled filled 10.0 remaining 0.0 lastFillPrice 3.05\n"
     ]
    },
    {
     "name": "stderr",
     "output_type": "stream",
     "text": [
      "ERROR 66 10148 OrderId 66 that needs to be cancelled cannot be cancelled, state: Filled.\n"
     ]
    },
    {
     "name": "stdout",
     "output_type": "stream",
     "text": [
      "cancelling order\n"
     ]
    },
    {
     "name": "stderr",
     "output_type": "stream",
     "text": [
      "ERROR -1 2104 Market data farm connection is OK:usfarm.nj\n",
      "ERROR -1 2104 Market data farm connection is OK:usfarm\n",
      "ERROR -1 2106 HMDS data farm connection is OK:euhmds\n",
      "ERROR -1 2106 HMDS data farm connection is OK:fundfarm\n",
      "ERROR -1 2106 HMDS data farm connection is OK:ushmds\n",
      "ERROR -1 2158 Sec-def data farm connection is OK:secdefil\n"
     ]
    },
    {
     "name": "stdout",
     "output_type": "stream",
     "text": [
      "waiting for connection\n",
      "openOrder id: 41 PFIE STK @ SMART : BUY MIDPRICE 1.0 Submitted\n",
      "orderStatus - orderid: 41 status: Submitted filled 0.0 remaining 1.0 lastFillPrice 0.0\n",
      "The next valid order id is:  67\n",
      "connected\n",
      "openOrder id: 67 FREQ STK @ SMART : BUY MKT 10.0 PreSubmitted\n",
      "orderStatus - orderid: 67 status: PreSubmitted filled 0.0 remaining 10.0 lastFillPrice 0.0\n",
      "Order Executed:  -1 FREQ STK USD 0000e0d5.60fce166.01.01 67 10.0 2\n",
      "openOrder id: 67 FREQ STK @ SMART : BUY MKT 10.0 Filled\n",
      "orderStatus - orderid: 67 status: Filled filled 10.0 remaining 0.0 lastFillPrice 9.2\n",
      "openOrder id: 67 FREQ STK @ SMART : BUY MKT 10.0 Filled\n",
      "orderStatus - orderid: 67 status: Filled filled 10.0 remaining 0.0 lastFillPrice 9.2\n"
     ]
    },
    {
     "name": "stderr",
     "output_type": "stream",
     "text": [
      "ERROR 67 10148 OrderId 67 that needs to be cancelled cannot be cancelled, state: Filled.\n"
     ]
    },
    {
     "name": "stdout",
     "output_type": "stream",
     "text": [
      "cancelling order\n"
     ]
    },
    {
     "name": "stderr",
     "output_type": "stream",
     "text": [
      "ERROR -1 2104 Market data farm connection is OK:usfarm.nj\n",
      "ERROR -1 2104 Market data farm connection is OK:usfarm\n",
      "ERROR -1 2106 HMDS data farm connection is OK:euhmds\n",
      "ERROR -1 2106 HMDS data farm connection is OK:fundfarm\n",
      "ERROR -1 2106 HMDS data farm connection is OK:ushmds\n",
      "ERROR -1 2158 Sec-def data farm connection is OK:secdefil\n"
     ]
    },
    {
     "name": "stdout",
     "output_type": "stream",
     "text": [
      "waiting for connection\n",
      "openOrder id: 41 PFIE STK @ SMART : BUY MIDPRICE 1.0 Submitted\n",
      "orderStatus - orderid: 41 status: Submitted filled 0.0 remaining 1.0 lastFillPrice 0.0\n",
      "The next valid order id is:  68\n",
      "connected\n",
      "openOrder id: 68 SQBG STK @ SMART : BUY MKT 10.0 PreSubmitted\n",
      "orderStatus - orderid: 68 status: PreSubmitted filled 0.0 remaining 10.0 lastFillPrice 0.0\n",
      "Order Executed:  -1 SQBG STK USD 0000e22a.60d76a47.01.01 68 10.0 2\n",
      "openOrder id: 68 SQBG STK @ SMART : BUY MKT 10.0 Filled\n",
      "orderStatus - orderid: 68 status: Filled filled 10.0 remaining 0.0 lastFillPrice 10.05\n",
      "openOrder id: 68 SQBG STK @ SMART : BUY MKT 10.0 Filled\n",
      "orderStatus - orderid: 68 status: Filled filled 10.0 remaining 0.0 lastFillPrice 10.05\n"
     ]
    },
    {
     "name": "stderr",
     "output_type": "stream",
     "text": [
      "ERROR 68 10148 OrderId 68 that needs to be cancelled cannot be cancelled, state: Filled.\n"
     ]
    },
    {
     "name": "stdout",
     "output_type": "stream",
     "text": [
      "cancelling order\n"
     ]
    },
    {
     "name": "stderr",
     "output_type": "stream",
     "text": [
      "ERROR -1 2104 Market data farm connection is OK:usfarm.nj\n",
      "ERROR -1 2104 Market data farm connection is OK:usfarm\n",
      "ERROR -1 2106 HMDS data farm connection is OK:euhmds\n",
      "ERROR -1 2106 HMDS data farm connection is OK:fundfarm\n",
      "ERROR -1 2106 HMDS data farm connection is OK:ushmds\n",
      "ERROR -1 2158 Sec-def data farm connection is OK:secdefil\n"
     ]
    },
    {
     "name": "stdout",
     "output_type": "stream",
     "text": [
      "waiting for connection\n",
      "openOrder id: 41 PFIE STK @ SMART : BUY MIDPRICE 1.0 Submitted\n",
      "orderStatus - orderid: 41 status: Submitted filled 0.0 remaining 1.0 lastFillPrice 0.0\n",
      "The next valid order id is:  69\n",
      "connected\n",
      "openOrder id: 69 MEIP STK @ SMART : BUY MKT 10.0 PreSubmitted\n",
      "orderStatus - orderid: 69 status: PreSubmitted filled 0.0 remaining 10.0 lastFillPrice 0.0\n",
      "Order Executed:  -1 MEIP STK USD 0000e22a.60d76a86.01.01 69 10.0 2\n",
      "openOrder id: 69 MEIP STK @ SMART : BUY MKT 10.0 Filled\n",
      "orderStatus - orderid: 69 status: Filled filled 10.0 remaining 0.0 lastFillPrice 2.79\n",
      "openOrder id: 69 MEIP STK @ SMART : BUY MKT 10.0 Filled\n",
      "orderStatus - orderid: 69 status: Filled filled 10.0 remaining 0.0 lastFillPrice 2.79\n"
     ]
    },
    {
     "name": "stderr",
     "output_type": "stream",
     "text": [
      "ERROR 69 10148 OrderId 69 that needs to be cancelled cannot be cancelled, state: Filled.\n"
     ]
    },
    {
     "name": "stdout",
     "output_type": "stream",
     "text": [
      "cancelling order\n"
     ]
    },
    {
     "name": "stderr",
     "output_type": "stream",
     "text": [
      "ERROR -1 2104 Market data farm connection is OK:usfarm.nj\n",
      "ERROR -1 2104 Market data farm connection is OK:usfarm\n",
      "ERROR -1 2106 HMDS data farm connection is OK:euhmds\n",
      "ERROR -1 2106 HMDS data farm connection is OK:fundfarm\n",
      "ERROR -1 2106 HMDS data farm connection is OK:ushmds\n",
      "ERROR -1 2158 Sec-def data farm connection is OK:secdefil\n"
     ]
    },
    {
     "name": "stdout",
     "output_type": "stream",
     "text": [
      "waiting for connection\n",
      "openOrder id: 41 PFIE STK @ SMART : BUY MIDPRICE 1.0 Submitted\n",
      "orderStatus - orderid: 41 status: Submitted filled 0.0 remaining 1.0 lastFillPrice 0.0\n",
      "The next valid order id is:  70\n",
      "connected\n",
      "openOrder id: 70 INM STK @ SMART : BUY MKT 10.0 PreSubmitted\n",
      "orderStatus - orderid: 70 status: PreSubmitted filled 0.0 remaining 10.0 lastFillPrice 0.0\n",
      "Order Executed:  -1 INM STK USD 0000e0d5.60fce1ab.01.01 70 10.0 2\n",
      "openOrder id: 70 INM STK @ SMART : BUY MKT 10.0 Filled\n",
      "orderStatus - orderid: 70 status: Filled filled 10.0 remaining 0.0 lastFillPrice 2.8\n",
      "openOrder id: 70 INM STK @ SMART : BUY MKT 10.0 Filled\n",
      "orderStatus - orderid: 70 status: Filled filled 10.0 remaining 0.0 lastFillPrice 2.8\n"
     ]
    },
    {
     "name": "stderr",
     "output_type": "stream",
     "text": [
      "ERROR 70 10148 OrderId 70 that needs to be cancelled cannot be cancelled, state: Filled.\n"
     ]
    },
    {
     "name": "stdout",
     "output_type": "stream",
     "text": [
      "cancelling order\n"
     ]
    },
    {
     "name": "stderr",
     "output_type": "stream",
     "text": [
      "ERROR -1 2104 Market data farm connection is OK:usfarm.nj\n",
      "ERROR -1 2104 Market data farm connection is OK:usfarm\n",
      "ERROR -1 2106 HMDS data farm connection is OK:euhmds\n",
      "ERROR -1 2106 HMDS data farm connection is OK:fundfarm\n",
      "ERROR -1 2106 HMDS data farm connection is OK:ushmds\n",
      "ERROR -1 2158 Sec-def data farm connection is OK:secdefil\n"
     ]
    },
    {
     "name": "stdout",
     "output_type": "stream",
     "text": [
      "waiting for connection\n",
      "openOrder id: 41 PFIE STK @ SMART : BUY MIDPRICE 1.0 Submitted\n",
      "orderStatus - orderid: 41 status: Submitted filled 0.0 remaining 1.0 lastFillPrice 0.0\n",
      "The next valid order id is:  71\n",
      "connected\n",
      "openOrder id: 71 RNA STK @ SMART : BUY MKT 10.0 PreSubmitted\n",
      "orderStatus - orderid: 71 status: PreSubmitted filled 0.0 remaining 10.0 lastFillPrice 0.0\n",
      "Order Executed:  -1 RNA STK USD 0000e22a.60d76ad4.01.01 71 10.0 2\n",
      "openOrder id: 71 RNA STK @ SMART : BUY MKT 10.0 Filled\n",
      "orderStatus - orderid: 71 status: Filled filled 10.0 remaining 0.0 lastFillPrice 21.96\n",
      "openOrder id: 71 RNA STK @ SMART : BUY MKT 10.0 Filled\n",
      "orderStatus - orderid: 71 status: Filled filled 10.0 remaining 0.0 lastFillPrice 21.96\n"
     ]
    },
    {
     "name": "stderr",
     "output_type": "stream",
     "text": [
      "ERROR 71 10148 OrderId 71 that needs to be cancelled cannot be cancelled, state: Filled.\n"
     ]
    },
    {
     "name": "stdout",
     "output_type": "stream",
     "text": [
      "cancelling order\n"
     ]
    },
    {
     "name": "stderr",
     "output_type": "stream",
     "text": [
      "ERROR -1 2104 Market data farm connection is OK:usfarm.nj\n",
      "ERROR -1 2104 Market data farm connection is OK:usfarm\n",
      "ERROR -1 2106 HMDS data farm connection is OK:euhmds\n",
      "ERROR -1 2106 HMDS data farm connection is OK:fundfarm\n",
      "ERROR -1 2106 HMDS data farm connection is OK:ushmds\n",
      "ERROR -1 2158 Sec-def data farm connection is OK:secdefil\n"
     ]
    },
    {
     "name": "stdout",
     "output_type": "stream",
     "text": [
      "waiting for connection\n",
      "openOrder id: 41 PFIE STK @ SMART : BUY MIDPRICE 1.0 Submitted\n",
      "orderStatus - orderid: 41 status: Submitted filled 0.0 remaining 1.0 lastFillPrice 0.0\n",
      "The next valid order id is:  72\n",
      "connected\n",
      "openOrder id: 72 LEDS STK @ SMART : BUY MKT 10.0 PreSubmitted\n",
      "orderStatus - orderid: 72 status: PreSubmitted filled 0.0 remaining 10.0 lastFillPrice 0.0\n",
      "Order Executed:  -1 LEDS STK USD 0000e22a.60d76ae0.01.01 72 10.0 2\n",
      "openOrder id: 72 LEDS STK @ SMART : BUY MKT 10.0 Filled\n",
      "orderStatus - orderid: 72 status: Filled filled 10.0 remaining 0.0 lastFillPrice 8.51\n",
      "openOrder id: 72 LEDS STK @ SMART : BUY MKT 10.0 Filled\n",
      "orderStatus - orderid: 72 status: Filled filled 10.0 remaining 0.0 lastFillPrice 8.51\n"
     ]
    },
    {
     "name": "stderr",
     "output_type": "stream",
     "text": [
      "ERROR 72 10148 OrderId 72 that needs to be cancelled cannot be cancelled, state: Filled.\n"
     ]
    },
    {
     "name": "stdout",
     "output_type": "stream",
     "text": [
      "cancelling order\n"
     ]
    },
    {
     "name": "stderr",
     "output_type": "stream",
     "text": [
      "ERROR -1 2104 Market data farm connection is OK:usfarm.nj\n",
      "ERROR -1 2104 Market data farm connection is OK:usfarm\n",
      "ERROR -1 2106 HMDS data farm connection is OK:euhmds\n",
      "ERROR -1 2106 HMDS data farm connection is OK:fundfarm\n",
      "ERROR -1 2106 HMDS data farm connection is OK:ushmds\n",
      "ERROR -1 2158 Sec-def data farm connection is OK:secdefil\n"
     ]
    },
    {
     "name": "stdout",
     "output_type": "stream",
     "text": [
      "waiting for connection\n",
      "openOrder id: 41 PFIE STK @ SMART : BUY MIDPRICE 1.0 Submitted\n",
      "orderStatus - orderid: 41 status: Submitted filled 0.0 remaining 1.0 lastFillPrice 0.0\n",
      "The next valid order id is:  73\n",
      "connected\n",
      "openOrder id: 73 MGTA STK @ SMART : BUY MKT 10.0 PreSubmitted\n",
      "orderStatus - orderid: 73 status: PreSubmitted filled 0.0 remaining 10.0 lastFillPrice 0.0\n",
      "Order Executed:  -1 MGTA STK USD 0000e22a.60d76aff.01.01 73 10.0 2\n",
      "openOrder id: 73 MGTA STK @ SMART : BUY MKT 10.0 Filled\n",
      "orderStatus - orderid: 73 status: Filled filled 10.0 remaining 0.0 lastFillPrice 11.71\n",
      "openOrder id: 73 MGTA STK @ SMART : BUY MKT 10.0 Filled\n",
      "orderStatus - orderid: 73 status: Filled filled 10.0 remaining 0.0 lastFillPrice 11.71\n"
     ]
    },
    {
     "name": "stderr",
     "output_type": "stream",
     "text": [
      "ERROR 73 10148 OrderId 73 that needs to be cancelled cannot be cancelled, state: Filled.\n"
     ]
    },
    {
     "name": "stdout",
     "output_type": "stream",
     "text": [
      "cancelling order\n"
     ]
    },
    {
     "name": "stderr",
     "output_type": "stream",
     "text": [
      "ERROR -1 2104 Market data farm connection is OK:usfarm.nj\n",
      "ERROR -1 2104 Market data farm connection is OK:usfarm\n",
      "ERROR -1 2106 HMDS data farm connection is OK:euhmds\n",
      "ERROR -1 2106 HMDS data farm connection is OK:fundfarm\n",
      "ERROR -1 2106 HMDS data farm connection is OK:ushmds\n",
      "ERROR -1 2158 Sec-def data farm connection is OK:secdefil\n"
     ]
    },
    {
     "name": "stdout",
     "output_type": "stream",
     "text": [
      "waiting for connection\n",
      "openOrder id: 41 PFIE STK @ SMART : BUY MIDPRICE 1.0 Submitted\n",
      "orderStatus - orderid: 41 status: Submitted filled 0.0 remaining 1.0 lastFillPrice 0.0\n",
      "The next valid order id is:  74\n",
      "connected\n",
      "openOrder id: 74 ZY STK @ SMART : BUY MKT 10.0 Submitted\n",
      "orderStatus - orderid: 74 status: Submitted filled 0.0 remaining 10.0 lastFillPrice 0.0\n",
      "Order Executed:  -1 ZY STK USD 0000e22a.60d76b35.01.01 74 10.0 2\n",
      "openOrder id: 74 ZY STK @ SMART : BUY MKT 10.0 Filled\n",
      "orderStatus - orderid: 74 status: Filled filled 10.0 remaining 0.0 lastFillPrice 37.17\n",
      "openOrder id: 74 ZY STK @ SMART : BUY MKT 10.0 Filled\n",
      "orderStatus - orderid: 74 status: Filled filled 10.0 remaining 0.0 lastFillPrice 37.17\n"
     ]
    },
    {
     "name": "stderr",
     "output_type": "stream",
     "text": [
      "ERROR 74 10148 OrderId 74 that needs to be cancelled cannot be cancelled, state: Filled.\n"
     ]
    },
    {
     "name": "stdout",
     "output_type": "stream",
     "text": [
      "cancelling order\n"
     ]
    },
    {
     "name": "stderr",
     "output_type": "stream",
     "text": [
      "ERROR -1 2104 Market data farm connection is OK:usfarm.nj\n",
      "ERROR -1 2104 Market data farm connection is OK:usfarm\n",
      "ERROR -1 2106 HMDS data farm connection is OK:euhmds\n",
      "ERROR -1 2106 HMDS data farm connection is OK:fundfarm\n",
      "ERROR -1 2106 HMDS data farm connection is OK:ushmds\n",
      "ERROR -1 2158 Sec-def data farm connection is OK:secdefil\n"
     ]
    },
    {
     "name": "stdout",
     "output_type": "stream",
     "text": [
      "waiting for connection\n",
      "openOrder id: 41 PFIE STK @ SMART : BUY MIDPRICE 1.0 Submitted\n",
      "orderStatus - orderid: 41 status: Submitted filled 0.0 remaining 1.0 lastFillPrice 0.0\n",
      "The next valid order id is:  75\n",
      "connected\n",
      "openOrder id: 75 IKNA STK @ SMART : BUY MKT 10.0 Submitted\n",
      "orderStatus - orderid: 75 status: Submitted filled 0.0 remaining 10.0 lastFillPrice 0.0\n",
      "Order Executed:  -1 IKNA STK USD 0000e0d5.60fce210.01.01 75 10.0 2\n",
      "openOrder id: 75 IKNA STK @ SMART : BUY MKT 10.0 Filled\n",
      "orderStatus - orderid: 75 status: Filled filled 10.0 remaining 0.0 lastFillPrice 17.99\n",
      "openOrder id: 75 IKNA STK @ SMART : BUY MKT 10.0 Filled\n",
      "orderStatus - orderid: 75 status: Filled filled 10.0 remaining 0.0 lastFillPrice 17.99\n"
     ]
    },
    {
     "name": "stderr",
     "output_type": "stream",
     "text": [
      "ERROR 75 10148 OrderId 75 that needs to be cancelled cannot be cancelled, state: Filled.\n"
     ]
    },
    {
     "name": "stdout",
     "output_type": "stream",
     "text": [
      "cancelling order\n"
     ]
    },
    {
     "name": "stderr",
     "output_type": "stream",
     "text": [
      "ERROR -1 2104 Market data farm connection is OK:usfarm.nj\n",
      "ERROR -1 2104 Market data farm connection is OK:usfarm\n",
      "ERROR -1 2106 HMDS data farm connection is OK:euhmds\n",
      "ERROR -1 2106 HMDS data farm connection is OK:fundfarm\n",
      "ERROR -1 2106 HMDS data farm connection is OK:ushmds\n",
      "ERROR -1 2158 Sec-def data farm connection is OK:secdefil\n"
     ]
    },
    {
     "name": "stdout",
     "output_type": "stream",
     "text": [
      "waiting for connection\n",
      "openOrder id: 41 PFIE STK @ SMART : BUY MIDPRICE 1.0 Submitted\n",
      "orderStatus - orderid: 41 status: Submitted filled 0.0 remaining 1.0 lastFillPrice 0.0\n",
      "The next valid order id is:  76\n",
      "connected\n",
      "openOrder id: 76 ZEPP STK @ SMART : BUY MKT 10.0 Submitted\n",
      "orderStatus - orderid: 76 status: Submitted filled 0.0 remaining 10.0 lastFillPrice 0.0\n",
      "Order Executed:  -1 ZEPP STK USD 0000e22a.60d76bd1.01.01 76 10.0 2\n",
      "openOrder id: 76 ZEPP STK @ SMART : BUY MKT 10.0 Filled\n",
      "orderStatus - orderid: 76 status: Filled filled 10.0 remaining 0.0 lastFillPrice 9.89\n",
      "openOrder id: 76 ZEPP STK @ SMART : BUY MKT 10.0 Filled\n",
      "orderStatus - orderid: 76 status: Filled filled 10.0 remaining 0.0 lastFillPrice 9.89\n"
     ]
    },
    {
     "name": "stderr",
     "output_type": "stream",
     "text": [
      "ERROR 76 10148 OrderId 76 that needs to be cancelled cannot be cancelled, state: Filled.\n"
     ]
    },
    {
     "name": "stdout",
     "output_type": "stream",
     "text": [
      "cancelling order\n"
     ]
    },
    {
     "name": "stderr",
     "output_type": "stream",
     "text": [
      "ERROR -1 2104 Market data farm connection is OK:usfarm.nj\n",
      "ERROR -1 2104 Market data farm connection is OK:usfarm\n",
      "ERROR -1 2106 HMDS data farm connection is OK:euhmds\n",
      "ERROR -1 2106 HMDS data farm connection is OK:fundfarm\n",
      "ERROR -1 2106 HMDS data farm connection is OK:ushmds\n",
      "ERROR -1 2158 Sec-def data farm connection is OK:secdefil\n"
     ]
    },
    {
     "name": "stdout",
     "output_type": "stream",
     "text": [
      "waiting for connection\n",
      "openOrder id: 41 PFIE STK @ SMART : BUY MIDPRICE 1.0 Submitted\n",
      "orderStatus - orderid: 41 status: Submitted filled 0.0 remaining 1.0 lastFillPrice 0.0\n",
      "The next valid order id is:  77\n",
      "connected\n",
      "openOrder id: 77 PRAX STK @ SMART : BUY MKT 10.0 PreSubmitted\n",
      "orderStatus - orderid: 77 status: PreSubmitted filled 0.0 remaining 10.0 lastFillPrice 0.0\n",
      "Order Executed:  -1 PRAX STK USD 0000e22a.60d76bf1.01.01 77 10.0 2\n",
      "openOrder id: 77 PRAX STK @ SMART : BUY MKT 10.0 Filled\n",
      "orderStatus - orderid: 77 status: Filled filled 10.0 remaining 0.0 lastFillPrice 21.26\n",
      "openOrder id: 77 PRAX STK @ SMART : BUY MKT 10.0 Filled\n",
      "orderStatus - orderid: 77 status: Filled filled 10.0 remaining 0.0 lastFillPrice 21.26\n"
     ]
    },
    {
     "name": "stderr",
     "output_type": "stream",
     "text": [
      "ERROR 77 10148 OrderId 77 that needs to be cancelled cannot be cancelled, state: Filled.\n"
     ]
    },
    {
     "name": "stdout",
     "output_type": "stream",
     "text": [
      "cancelling order\n"
     ]
    },
    {
     "name": "stderr",
     "output_type": "stream",
     "text": [
      "ERROR -1 2104 Market data farm connection is OK:usfarm.nj\n",
      "ERROR -1 2104 Market data farm connection is OK:usfarm\n",
      "ERROR -1 2106 HMDS data farm connection is OK:euhmds\n",
      "ERROR -1 2106 HMDS data farm connection is OK:fundfarm\n",
      "ERROR -1 2106 HMDS data farm connection is OK:ushmds\n",
      "ERROR -1 2158 Sec-def data farm connection is OK:secdefil\n"
     ]
    },
    {
     "name": "stdout",
     "output_type": "stream",
     "text": [
      "waiting for connection\n",
      "openOrder id: 41 PFIE STK @ SMART : BUY MIDPRICE 1.0 Submitted\n",
      "orderStatus - orderid: 41 status: Submitted filled 0.0 remaining 1.0 lastFillPrice 0.0\n",
      "The next valid order id is:  78\n",
      "connected\n",
      "openOrder id: 78 ETNB STK @ SMART : BUY MKT 10.0 Submitted\n",
      "orderStatus - orderid: 78 status: Submitted filled 0.0 remaining 10.0 lastFillPrice 0.0\n",
      "Order Executed:  -1 ETNB STK USD 0000e0d5.60fce25d.01.01 78 10.0 2\n",
      "openOrder id: 78 ETNB STK @ SMART : BUY MKT 10.0 Filled\n",
      "orderStatus - orderid: 78 status: Filled filled 10.0 remaining 0.0 lastFillPrice 23.06\n",
      "openOrder id: 78 ETNB STK @ SMART : BUY MKT 10.0 Filled\n",
      "orderStatus - orderid: 78 status: Filled filled 10.0 remaining 0.0 lastFillPrice 23.06\n"
     ]
    },
    {
     "name": "stderr",
     "output_type": "stream",
     "text": [
      "ERROR 78 10148 OrderId 78 that needs to be cancelled cannot be cancelled, state: Filled.\n"
     ]
    },
    {
     "name": "stdout",
     "output_type": "stream",
     "text": [
      "cancelling order\n"
     ]
    },
    {
     "name": "stderr",
     "output_type": "stream",
     "text": [
      "ERROR -1 2104 Market data farm connection is OK:usfarm.nj\n",
      "ERROR -1 2104 Market data farm connection is OK:usfarm\n",
      "ERROR -1 2106 HMDS data farm connection is OK:euhmds\n",
      "ERROR -1 2106 HMDS data farm connection is OK:fundfarm\n",
      "ERROR -1 2106 HMDS data farm connection is OK:ushmds\n",
      "ERROR -1 2158 Sec-def data farm connection is OK:secdefil\n"
     ]
    },
    {
     "name": "stdout",
     "output_type": "stream",
     "text": [
      "waiting for connection\n",
      "openOrder id: 41 PFIE STK @ SMART : BUY MIDPRICE 1.0 Submitted\n",
      "orderStatus - orderid: 41 status: Submitted filled 0.0 remaining 1.0 lastFillPrice 0.0\n",
      "The next valid order id is:  79\n",
      "connected\n",
      "openOrder id: 79 BKTI STK @ SMART : BUY MKT 10.0 Submitted\n",
      "orderStatus - orderid: 79 status: Submitted filled 0.0 remaining 10.0 lastFillPrice 0.0\n",
      "Order Executed:  -1 BKTI STK USD 0000e0d5.60fce265.01.01 79 10.0 2\n",
      "openOrder id: 79 BKTI STK @ SMART : BUY MKT 10.0 Filled\n",
      "orderStatus - orderid: 79 status: Filled filled 10.0 remaining 0.0 lastFillPrice 3.92\n",
      "openOrder id: 79 BKTI STK @ SMART : BUY MKT 10.0 Filled\n",
      "orderStatus - orderid: 79 status: Filled filled 10.0 remaining 0.0 lastFillPrice 3.92\n"
     ]
    },
    {
     "name": "stderr",
     "output_type": "stream",
     "text": [
      "ERROR 79 10148 OrderId 79 that needs to be cancelled cannot be cancelled, state: Filled.\n"
     ]
    },
    {
     "name": "stdout",
     "output_type": "stream",
     "text": [
      "cancelling order\n"
     ]
    },
    {
     "name": "stderr",
     "output_type": "stream",
     "text": [
      "ERROR -1 2104 Market data farm connection is OK:usfarm.nj\n",
      "ERROR -1 2104 Market data farm connection is OK:usfarm\n",
      "ERROR -1 2106 HMDS data farm connection is OK:euhmds\n",
      "ERROR -1 2106 HMDS data farm connection is OK:fundfarm\n",
      "ERROR -1 2106 HMDS data farm connection is OK:ushmds\n",
      "ERROR -1 2158 Sec-def data farm connection is OK:secdefil\n"
     ]
    },
    {
     "name": "stdout",
     "output_type": "stream",
     "text": [
      "waiting for connection\n",
      "openOrder id: 41 PFIE STK @ SMART : BUY MIDPRICE 1.0 Submitted\n",
      "orderStatus - orderid: 41 status: Submitted filled 0.0 remaining 1.0 lastFillPrice 0.0\n",
      "The next valid order id is:  80\n",
      "connected\n",
      "openOrder id: 80 VINO STK @ SMART : BUY MKT 10.0 PreSubmitted\n",
      "orderStatus - orderid: 80 status: PreSubmitted filled 0.0 remaining 10.0 lastFillPrice 0.0\n",
      "Order Executed:  -1 VINO STK USD 0000e22a.60d76c55.01.01 80 10.0 2\n",
      "openOrder id: 80 VINO STK @ SMART : BUY MKT 10.0 Filled\n",
      "orderStatus - orderid: 80 status: Filled filled 10.0 remaining 0.0 lastFillPrice 3.81\n",
      "openOrder id: 80 VINO STK @ SMART : BUY MKT 10.0 Filled\n",
      "orderStatus - orderid: 80 status: Filled filled 10.0 remaining 0.0 lastFillPrice 3.81\n"
     ]
    },
    {
     "name": "stderr",
     "output_type": "stream",
     "text": [
      "ERROR 80 10148 OrderId 80 that needs to be cancelled cannot be cancelled, state: Filled.\n"
     ]
    },
    {
     "name": "stdout",
     "output_type": "stream",
     "text": [
      "cancelling order\n"
     ]
    },
    {
     "name": "stderr",
     "output_type": "stream",
     "text": [
      "ERROR -1 2104 Market data farm connection is OK:usfarm.nj\n",
      "ERROR -1 2104 Market data farm connection is OK:usfarm\n",
      "ERROR -1 2106 HMDS data farm connection is OK:euhmds\n",
      "ERROR -1 2106 HMDS data farm connection is OK:fundfarm\n",
      "ERROR -1 2106 HMDS data farm connection is OK:ushmds\n",
      "ERROR -1 2158 Sec-def data farm connection is OK:secdefil\n"
     ]
    },
    {
     "name": "stdout",
     "output_type": "stream",
     "text": [
      "waiting for connection\n",
      "openOrder id: 41 PFIE STK @ SMART : BUY MIDPRICE 1.0 Submitted\n",
      "orderStatus - orderid: 41 status: Submitted filled 0.0 remaining 1.0 lastFillPrice 0.0\n",
      "The next valid order id is:  81\n",
      "connected\n",
      "openOrder id: 81 PRLD STK @ SMART : BUY MKT 10.0 Submitted\n",
      "orderStatus - orderid: 81 status: Submitted filled 0.0 remaining 10.0 lastFillPrice 0.0\n",
      "Order Executed:  -1 PRLD STK USD 0000e22a.60d76c6e.01.01 81 10.0 2\n",
      "openOrder id: 81 PRLD STK @ SMART : BUY MKT 10.0 Filled\n",
      "orderStatus - orderid: 81 status: Filled filled 10.0 remaining 0.0 lastFillPrice 41.73\n",
      "openOrder id: 81 PRLD STK @ SMART : BUY MKT 10.0 Filled\n",
      "orderStatus - orderid: 81 status: Filled filled 10.0 remaining 0.0 lastFillPrice 41.73\n"
     ]
    },
    {
     "name": "stderr",
     "output_type": "stream",
     "text": [
      "ERROR 81 10148 OrderId 81 that needs to be cancelled cannot be cancelled, state: Filled.\n"
     ]
    },
    {
     "name": "stdout",
     "output_type": "stream",
     "text": [
      "cancelling order\n"
     ]
    },
    {
     "name": "stderr",
     "output_type": "stream",
     "text": [
      "ERROR -1 2104 Market data farm connection is OK:usfarm.nj\n",
      "ERROR -1 2104 Market data farm connection is OK:usfarm\n",
      "ERROR -1 2106 HMDS data farm connection is OK:euhmds\n",
      "ERROR -1 2106 HMDS data farm connection is OK:fundfarm\n",
      "ERROR -1 2106 HMDS data farm connection is OK:ushmds\n",
      "ERROR -1 2158 Sec-def data farm connection is OK:secdefil\n"
     ]
    },
    {
     "name": "stdout",
     "output_type": "stream",
     "text": [
      "waiting for connection\n",
      "openOrder id: 41 PFIE STK @ SMART : BUY MIDPRICE 1.0 Submitted\n",
      "orderStatus - orderid: 41 status: Submitted filled 0.0 remaining 1.0 lastFillPrice 0.0\n",
      "The next valid order id is:  82\n",
      "connected\n",
      "openOrder id: 82 OPGN STK @ SMART : BUY MKT 10.0 Submitted\n",
      "orderStatus - orderid: 82 status: Submitted filled 0.0 remaining 10.0 lastFillPrice 0.0\n",
      "Order Executed:  -1 OPGN STK USD 0000e22a.60d76c8f.01.01 82 10.0 2\n",
      "openOrder id: 82 OPGN STK @ SMART : BUY MKT 10.0 Filled\n",
      "orderStatus - orderid: 82 status: Filled filled 10.0 remaining 0.0 lastFillPrice 2.06\n",
      "openOrder id: 82 OPGN STK @ SMART : BUY MKT 10.0 Filled\n",
      "orderStatus - orderid: 82 status: Filled filled 10.0 remaining 0.0 lastFillPrice 2.06\n"
     ]
    },
    {
     "name": "stderr",
     "output_type": "stream",
     "text": [
      "ERROR 82 10148 OrderId 82 that needs to be cancelled cannot be cancelled, state: Filled.\n"
     ]
    },
    {
     "name": "stdout",
     "output_type": "stream",
     "text": [
      "cancelling order\n"
     ]
    },
    {
     "name": "stderr",
     "output_type": "stream",
     "text": [
      "ERROR -1 2104 Market data farm connection is OK:usfarm.nj\n",
      "ERROR -1 2104 Market data farm connection is OK:usfarm\n",
      "ERROR -1 2106 HMDS data farm connection is OK:euhmds\n",
      "ERROR -1 2106 HMDS data farm connection is OK:fundfarm\n",
      "ERROR -1 2106 HMDS data farm connection is OK:ushmds\n",
      "ERROR -1 2158 Sec-def data farm connection is OK:secdefil\n"
     ]
    },
    {
     "name": "stdout",
     "output_type": "stream",
     "text": [
      "waiting for connection\n",
      "openOrder id: 41 PFIE STK @ SMART : BUY MIDPRICE 1.0 Submitted\n",
      "orderStatus - orderid: 41 status: Submitted filled 0.0 remaining 1.0 lastFillPrice 0.0\n",
      "The next valid order id is:  83\n",
      "connected\n",
      "openOrder id: 83 BEEM STK @ SMART : BUY MKT 10.0 Submitted\n",
      "orderStatus - orderid: 83 status: Submitted filled 0.0 remaining 10.0 lastFillPrice 0.0\n",
      "Order Executed:  -1 BEEM STK USD 0000e0d5.60fce296.01.01 83 10.0 2\n",
      "openOrder id: 83 BEEM STK @ SMART : BUY MKT 10.0 Filled\n",
      "orderStatus - orderid: 83 status: Filled filled 10.0 remaining 0.0 lastFillPrice 24.24\n",
      "openOrder id: 83 BEEM STK @ SMART : BUY MKT 10.0 Filled\n",
      "orderStatus - orderid: 83 status: Filled filled 10.0 remaining 0.0 lastFillPrice 24.24\n"
     ]
    },
    {
     "name": "stderr",
     "output_type": "stream",
     "text": [
      "ERROR 83 10148 OrderId 83 that needs to be cancelled cannot be cancelled, state: Filled.\n"
     ]
    },
    {
     "name": "stdout",
     "output_type": "stream",
     "text": [
      "cancelling order\n"
     ]
    },
    {
     "name": "stderr",
     "output_type": "stream",
     "text": [
      "ERROR -1 2104 Market data farm connection is OK:usfarm.nj\n",
      "ERROR -1 2104 Market data farm connection is OK:usfarm\n",
      "ERROR -1 2106 HMDS data farm connection is OK:euhmds\n",
      "ERROR -1 2106 HMDS data farm connection is OK:fundfarm\n",
      "ERROR -1 2106 HMDS data farm connection is OK:ushmds\n",
      "ERROR -1 2158 Sec-def data farm connection is OK:secdefil\n"
     ]
    },
    {
     "name": "stdout",
     "output_type": "stream",
     "text": [
      "waiting for connection\n",
      "openOrder id: 41 PFIE STK @ SMART : BUY MIDPRICE 1.0 Submitted\n",
      "orderStatus - orderid: 41 status: Submitted filled 0.0 remaining 1.0 lastFillPrice 0.0\n",
      "The next valid order id is:  84\n",
      "connected\n",
      "openOrder id: 84 REKR STK @ SMART : BUY MKT 10.0 PreSubmitted\n",
      "orderStatus - orderid: 84 status: PreSubmitted filled 0.0 remaining 10.0 lastFillPrice 0.0\n",
      "Order Executed:  -1 REKR STK USD 0000e22a.60d76cce.01.01 84 10.0 2\n",
      "openOrder id: 84 REKR STK @ SMART : BUY MKT 10.0 Filled\n",
      "orderStatus - orderid: 84 status: Filled filled 10.0 remaining 0.0 lastFillPrice 10.41\n",
      "openOrder id: 84 REKR STK @ SMART : BUY MKT 10.0 Filled\n",
      "orderStatus - orderid: 84 status: Filled filled 10.0 remaining 0.0 lastFillPrice 10.41\n"
     ]
    },
    {
     "name": "stderr",
     "output_type": "stream",
     "text": [
      "ERROR 84 10148 OrderId 84 that needs to be cancelled cannot be cancelled, state: Filled.\n"
     ]
    },
    {
     "name": "stdout",
     "output_type": "stream",
     "text": [
      "cancelling order\n"
     ]
    },
    {
     "name": "stderr",
     "output_type": "stream",
     "text": [
      "ERROR -1 2104 Market data farm connection is OK:usfarm.nj\n",
      "ERROR -1 2104 Market data farm connection is OK:usfarm\n",
      "ERROR -1 2106 HMDS data farm connection is OK:euhmds\n",
      "ERROR -1 2106 HMDS data farm connection is OK:fundfarm\n",
      "ERROR -1 2106 HMDS data farm connection is OK:ushmds\n",
      "ERROR -1 2158 Sec-def data farm connection is OK:secdefil\n"
     ]
    },
    {
     "name": "stdout",
     "output_type": "stream",
     "text": [
      "waiting for connection\n",
      "openOrder id: 41 PFIE STK @ SMART : BUY MIDPRICE 1.0 Submitted\n",
      "orderStatus - orderid: 41 status: Submitted filled 0.0 remaining 1.0 lastFillPrice 0.0\n",
      "The next valid order id is:  85\n",
      "connected\n",
      "openOrder id: 85 AHPI STK @ SMART : BUY MKT 10.0 Submitted\n",
      "orderStatus - orderid: 85 status: Submitted filled 0.0 remaining 10.0 lastFillPrice 0.0\n",
      "Order Executed:  -1 AHPI STK USD 0000e0d5.60fce2b6.01.01 85 10.0 2\n",
      "openOrder id: 85 AHPI STK @ SMART : BUY MKT 10.0 Filled\n",
      "orderStatus - orderid: 85 status: Filled filled 10.0 remaining 0.0 lastFillPrice 4.0\n",
      "openOrder id: 85 AHPI STK @ SMART : BUY MKT 10.0 Filled\n",
      "orderStatus - orderid: 85 status: Filled filled 10.0 remaining 0.0 lastFillPrice 4.0\n"
     ]
    },
    {
     "name": "stderr",
     "output_type": "stream",
     "text": [
      "ERROR 85 10148 OrderId 85 that needs to be cancelled cannot be cancelled, state: Filled.\n"
     ]
    },
    {
     "name": "stdout",
     "output_type": "stream",
     "text": [
      "cancelling order\n"
     ]
    },
    {
     "name": "stderr",
     "output_type": "stream",
     "text": [
      "ERROR -1 2104 Market data farm connection is OK:usfarm.nj\n",
      "ERROR -1 2104 Market data farm connection is OK:usfarm\n",
      "ERROR -1 2106 HMDS data farm connection is OK:euhmds\n",
      "ERROR -1 2106 HMDS data farm connection is OK:fundfarm\n",
      "ERROR -1 2106 HMDS data farm connection is OK:ushmds\n",
      "ERROR -1 2158 Sec-def data farm connection is OK:secdefil\n"
     ]
    },
    {
     "name": "stdout",
     "output_type": "stream",
     "text": [
      "waiting for connection\n",
      "openOrder id: 41 PFIE STK @ SMART : BUY MIDPRICE 1.0 Submitted\n",
      "orderStatus - orderid: 41 status: Submitted filled 0.0 remaining 1.0 lastFillPrice 0.0\n",
      "The next valid order id is:  86\n",
      "connected\n",
      "openOrder id: 86 DQ STK @ SMART : BUY MKT 10.0 PreSubmitted\n",
      "orderStatus - orderid: 86 status: PreSubmitted filled 0.0 remaining 10.0 lastFillPrice 0.0\n",
      "Order Executed:  -1 DQ STK USD 0000e0d5.60fce2b9.01.01 86 10.0 2\n",
      "openOrder id: 86 DQ STK @ SMART : BUY MKT 10.0 Filled\n",
      "orderStatus - orderid: 86 status: Filled filled 10.0 remaining 0.0 lastFillPrice 70.39\n",
      "openOrder id: 86 DQ STK @ SMART : BUY MKT 10.0 Filled\n",
      "orderStatus - orderid: 86 status: Filled filled 10.0 remaining 0.0 lastFillPrice 70.39\n"
     ]
    },
    {
     "name": "stderr",
     "output_type": "stream",
     "text": [
      "ERROR 86 10148 OrderId 86 that needs to be cancelled cannot be cancelled, state: Filled.\n"
     ]
    },
    {
     "name": "stdout",
     "output_type": "stream",
     "text": [
      "cancelling order\n"
     ]
    },
    {
     "name": "stderr",
     "output_type": "stream",
     "text": [
      "ERROR -1 2104 Market data farm connection is OK:usfarm.nj\n",
      "ERROR -1 2104 Market data farm connection is OK:usfarm\n",
      "ERROR -1 2106 HMDS data farm connection is OK:euhmds\n",
      "ERROR -1 2106 HMDS data farm connection is OK:fundfarm\n",
      "ERROR -1 2106 HMDS data farm connection is OK:ushmds\n",
      "ERROR -1 2158 Sec-def data farm connection is OK:secdefil\n"
     ]
    },
    {
     "name": "stdout",
     "output_type": "stream",
     "text": [
      "waiting for connection\n",
      "openOrder id: 41 PFIE STK @ SMART : BUY MIDPRICE 1.0 Submitted\n",
      "orderStatus - orderid: 41 status: Submitted filled 0.0 remaining 1.0 lastFillPrice 0.0\n",
      "The next valid order id is:  87\n",
      "connected\n",
      "openOrder id: 87 LIVE STK @ SMART : BUY MKT 10.0 PreSubmitted\n",
      "orderStatus - orderid: 87 status: PreSubmitted filled 0.0 remaining 10.0 lastFillPrice 0.0\n",
      "Order Executed:  -1 LIVE STK USD 0000e22a.60d76d3e.01.01 87 10.0 2\n",
      "openOrder id: 87 LIVE STK @ SMART : BUY MKT 10.0 Filled\n",
      "orderStatus - orderid: 87 status: Filled filled 10.0 remaining 0.0 lastFillPrice 42.45\n",
      "openOrder id: 87 LIVE STK @ SMART : BUY MKT 10.0 Filled\n",
      "orderStatus - orderid: 87 status: Filled filled 10.0 remaining 0.0 lastFillPrice 42.45\n"
     ]
    },
    {
     "name": "stderr",
     "output_type": "stream",
     "text": [
      "ERROR 87 10148 OrderId 87 that needs to be cancelled cannot be cancelled, state: Filled.\n"
     ]
    },
    {
     "name": "stdout",
     "output_type": "stream",
     "text": [
      "cancelling order\n"
     ]
    },
    {
     "name": "stderr",
     "output_type": "stream",
     "text": [
      "ERROR -1 2104 Market data farm connection is OK:usfarm.nj\n",
      "ERROR -1 2104 Market data farm connection is OK:usfarm\n",
      "ERROR -1 2106 HMDS data farm connection is OK:euhmds\n",
      "ERROR -1 2106 HMDS data farm connection is OK:fundfarm\n",
      "ERROR -1 2106 HMDS data farm connection is OK:ushmds\n",
      "ERROR -1 2158 Sec-def data farm connection is OK:secdefil\n"
     ]
    },
    {
     "name": "stdout",
     "output_type": "stream",
     "text": [
      "waiting for connection\n",
      "openOrder id: 41 PFIE STK @ SMART : BUY MIDPRICE 1.0 Submitted\n",
      "orderStatus - orderid: 41 status: Submitted filled 0.0 remaining 1.0 lastFillPrice 0.0\n",
      "The next valid order id is:  88\n",
      "connected\n",
      "openOrder id: 88 GMBL STK @ SMART : BUY MKT 10.0 Submitted\n",
      "orderStatus - orderid: 88 status: Submitted filled 0.0 remaining 10.0 lastFillPrice 0.0\n",
      "Order Executed:  -1 GMBL STK USD 0000e0d5.60fce2ff.01.01 88 10.0 2\n",
      "openOrder id: 88 GMBL STK @ SMART : BUY MKT 10.0 Filled\n",
      "orderStatus - orderid: 88 status: Filled filled 10.0 remaining 0.0 lastFillPrice 9.9\n",
      "openOrder id: 88 GMBL STK @ SMART : BUY MKT 10.0 Filled\n",
      "orderStatus - orderid: 88 status: Filled filled 10.0 remaining 0.0 lastFillPrice 9.9\n"
     ]
    },
    {
     "name": "stderr",
     "output_type": "stream",
     "text": [
      "ERROR 88 10148 OrderId 88 that needs to be cancelled cannot be cancelled, state: Filled.\n"
     ]
    },
    {
     "name": "stdout",
     "output_type": "stream",
     "text": [
      "cancelling order\n"
     ]
    },
    {
     "name": "stderr",
     "output_type": "stream",
     "text": [
      "ERROR -1 2104 Market data farm connection is OK:usfarm.nj\n",
      "ERROR -1 2104 Market data farm connection is OK:usfarm\n",
      "ERROR -1 2106 HMDS data farm connection is OK:euhmds\n",
      "ERROR -1 2106 HMDS data farm connection is OK:fundfarm\n",
      "ERROR -1 2106 HMDS data farm connection is OK:ushmds\n",
      "ERROR -1 2158 Sec-def data farm connection is OK:secdefil\n"
     ]
    },
    {
     "name": "stdout",
     "output_type": "stream",
     "text": [
      "waiting for connection\n",
      "openOrder id: 41 PFIE STK @ SMART : BUY MIDPRICE 1.0 Submitted\n",
      "orderStatus - orderid: 41 status: Submitted filled 0.0 remaining 1.0 lastFillPrice 0.0\n",
      "The next valid order id is:  89\n",
      "connected\n",
      "openOrder id: 89 MREO STK @ SMART : BUY MKT 10.0 Submitted\n",
      "orderStatus - orderid: 89 status: Submitted filled 0.0 remaining 10.0 lastFillPrice 0.0\n",
      "Order Executed:  -1 MREO STK USD 0000e22a.60d76d9f.01.01 89 10.0 2\n",
      "openOrder id: 89 MREO STK @ SMART : BUY MKT 10.0 Filled\n",
      "orderStatus - orderid: 89 status: Filled filled 10.0 remaining 0.0 lastFillPrice 3.21\n",
      "openOrder id: 89 MREO STK @ SMART : BUY MKT 10.0 Filled\n",
      "orderStatus - orderid: 89 status: Filled filled 10.0 remaining 0.0 lastFillPrice 3.21\n"
     ]
    },
    {
     "name": "stderr",
     "output_type": "stream",
     "text": [
      "ERROR 89 10148 OrderId 89 that needs to be cancelled cannot be cancelled, state: Filled.\n"
     ]
    },
    {
     "name": "stdout",
     "output_type": "stream",
     "text": [
      "cancelling order\n"
     ]
    },
    {
     "name": "stderr",
     "output_type": "stream",
     "text": [
      "ERROR -1 2104 Market data farm connection is OK:usfarm.nj\n",
      "ERROR -1 2104 Market data farm connection is OK:usfarm\n",
      "ERROR -1 2106 HMDS data farm connection is OK:euhmds\n",
      "ERROR -1 2106 HMDS data farm connection is OK:fundfarm\n",
      "ERROR -1 2106 HMDS data farm connection is OK:ushmds\n",
      "ERROR -1 2158 Sec-def data farm connection is OK:secdefil\n"
     ]
    },
    {
     "name": "stdout",
     "output_type": "stream",
     "text": [
      "waiting for connection\n",
      "openOrder id: 41 PFIE STK @ SMART : BUY MIDPRICE 1.0 Submitted\n",
      "orderStatus - orderid: 41 status: Submitted filled 0.0 remaining 1.0 lastFillPrice 0.0\n",
      "The next valid order id is:  90\n",
      "connected\n",
      "openOrder id: 90 YVR STK @ SMART : BUY MKT 10.0 Submitted\n",
      "orderStatus - orderid: 90 status: Submitted filled 0.0 remaining 10.0 lastFillPrice 0.0\n",
      "Order Executed:  -1 YVR STK USD 0000e22a.60d76db4.01.01 90 10.0 2\n",
      "openOrder id: 90 YVR STK @ SMART : BUY MKT 10.0 Filled\n",
      "orderStatus - orderid: 90 status: Filled filled 10.0 remaining 0.0 lastFillPrice 1.95\n",
      "openOrder id: 90 YVR STK @ SMART : BUY MKT 10.0 Filled\n",
      "orderStatus - orderid: 90 status: Filled filled 10.0 remaining 0.0 lastFillPrice 1.95\n"
     ]
    },
    {
     "name": "stderr",
     "output_type": "stream",
     "text": [
      "ERROR 90 10148 OrderId 90 that needs to be cancelled cannot be cancelled, state: Filled.\n"
     ]
    },
    {
     "name": "stdout",
     "output_type": "stream",
     "text": [
      "cancelling order\n"
     ]
    },
    {
     "name": "stderr",
     "output_type": "stream",
     "text": [
      "ERROR -1 2104 Market data farm connection is OK:usfarm.nj\n",
      "ERROR -1 2104 Market data farm connection is OK:usfarm\n",
      "ERROR -1 2106 HMDS data farm connection is OK:euhmds\n",
      "ERROR -1 2106 HMDS data farm connection is OK:fundfarm\n",
      "ERROR -1 2106 HMDS data farm connection is OK:ushmds\n",
      "ERROR -1 2158 Sec-def data farm connection is OK:secdefil\n"
     ]
    },
    {
     "name": "stdout",
     "output_type": "stream",
     "text": [
      "waiting for connection\n",
      "openOrder id: 41 PFIE STK @ SMART : BUY MIDPRICE 1.0 Submitted\n",
      "orderStatus - orderid: 41 status: Submitted filled 0.0 remaining 1.0 lastFillPrice 0.0\n",
      "The next valid order id is:  91\n",
      "connected\n",
      "openOrder id: 91 LIZI STK @ SMART : BUY MKT 10.0 Submitted\n",
      "orderStatus - orderid: 91 status: Submitted filled 0.0 remaining 10.0 lastFillPrice 0.0\n",
      "Order Executed:  -1 LIZI STK USD 0000e22a.60d76dd0.01.01 91 10.0 2\n",
      "openOrder id: 91 LIZI STK @ SMART : BUY MKT 10.0 Filled\n",
      "orderStatus - orderid: 91 status: Filled filled 10.0 remaining 0.0 lastFillPrice 4.87\n",
      "openOrder id: 91 LIZI STK @ SMART : BUY MKT 10.0 Filled\n",
      "orderStatus - orderid: 91 status: Filled filled 10.0 remaining 0.0 lastFillPrice 4.87\n"
     ]
    },
    {
     "name": "stderr",
     "output_type": "stream",
     "text": [
      "ERROR 91 10148 OrderId 91 that needs to be cancelled cannot be cancelled, state: Filled.\n"
     ]
    },
    {
     "name": "stdout",
     "output_type": "stream",
     "text": [
      "cancelling order\n"
     ]
    },
    {
     "name": "stderr",
     "output_type": "stream",
     "text": [
      "ERROR -1 2104 Market data farm connection is OK:usfarm.nj\n",
      "ERROR -1 2104 Market data farm connection is OK:usfarm\n",
      "ERROR -1 2106 HMDS data farm connection is OK:euhmds\n",
      "ERROR -1 2106 HMDS data farm connection is OK:fundfarm\n",
      "ERROR -1 2106 HMDS data farm connection is OK:ushmds\n",
      "ERROR -1 2158 Sec-def data farm connection is OK:secdefil\n"
     ]
    },
    {
     "name": "stdout",
     "output_type": "stream",
     "text": [
      "waiting for connection\n",
      "openOrder id: 41 PFIE STK @ SMART : BUY MIDPRICE 1.0 Submitted\n",
      "orderStatus - orderid: 41 status: Submitted filled 0.0 remaining 1.0 lastFillPrice 0.0\n",
      "The next valid order id is:  92\n",
      "connected\n"
     ]
    },
    {
     "name": "stderr",
     "output_type": "stream",
     "text": [
      "ERROR 92 2161 In accordance with our regulatory obligations as a broker, we will initially cap\n",
      "(or limit) the price of your Limit Order to BUY 10 REPX AMEX\n",
      "\n",
      "In accordance with our regulatory obligations as a broker, we will initially cap\n",
      "(or limit) the price of your Limit Order to 35.48 or a more aggressive price still\n",
      "within your specified limit price.\n",
      "\n",
      "If your order is not immediately executable, our systems may, depending on\n",
      "market conditions, cap your order to a limit price that is no more than the\n",
      "allowed amount away from the reference price at that time. If this happens, you\n",
      "will not receive a fill. This is a control designed to ensure that we comply with our\n",
      "regulatory obligations to avoid submitting disruptive orders to the marketplace.\n",
      "Please note that in some circumstances this may result in you receiving a\n",
      "less favorable fill or not receiving a fill.\n",
      "\n",
      "In the future, please submit your order using a limit price that is closer to\n",
      "the current market price or submit an algorithmic Market Order (IBALGO).\n",
      "\n",
      "If you would like to cancel your order, please use cancel order action. or a more aggressive price still\n",
      "within your specified limit price.\n",
      "\n",
      "If your order is not immediately executable, our systems may, depending on\n",
      "market conditions, cap your order to a limit price that is no more than the\n",
      "allowed amount away from the reference price at that time. If this happens, you\n",
      "will not receive a fill. This is a control designed to ensure that we comply with our\n",
      "regulatory obligations to avoid submitting disruptive orders to the marketplace.\n",
      "Please note that in some circumstances this may result in you receiving a\n",
      "less favorable fill or not receiving a fill.\n",
      "\n",
      "In the future, please submit your order using a limit price that is closer to\n",
      "the current market price or submit an algorithmic Market Order (IBALGO).\n",
      "\n",
      "If you would like to cancel your order, please use cancel order action.\n"
     ]
    },
    {
     "name": "stdout",
     "output_type": "stream",
     "text": [
      "openOrder id: 92 REPX STK @ SMART : BUY MKT 10.0 Submitted\n",
      "orderStatus - orderid: 92 status: Submitted filled 0.0 remaining 10.0 lastFillPrice 0.0\n",
      "Order Executed:  -1 REPX STK USD 0000e22a.60d76dea.01.01 92 10.0 2\n",
      "openOrder id: 92 REPX STK @ SMART : BUY MKT 10.0 Filled\n",
      "orderStatus - orderid: 92 status: Filled filled 10.0 remaining 0.0 lastFillPrice 35.48\n",
      "openOrder id: 92 REPX STK @ SMART : BUY MKT 10.0 Filled\n",
      "orderStatus - orderid: 92 status: Filled filled 10.0 remaining 0.0 lastFillPrice 35.48\n"
     ]
    },
    {
     "name": "stderr",
     "output_type": "stream",
     "text": [
      "ERROR 92 10148 OrderId 92 that needs to be cancelled cannot be cancelled, state: Filled.\n"
     ]
    },
    {
     "name": "stdout",
     "output_type": "stream",
     "text": [
      "cancelling order\n"
     ]
    },
    {
     "name": "stderr",
     "output_type": "stream",
     "text": [
      "ERROR -1 2104 Market data farm connection is OK:usfarm.nj\n",
      "ERROR -1 2104 Market data farm connection is OK:usfarm\n",
      "ERROR -1 2106 HMDS data farm connection is OK:euhmds\n",
      "ERROR -1 2106 HMDS data farm connection is OK:fundfarm\n",
      "ERROR -1 2106 HMDS data farm connection is OK:ushmds\n",
      "ERROR -1 2158 Sec-def data farm connection is OK:secdefil\n"
     ]
    },
    {
     "name": "stdout",
     "output_type": "stream",
     "text": [
      "waiting for connection\n",
      "openOrder id: 41 PFIE STK @ SMART : BUY MIDPRICE 1.0 Submitted\n",
      "orderStatus - orderid: 41 status: Submitted filled 0.0 remaining 1.0 lastFillPrice 0.0\n",
      "The next valid order id is:  93\n",
      "connected\n",
      "openOrder id: 93 PBF STK @ SMART : BUY MKT 10.0 Submitted\n",
      "orderStatus - orderid: 93 status: Submitted filled 0.0 remaining 10.0 lastFillPrice 0.0\n",
      "Order Executed:  -1 PBF STK USD 0000e22a.60d76e19.01.01 93 10.0 2\n",
      "openOrder id: 93 PBF STK @ SMART : BUY MKT 10.0 Filled\n",
      "orderStatus - orderid: 93 status: Filled filled 10.0 remaining 0.0 lastFillPrice 16.2\n",
      "openOrder id: 93 PBF STK @ SMART : BUY MKT 10.0 Filled\n",
      "orderStatus - orderid: 93 status: Filled filled 10.0 remaining 0.0 lastFillPrice 16.2\n"
     ]
    },
    {
     "name": "stderr",
     "output_type": "stream",
     "text": [
      "ERROR 93 10148 OrderId 93 that needs to be cancelled cannot be cancelled, state: Filled.\n"
     ]
    },
    {
     "name": "stdout",
     "output_type": "stream",
     "text": [
      "cancelling order\n"
     ]
    },
    {
     "name": "stderr",
     "output_type": "stream",
     "text": [
      "ERROR -1 2104 Market data farm connection is OK:usfarm.nj\n",
      "ERROR -1 2104 Market data farm connection is OK:usfarm\n",
      "ERROR -1 2106 HMDS data farm connection is OK:euhmds\n",
      "ERROR -1 2106 HMDS data farm connection is OK:fundfarm\n",
      "ERROR -1 2106 HMDS data farm connection is OK:ushmds\n",
      "ERROR -1 2158 Sec-def data farm connection is OK:secdefil\n"
     ]
    },
    {
     "name": "stdout",
     "output_type": "stream",
     "text": [
      "waiting for connection\n",
      "openOrder id: 41 PFIE STK @ SMART : BUY MIDPRICE 1.0 Submitted\n",
      "orderStatus - orderid: 41 status: Submitted filled 0.0 remaining 1.0 lastFillPrice 0.0\n",
      "The next valid order id is:  94\n",
      "connected\n",
      "openOrder id: 94 CSCW STK @ SMART : BUY MKT 10.0 PreSubmitted\n",
      "orderStatus - orderid: 94 status: PreSubmitted filled 0.0 remaining 10.0 lastFillPrice 0.0\n",
      "Order Executed:  -1 CSCW STK USD 0000e0d5.60fce380.01.01 94 10.0 2\n",
      "openOrder id: 94 CSCW STK @ SMART : BUY MKT 10.0 Filled\n",
      "orderStatus - orderid: 94 status: Filled filled 10.0 remaining 0.0 lastFillPrice 0.9735\n",
      "openOrder id: 94 CSCW STK @ SMART : BUY MKT 10.0 Filled\n",
      "orderStatus - orderid: 94 status: Filled filled 10.0 remaining 0.0 lastFillPrice 0.9735\n"
     ]
    },
    {
     "name": "stderr",
     "output_type": "stream",
     "text": [
      "ERROR 94 10148 OrderId 94 that needs to be cancelled cannot be cancelled, state: Filled.\n"
     ]
    },
    {
     "name": "stdout",
     "output_type": "stream",
     "text": [
      "cancelling order\n"
     ]
    },
    {
     "name": "stderr",
     "output_type": "stream",
     "text": [
      "ERROR -1 2104 Market data farm connection is OK:usfarm.nj\n",
      "ERROR -1 2104 Market data farm connection is OK:usfarm\n",
      "ERROR -1 2106 HMDS data farm connection is OK:euhmds\n",
      "ERROR -1 2106 HMDS data farm connection is OK:fundfarm\n",
      "ERROR -1 2106 HMDS data farm connection is OK:ushmds\n",
      "ERROR -1 2158 Sec-def data farm connection is OK:secdefil\n"
     ]
    },
    {
     "name": "stdout",
     "output_type": "stream",
     "text": [
      "waiting for connection\n",
      "openOrder id: 41 PFIE STK @ SMART : BUY MIDPRICE 1.0 Submitted\n",
      "orderStatus - orderid: 41 status: Submitted filled 0.0 remaining 1.0 lastFillPrice 0.0\n",
      "The next valid order id is:  95\n",
      "connected\n",
      "openOrder id: 95 FEDU STK @ SMART : BUY MKT 10.0 Submitted\n",
      "orderStatus - orderid: 95 status: Submitted filled 0.0 remaining 10.0 lastFillPrice 0.0\n",
      "Order Executed:  -1 FEDU STK USD 0000e0d5.60fce392.01.01 95 10.0 2\n",
      "openOrder id: 95 FEDU STK @ SMART : BUY MKT 10.0 Filled\n",
      "orderStatus - orderid: 95 status: Filled filled 10.0 remaining 0.0 lastFillPrice 0.958\n",
      "openOrder id: 95 FEDU STK @ SMART : BUY MKT 10.0 Filled\n",
      "orderStatus - orderid: 95 status: Filled filled 10.0 remaining 0.0 lastFillPrice 0.958\n"
     ]
    },
    {
     "name": "stderr",
     "output_type": "stream",
     "text": [
      "ERROR 95 10148 OrderId 95 that needs to be cancelled cannot be cancelled, state: Filled.\n"
     ]
    },
    {
     "name": "stdout",
     "output_type": "stream",
     "text": [
      "cancelling order\n"
     ]
    },
    {
     "name": "stderr",
     "output_type": "stream",
     "text": [
      "ERROR -1 2104 Market data farm connection is OK:usfarm.nj\n",
      "ERROR -1 2104 Market data farm connection is OK:usfarm\n",
      "ERROR -1 2106 HMDS data farm connection is OK:euhmds\n",
      "ERROR -1 2106 HMDS data farm connection is OK:fundfarm\n",
      "ERROR -1 2106 HMDS data farm connection is OK:ushmds\n",
      "ERROR -1 2158 Sec-def data farm connection is OK:secdefil\n"
     ]
    },
    {
     "name": "stdout",
     "output_type": "stream",
     "text": [
      "waiting for connection\n",
      "openOrder id: 41 PFIE STK @ SMART : BUY MIDPRICE 1.0 Submitted\n",
      "orderStatus - orderid: 41 status: Submitted filled 0.0 remaining 1.0 lastFillPrice 0.0\n",
      "The next valid order id is:  96\n",
      "connected\n",
      "openOrder id: 96 GNCA STK @ SMART : BUY MKT 10.0 Submitted\n",
      "orderStatus - orderid: 96 status: Submitted filled 0.0 remaining 10.0 lastFillPrice 0.0\n",
      "Order Executed:  -1 GNCA STK USD 0000e0d5.60fce3a1.01.01 96 10.0 2\n",
      "openOrder id: 96 GNCA STK @ SMART : BUY MKT 10.0 Filled\n",
      "orderStatus - orderid: 96 status: Filled filled 10.0 remaining 0.0 lastFillPrice 2.36\n",
      "openOrder id: 96 GNCA STK @ SMART : BUY MKT 10.0 Filled\n",
      "orderStatus - orderid: 96 status: Filled filled 10.0 remaining 0.0 lastFillPrice 2.36\n"
     ]
    },
    {
     "name": "stderr",
     "output_type": "stream",
     "text": [
      "ERROR 96 10148 OrderId 96 that needs to be cancelled cannot be cancelled, state: Filled.\n"
     ]
    },
    {
     "name": "stdout",
     "output_type": "stream",
     "text": [
      "cancelling order\n"
     ]
    },
    {
     "name": "stderr",
     "output_type": "stream",
     "text": [
      "ERROR -1 2104 Market data farm connection is OK:usfarm.nj\n",
      "ERROR -1 2104 Market data farm connection is OK:usfarm\n",
      "ERROR -1 2106 HMDS data farm connection is OK:euhmds\n",
      "ERROR -1 2106 HMDS data farm connection is OK:fundfarm\n",
      "ERROR -1 2106 HMDS data farm connection is OK:ushmds\n",
      "ERROR -1 2158 Sec-def data farm connection is OK:secdefil\n"
     ]
    },
    {
     "name": "stdout",
     "output_type": "stream",
     "text": [
      "waiting for connection\n",
      "openOrder id: 41 PFIE STK @ SMART : BUY MIDPRICE 1.0 Submitted\n",
      "orderStatus - orderid: 41 status: Submitted filled 0.0 remaining 1.0 lastFillPrice 0.0\n",
      "The next valid order id is:  97\n",
      "connected\n",
      "openOrder id: 97 PFIE STK @ SMART : BUY MKT 10.0 PreSubmitted\n",
      "orderStatus - orderid: 97 status: PreSubmitted filled 0.0 remaining 10.0 lastFillPrice 0.0\n",
      "Order Executed:  -1 PFIE STK USD 0000e22a.60d76ee2.01.01 97 10.0 2\n",
      "openOrder id: 97 PFIE STK @ SMART : BUY MKT 10.0 Filled\n",
      "orderStatus - orderid: 97 status: Filled filled 10.0 remaining 0.0 lastFillPrice 1.09\n",
      "openOrder id: 97 PFIE STK @ SMART : BUY MKT 10.0 Filled\n",
      "orderStatus - orderid: 97 status: Filled filled 10.0 remaining 0.0 lastFillPrice 1.09\n"
     ]
    },
    {
     "name": "stderr",
     "output_type": "stream",
     "text": [
      "ERROR 97 10148 OrderId 97 that needs to be cancelled cannot be cancelled, state: Filled.\n"
     ]
    },
    {
     "name": "stdout",
     "output_type": "stream",
     "text": [
      "cancelling order\n"
     ]
    },
    {
     "name": "stderr",
     "output_type": "stream",
     "text": [
      "ERROR -1 2104 Market data farm connection is OK:usfarm.nj\n",
      "ERROR -1 2104 Market data farm connection is OK:usfarm\n",
      "ERROR -1 2106 HMDS data farm connection is OK:euhmds\n",
      "ERROR -1 2106 HMDS data farm connection is OK:fundfarm\n",
      "ERROR -1 2106 HMDS data farm connection is OK:ushmds\n",
      "ERROR -1 2158 Sec-def data farm connection is OK:secdefil\n"
     ]
    },
    {
     "name": "stdout",
     "output_type": "stream",
     "text": [
      "waiting for connection\n",
      "openOrder id: 41 PFIE STK @ SMART : BUY MIDPRICE 1.0 Submitted\n",
      "orderStatus - orderid: 41 status: Submitted filled 0.0 remaining 1.0 lastFillPrice 0.0\n",
      "The next valid order id is:  98\n",
      "connected\n",
      "openOrder id: 98 OCG STK @ SMART : BUY MKT 10.0 Submitted\n",
      "orderStatus - orderid: 98 status: Submitted filled 0.0 remaining 10.0 lastFillPrice 0.0\n",
      "Order Executed:  -1 OCG STK USD 0000e22a.60d76f09.01.01 98 10.0 2\n",
      "openOrder id: 98 OCG STK @ SMART : BUY MKT 10.0 Filled\n",
      "orderStatus - orderid: 98 status: Filled filled 10.0 remaining 0.0 lastFillPrice 4.75\n",
      "openOrder id: 98 OCG STK @ SMART : BUY MKT 10.0 Filled\n",
      "orderStatus - orderid: 98 status: Filled filled 10.0 remaining 0.0 lastFillPrice 4.75\n"
     ]
    },
    {
     "name": "stderr",
     "output_type": "stream",
     "text": [
      "ERROR 98 10148 OrderId 98 that needs to be cancelled cannot be cancelled, state: Filled.\n"
     ]
    },
    {
     "name": "stdout",
     "output_type": "stream",
     "text": [
      "cancelling order\n"
     ]
    },
    {
     "name": "stderr",
     "output_type": "stream",
     "text": [
      "ERROR -1 2104 Market data farm connection is OK:usfarm.nj\n",
      "ERROR -1 2104 Market data farm connection is OK:usfarm\n",
      "ERROR -1 2106 HMDS data farm connection is OK:euhmds\n",
      "ERROR -1 2106 HMDS data farm connection is OK:fundfarm\n",
      "ERROR -1 2106 HMDS data farm connection is OK:ushmds\n",
      "ERROR -1 2158 Sec-def data farm connection is OK:secdefil\n"
     ]
    },
    {
     "name": "stdout",
     "output_type": "stream",
     "text": [
      "waiting for connection\n",
      "openOrder id: 41 PFIE STK @ SMART : BUY MIDPRICE 1.0 Submitted\n",
      "orderStatus - orderid: 41 status: Submitted filled 0.0 remaining 1.0 lastFillPrice 0.0\n",
      "The next valid order id is:  99\n",
      "connected\n",
      "openOrder id: 99 GTBP STK @ SMART : BUY MKT 10.0 Submitted\n",
      "orderStatus - orderid: 99 status: Submitted filled 0.0 remaining 10.0 lastFillPrice 0.0\n",
      "Order Executed:  -1 GTBP STK USD 0000e0d5.60fce3fe.01.01 99 10.0 2\n",
      "openOrder id: 99 GTBP STK @ SMART : BUY MKT 10.0 Filled\n",
      "orderStatus - orderid: 99 status: Filled filled 10.0 remaining 0.0 lastFillPrice 12.89\n",
      "openOrder id: 99 GTBP STK @ SMART : BUY MKT 10.0 Filled\n",
      "orderStatus - orderid: 99 status: Filled filled 10.0 remaining 0.0 lastFillPrice 12.89\n"
     ]
    },
    {
     "name": "stderr",
     "output_type": "stream",
     "text": [
      "ERROR 99 10148 OrderId 99 that needs to be cancelled cannot be cancelled, state: Filled.\n"
     ]
    },
    {
     "name": "stdout",
     "output_type": "stream",
     "text": [
      "cancelling order\n"
     ]
    },
    {
     "name": "stderr",
     "output_type": "stream",
     "text": [
      "ERROR -1 2104 Market data farm connection is OK:usfarm.nj\n",
      "ERROR -1 2104 Market data farm connection is OK:usfarm\n",
      "ERROR -1 2106 HMDS data farm connection is OK:euhmds\n",
      "ERROR -1 2106 HMDS data farm connection is OK:fundfarm\n",
      "ERROR -1 2106 HMDS data farm connection is OK:ushmds\n",
      "ERROR -1 2158 Sec-def data farm connection is OK:secdefil\n"
     ]
    },
    {
     "name": "stdout",
     "output_type": "stream",
     "text": [
      "waiting for connection\n",
      "openOrder id: 41 PFIE STK @ SMART : BUY MIDPRICE 1.0 Submitted\n",
      "orderStatus - orderid: 41 status: Submitted filled 0.0 remaining 1.0 lastFillPrice 0.0\n",
      "The next valid order id is:  100\n",
      "connected\n",
      "openOrder id: 100 RETO STK @ SMART : BUY MKT 10.0 Submitted\n",
      "orderStatus - orderid: 100 status: Submitted filled 0.0 remaining 10.0 lastFillPrice 0.0\n",
      "Order Executed:  -1 RETO STK USD 0000e22a.60d76f5f.01.01 100 10.0 2\n",
      "openOrder id: 100 RETO STK @ SMART : BUY MKT 10.0 Filled\n",
      "orderStatus - orderid: 100 status: Filled filled 10.0 remaining 0.0 lastFillPrice 1.03\n",
      "openOrder id: 100 RETO STK @ SMART : BUY MKT 10.0 Filled\n",
      "orderStatus - orderid: 100 status: Filled filled 10.0 remaining 0.0 lastFillPrice 1.03\n"
     ]
    },
    {
     "name": "stderr",
     "output_type": "stream",
     "text": [
      "ERROR 100 10148 OrderId 100 that needs to be cancelled cannot be cancelled, state: Filled.\n"
     ]
    },
    {
     "name": "stdout",
     "output_type": "stream",
     "text": [
      "cancelling order\n"
     ]
    },
    {
     "name": "stderr",
     "output_type": "stream",
     "text": [
      "ERROR -1 2104 Market data farm connection is OK:usfarm.nj\n",
      "ERROR -1 2104 Market data farm connection is OK:usfarm\n",
      "ERROR -1 2106 HMDS data farm connection is OK:euhmds\n",
      "ERROR -1 2106 HMDS data farm connection is OK:fundfarm\n",
      "ERROR -1 2106 HMDS data farm connection is OK:ushmds\n",
      "ERROR -1 2158 Sec-def data farm connection is OK:secdefil\n"
     ]
    },
    {
     "name": "stdout",
     "output_type": "stream",
     "text": [
      "waiting for connection\n",
      "openOrder id: 41 PFIE STK @ SMART : BUY MIDPRICE 1.0 Submitted\n",
      "orderStatus - orderid: 41 status: Submitted filled 0.0 remaining 1.0 lastFillPrice 0.0\n",
      "The next valid order id is:  101\n",
      "connected\n",
      "openOrder id: 101 TLMD STK @ SMART : BUY MKT 10.0 PreSubmitted\n",
      "orderStatus - orderid: 101 status: PreSubmitted filled 0.0 remaining 10.0 lastFillPrice 0.0\n",
      "Order Executed:  -1 TLMD STK USD 0000e22a.60d76f7f.01.01 101 10.0 2\n",
      "openOrder id: 101 TLMD STK @ SMART : BUY MKT 10.0 Filled\n",
      "orderStatus - orderid: 101 status: Filled filled 10.0 remaining 0.0 lastFillPrice 7.16\n",
      "openOrder id: 101 TLMD STK @ SMART : BUY MKT 10.0 Filled\n",
      "orderStatus - orderid: 101 status: Filled filled 10.0 remaining 0.0 lastFillPrice 7.16\n"
     ]
    },
    {
     "name": "stderr",
     "output_type": "stream",
     "text": [
      "ERROR 101 10148 OrderId 101 that needs to be cancelled cannot be cancelled, state: Filled.\n"
     ]
    },
    {
     "name": "stdout",
     "output_type": "stream",
     "text": [
      "cancelling order\n"
     ]
    },
    {
     "name": "stderr",
     "output_type": "stream",
     "text": [
      "ERROR -1 2104 Market data farm connection is OK:usfarm.nj\n",
      "ERROR -1 2104 Market data farm connection is OK:usfarm\n",
      "ERROR -1 2106 HMDS data farm connection is OK:euhmds\n",
      "ERROR -1 2106 HMDS data farm connection is OK:fundfarm\n",
      "ERROR -1 2106 HMDS data farm connection is OK:ushmds\n",
      "ERROR -1 2158 Sec-def data farm connection is OK:secdefil\n"
     ]
    },
    {
     "name": "stdout",
     "output_type": "stream",
     "text": [
      "waiting for connection\n",
      "openOrder id: 41 PFIE STK @ SMART : BUY MIDPRICE 1.0 Submitted\n",
      "orderStatus - orderid: 41 status: Submitted filled 0.0 remaining 1.0 lastFillPrice 0.0\n",
      "The next valid order id is:  102\n",
      "connected\n",
      "openOrder id: 102 ABEO STK @ SMART : BUY MKT 10.0 Submitted\n",
      "orderStatus - orderid: 102 status: Submitted filled 0.0 remaining 10.0 lastFillPrice 0.0\n",
      "Order Executed:  -1 ABEO STK USD 0000e0d5.60fce418.01.01 102 10.0 2\n",
      "openOrder id: 102 ABEO STK @ SMART : BUY MKT 10.0 Filled\n",
      "orderStatus - orderid: 102 status: Filled filled 10.0 remaining 0.0 lastFillPrice 1.54\n",
      "openOrder id: 102 ABEO STK @ SMART : BUY MKT 10.0 Filled\n",
      "orderStatus - orderid: 102 status: Filled filled 10.0 remaining 0.0 lastFillPrice 1.54\n"
     ]
    },
    {
     "name": "stderr",
     "output_type": "stream",
     "text": [
      "ERROR 102 10148 OrderId 102 that needs to be cancelled cannot be cancelled, state: Filled.\n"
     ]
    },
    {
     "name": "stdout",
     "output_type": "stream",
     "text": [
      "cancelling order\n"
     ]
    },
    {
     "name": "stderr",
     "output_type": "stream",
     "text": [
      "ERROR -1 2104 Market data farm connection is OK:usfarm.nj\n",
      "ERROR -1 2104 Market data farm connection is OK:usfarm\n",
      "ERROR -1 2106 HMDS data farm connection is OK:euhmds\n",
      "ERROR -1 2106 HMDS data farm connection is OK:fundfarm\n",
      "ERROR -1 2106 HMDS data farm connection is OK:ushmds\n",
      "ERROR -1 2158 Sec-def data farm connection is OK:secdefil\n"
     ]
    },
    {
     "name": "stdout",
     "output_type": "stream",
     "text": [
      "waiting for connection\n",
      "openOrder id: 41 PFIE STK @ SMART : BUY MIDPRICE 1.0 Submitted\n",
      "orderStatus - orderid: 41 status: Submitted filled 0.0 remaining 1.0 lastFillPrice 0.0\n",
      "The next valid order id is:  103\n",
      "connected\n",
      "openOrder id: 103 ADMS STK @ SMART : BUY MKT 10.0 Submitted\n",
      "orderStatus - orderid: 103 status: Submitted filled 0.0 remaining 10.0 lastFillPrice 0.0\n",
      "Order Executed:  -1 ADMS STK USD 0000e0d5.60fce433.01.01 103 10.0 2\n",
      "openOrder id: 103 ADMS STK @ SMART : BUY MKT 10.0 Filled\n",
      "orderStatus - orderid: 103 status: Filled filled 10.0 remaining 0.0 lastFillPrice 5.16\n",
      "openOrder id: 103 ADMS STK @ SMART : BUY MKT 10.0 Filled\n",
      "orderStatus - orderid: 103 status: Filled filled 10.0 remaining 0.0 lastFillPrice 5.16\n"
     ]
    },
    {
     "name": "stderr",
     "output_type": "stream",
     "text": [
      "ERROR 103 10148 OrderId 103 that needs to be cancelled cannot be cancelled, state: Filled.\n"
     ]
    },
    {
     "name": "stdout",
     "output_type": "stream",
     "text": [
      "cancelling order\n"
     ]
    }
   ],
   "source": [
    "from ibapi.client import EClient\n",
    "from ibapi.wrapper import EWrapper\n",
    "from ibapi.contract import Contract\n",
    "from ibapi.order import *\n",
    "\n",
    "import threading\n",
    "import time\n",
    "\n",
    "class IBapi(EWrapper, EClient):\n",
    "\tdef __init__(self):\n",
    "\t\tEClient.__init__(self, self)\n",
    "\n",
    "\tdef nextValidId(self, orderId: int):\n",
    "\t\tsuper().nextValidId(orderId)\n",
    "\t\tself.nextorderId = orderId\n",
    "\t\tprint('The next valid order id is: ', self.nextorderId)\n",
    "\n",
    "\tdef orderStatus(self, orderId, status, filled, remaining, avgFullPrice, permId, parentId, lastFillPrice, clientId, whyHeld, mktCapPrice):\n",
    "\t\tprint('orderStatus - orderid:', orderId, 'status:', status, 'filled', filled, 'remaining', remaining, 'lastFillPrice', lastFillPrice)\n",
    "\t\n",
    "\tdef openOrder(self, orderId, contract, order, orderState):\n",
    "\t\tprint('openOrder id:', orderId, contract.symbol, contract.secType, '@', contract.exchange, ':', order.action, order.orderType, order.totalQuantity, orderState.status)\n",
    "\n",
    "\tdef execDetails(self, reqId, contract, execution):\n",
    "\t\tprint('Order Executed: ', reqId, contract.symbol, contract.secType, contract.currency, execution.execId, execution.orderId, execution.shares, execution.lastLiquidity)\n",
    "\n",
    "\n",
    "def run_loop():\n",
    "\tapp.run()\n",
    "\n",
    "#Function to create FX Order contract\n",
    "def FX_order(symbol):\n",
    "\tcontract = Contract()\n",
    "\tcontract.symbol = symbol\n",
    "\tcontract.secType = 'STK'\n",
    "\tcontract.exchange = 'SMART'\n",
    "\tcontract.currency = \"USD\"\n",
    "\treturn contract\n",
    "#Place order\n",
    "for tick in tickers_to_buy:\n",
    "    app = IBapi()\n",
    "    app.connect('127.0.0.1', 7497, 123)\n",
    "    \n",
    "    app.nextorderId = None\n",
    "    \n",
    "    #Start the socket in a thread\n",
    "    api_thread = threading.Thread(target=run_loop, daemon=True)\n",
    "    api_thread.start()\n",
    "    \n",
    "    #Check if the API is connected via orderid\n",
    "    while True:\n",
    "        if isinstance(app.nextorderId, int):\n",
    "            print('connected')\n",
    "            break\n",
    "        else:\n",
    "            print('waiting for connection')\n",
    "            time.sleep(1)\n",
    "    \n",
    "    #Create order object\n",
    "    order = Order()\n",
    "    order.action = 'BUY'\n",
    "    order.totalQuantity = 10\n",
    "    order.orderType = 'MKT'\n",
    "    \n",
    "    \n",
    "    \n",
    "    \n",
    "    app.placeOrder(app.nextorderId, FX_order(tick), order)\n",
    "        \n",
    "    #app.nextorderId += 1\n",
    "    \n",
    "    time.sleep(3)\n",
    "    \n",
    "    #Cancel order \n",
    "    print('cancelling order')\n",
    "    app.cancelOrder(app.nextorderId)\n",
    "    \n",
    "    time.sleep(3)\n",
    "    app.disconnect()\n",
    "    \n",
    "    \n",
    "    \n",
    "    #app.nextorderId += 1\n",
    "    \n",
    "    time.sleep(2)\n",
    "    \n"
   ]
  },
  {
   "cell_type": "code",
   "execution_count": 4,
   "metadata": {},
   "outputs": [
    {
     "name": "stderr",
     "output_type": "stream",
     "text": [
      "ERROR -1 2104 Market data farm connection is OK:usfarm.nj\n",
      "ERROR -1 2104 Market data farm connection is OK:usfarm\n",
      "ERROR -1 2106 HMDS data farm connection is OK:euhmds\n",
      "ERROR -1 2106 HMDS data farm connection is OK:fundfarm\n",
      "ERROR -1 2106 HMDS data farm connection is OK:ushmds\n",
      "ERROR -1 2158 Sec-def data farm connection is OK:secdefil\n"
     ]
    },
    {
     "name": "stdout",
     "output_type": "stream",
     "text": [
      "waiting for connection\n",
      "openOrder id: 41 PFIE STK @ SMART : BUY MIDPRICE 1.0 Submitted\n",
      "orderStatus - orderid: 41 status: Submitted filled 0.0 remaining 1.0 lastFillPrice 0.0\n",
      "The next valid order id is:  104\n",
      "connected\n",
      "openOrder id: 104 WISH STK @ SMART : SELL MKT 10.0 Submitted\n",
      "orderStatus - orderid: 104 status: Submitted filled 0.0 remaining 10.0 lastFillPrice 0.0\n"
     ]
    },
    {
     "name": "stderr",
     "output_type": "stream",
     "text": [
      "ERROR 104 202 Order Canceled - reason:\n"
     ]
    },
    {
     "name": "stdout",
     "output_type": "stream",
     "text": [
      "cancelling order\n",
      "orderStatus - orderid: 104 status: Cancelled filled 0.0 remaining 10.0 lastFillPrice 0.0\n"
     ]
    },
    {
     "name": "stderr",
     "output_type": "stream",
     "text": [
      "ERROR -1 2104 Market data farm connection is OK:usfarm.nj\n",
      "ERROR -1 2104 Market data farm connection is OK:usfarm\n",
      "ERROR -1 2106 HMDS data farm connection is OK:euhmds\n",
      "ERROR -1 2106 HMDS data farm connection is OK:fundfarm\n",
      "ERROR -1 2106 HMDS data farm connection is OK:ushmds\n",
      "ERROR -1 2158 Sec-def data farm connection is OK:secdefil\n"
     ]
    },
    {
     "name": "stdout",
     "output_type": "stream",
     "text": [
      "waiting for connection\n",
      "openOrder id: 41 PFIE STK @ SMART : BUY MIDPRICE 1.0 Submitted\n",
      "orderStatus - orderid: 41 status: Submitted filled 0.0 remaining 1.0 lastFillPrice 0.0\n",
      "The next valid order id is:  105\n",
      "connected\n",
      "openOrder id: 105 RPHM STK @ SMART : SELL MKT 10.0 Submitted\n",
      "orderStatus - orderid: 105 status: Submitted filled 0.0 remaining 10.0 lastFillPrice 0.0\n",
      "Order Executed:  -1 RPHM STK USD 0000e22a.60d78296.01.01 105 10.0 2\n",
      "openOrder id: 105 RPHM STK @ SMART : SELL MKT 10.0 Filled\n",
      "orderStatus - orderid: 105 status: Filled filled 10.0 remaining 0.0 lastFillPrice 8.04\n",
      "openOrder id: 105 RPHM STK @ SMART : SELL MKT 10.0 Filled\n",
      "orderStatus - orderid: 105 status: Filled filled 10.0 remaining 0.0 lastFillPrice 8.04\n"
     ]
    },
    {
     "name": "stderr",
     "output_type": "stream",
     "text": [
      "ERROR 105 10148 OrderId 105 that needs to be cancelled cannot be cancelled, state: Filled.\n"
     ]
    },
    {
     "name": "stdout",
     "output_type": "stream",
     "text": [
      "cancelling order\n"
     ]
    },
    {
     "name": "stderr",
     "output_type": "stream",
     "text": [
      "ERROR -1 2104 Market data farm connection is OK:usfarm.nj\n",
      "ERROR -1 2104 Market data farm connection is OK:usfarm\n",
      "ERROR -1 2106 HMDS data farm connection is OK:euhmds\n",
      "ERROR -1 2106 HMDS data farm connection is OK:fundfarm\n",
      "ERROR -1 2106 HMDS data farm connection is OK:ushmds\n",
      "ERROR -1 2158 Sec-def data farm connection is OK:secdefil\n"
     ]
    },
    {
     "name": "stdout",
     "output_type": "stream",
     "text": [
      "waiting for connection\n",
      "openOrder id: 41 PFIE STK @ SMART : BUY MIDPRICE 1.0 Submitted\n",
      "orderStatus - orderid: 41 status: Submitted filled 0.0 remaining 1.0 lastFillPrice 0.0\n",
      "The next valid order id is:  106\n",
      "connected\n",
      "openOrder id: 106 PTIX STK @ SMART : SELL MKT 10.0 PreSubmitted\n",
      "orderStatus - orderid: 106 status: PreSubmitted filled 0.0 remaining 10.0 lastFillPrice 0.0\n",
      "Order Executed:  -1 PTIX STK USD 0000e22a.60d782ba.01.01 106 10.0 2\n",
      "openOrder id: 106 PTIX STK @ SMART : SELL MKT 10.0 Filled\n",
      "orderStatus - orderid: 106 status: Filled filled 10.0 remaining 0.0 lastFillPrice 2.1\n",
      "openOrder id: 106 PTIX STK @ SMART : SELL MKT 10.0 Filled\n",
      "orderStatus - orderid: 106 status: Filled filled 10.0 remaining 0.0 lastFillPrice 2.1\n"
     ]
    },
    {
     "name": "stderr",
     "output_type": "stream",
     "text": [
      "ERROR 106 10148 OrderId 106 that needs to be cancelled cannot be cancelled, state: Filled.\n"
     ]
    },
    {
     "name": "stdout",
     "output_type": "stream",
     "text": [
      "cancelling order\n"
     ]
    },
    {
     "name": "stderr",
     "output_type": "stream",
     "text": [
      "ERROR -1 2104 Market data farm connection is OK:usfarm.nj\n",
      "ERROR -1 2104 Market data farm connection is OK:usfarm\n",
      "ERROR -1 2106 HMDS data farm connection is OK:euhmds\n",
      "ERROR -1 2106 HMDS data farm connection is OK:fundfarm\n",
      "ERROR -1 2106 HMDS data farm connection is OK:ushmds\n",
      "ERROR -1 2158 Sec-def data farm connection is OK:secdefil\n"
     ]
    },
    {
     "name": "stdout",
     "output_type": "stream",
     "text": [
      "waiting for connection\n",
      "openOrder id: 41 PFIE STK @ SMART : BUY MIDPRICE 1.0 Submitted\n",
      "orderStatus - orderid: 41 status: Submitted filled 0.0 remaining 1.0 lastFillPrice 0.0\n",
      "The next valid order id is:  107\n",
      "connected\n"
     ]
    },
    {
     "name": "stderr",
     "output_type": "stream",
     "text": [
      "ERROR 107 201 Order rejected - reason:The contract is not available for short sale.\n"
     ]
    },
    {
     "name": "stdout",
     "output_type": "stream",
     "text": [
      "openOrder id: 107 OBLN STK @ SMART : SELL MKT 10.0 Inactive\n",
      "orderStatus - orderid: 107 status: Inactive filled 0.0 remaining 10.0 lastFillPrice 0.0\n",
      "openOrder id: 107 OBLN STK @ SMART : SELL MKT 10.0 Inactive\n",
      "orderStatus - orderid: 107 status: Inactive filled 0.0 remaining 10.0 lastFillPrice 0.0\n"
     ]
    },
    {
     "name": "stderr",
     "output_type": "stream",
     "text": [
      "ERROR 107 10148 OrderId 107 that needs to be cancelled cannot be cancelled, state: Cancelled.\n"
     ]
    },
    {
     "name": "stdout",
     "output_type": "stream",
     "text": [
      "cancelling order\n"
     ]
    },
    {
     "name": "stderr",
     "output_type": "stream",
     "text": [
      "ERROR -1 2104 Market data farm connection is OK:usfarm.nj\n",
      "ERROR -1 2104 Market data farm connection is OK:usfarm\n",
      "ERROR -1 2106 HMDS data farm connection is OK:euhmds\n",
      "ERROR -1 2106 HMDS data farm connection is OK:fundfarm\n",
      "ERROR -1 2106 HMDS data farm connection is OK:ushmds\n",
      "ERROR -1 2158 Sec-def data farm connection is OK:secdefil\n"
     ]
    },
    {
     "name": "stdout",
     "output_type": "stream",
     "text": [
      "waiting for connection\n",
      "openOrder id: 41 PFIE STK @ SMART : BUY MIDPRICE 1.0 Submitted\n",
      "orderStatus - orderid: 41 status: Submitted filled 0.0 remaining 1.0 lastFillPrice 0.0\n",
      "The next valid order id is:  108\n",
      "connected\n",
      "openOrder id: 108 POSH STK @ SMART : SELL MKT 10.0 Submitted\n",
      "orderStatus - orderid: 108 status: Submitted filled 0.0 remaining 10.0 lastFillPrice 0.0\n",
      "Order Executed:  -1 POSH STK USD 0000e22a.60d782f2.01.01 108 10.0 2\n",
      "openOrder id: 108 POSH STK @ SMART : SELL MKT 10.0 Filled\n",
      "orderStatus - orderid: 108 status: Filled filled 10.0 remaining 0.0 lastFillPrice 35.86\n",
      "openOrder id: 108 POSH STK @ SMART : SELL MKT 10.0 Filled\n",
      "orderStatus - orderid: 108 status: Filled filled 10.0 remaining 0.0 lastFillPrice 35.86\n"
     ]
    },
    {
     "name": "stderr",
     "output_type": "stream",
     "text": [
      "ERROR 108 10148 OrderId 108 that needs to be cancelled cannot be cancelled, state: Filled.\n"
     ]
    },
    {
     "name": "stdout",
     "output_type": "stream",
     "text": [
      "cancelling order\n"
     ]
    },
    {
     "name": "stderr",
     "output_type": "stream",
     "text": [
      "ERROR -1 2104 Market data farm connection is OK:usfarm.nj\n",
      "ERROR -1 2104 Market data farm connection is OK:usfarm\n",
      "ERROR -1 2106 HMDS data farm connection is OK:euhmds\n",
      "ERROR -1 2106 HMDS data farm connection is OK:fundfarm\n",
      "ERROR -1 2106 HMDS data farm connection is OK:ushmds\n",
      "ERROR -1 2158 Sec-def data farm connection is OK:secdefil\n"
     ]
    },
    {
     "name": "stdout",
     "output_type": "stream",
     "text": [
      "waiting for connection\n",
      "openOrder id: 41 PFIE STK @ SMART : BUY MIDPRICE 1.0 Submitted\n",
      "orderStatus - orderid: 41 status: Submitted filled 0.0 remaining 1.0 lastFillPrice 0.0\n",
      "The next valid order id is:  109\n",
      "connected\n",
      "openOrder id: 109 KBNT STK @ SMART : SELL MKT 10.0 Submitted\n",
      "orderStatus - orderid: 109 status: Submitted filled 0.0 remaining 10.0 lastFillPrice 0.0\n",
      "Order Executed:  -1 KBNT STK USD 0000e22a.60d7830a.01.01 109 10.0 2\n",
      "openOrder id: 109 KBNT STK @ SMART : SELL MKT 10.0 Filled\n",
      "orderStatus - orderid: 109 status: Filled filled 10.0 remaining 0.0 lastFillPrice 4.87\n",
      "openOrder id: 109 KBNT STK @ SMART : SELL MKT 10.0 Filled\n",
      "orderStatus - orderid: 109 status: Filled filled 10.0 remaining 0.0 lastFillPrice 4.87\n"
     ]
    },
    {
     "name": "stderr",
     "output_type": "stream",
     "text": [
      "ERROR 109 10148 OrderId 109 that needs to be cancelled cannot be cancelled, state: Filled.\n"
     ]
    },
    {
     "name": "stdout",
     "output_type": "stream",
     "text": [
      "cancelling order\n"
     ]
    },
    {
     "name": "stderr",
     "output_type": "stream",
     "text": [
      "ERROR -1 2104 Market data farm connection is OK:usfarm.nj\n",
      "ERROR -1 2104 Market data farm connection is OK:usfarm\n",
      "ERROR -1 2106 HMDS data farm connection is OK:euhmds\n",
      "ERROR -1 2106 HMDS data farm connection is OK:fundfarm\n",
      "ERROR -1 2106 HMDS data farm connection is OK:ushmds\n",
      "ERROR -1 2158 Sec-def data farm connection is OK:secdefil\n"
     ]
    },
    {
     "name": "stdout",
     "output_type": "stream",
     "text": [
      "waiting for connection\n",
      "openOrder id: 41 PFIE STK @ SMART : BUY MIDPRICE 1.0 Submitted\n",
      "orderStatus - orderid: 41 status: Submitted filled 0.0 remaining 1.0 lastFillPrice 0.0\n",
      "The next valid order id is:  110\n",
      "connected\n",
      "openOrder id: 110 CRIS STK @ SMART : SELL MKT 10.0 PreSubmitted\n",
      "orderStatus - orderid: 110 status: PreSubmitted filled 0.0 remaining 10.0 lastFillPrice 0.0\n",
      "Order Executed:  -1 CRIS STK USD 0000e0d5.60fced49.01.01 110 10.0 2\n",
      "openOrder id: 110 CRIS STK @ SMART : SELL MKT 10.0 Filled\n",
      "orderStatus - orderid: 110 status: Filled filled 10.0 remaining 0.0 lastFillPrice 15.13\n",
      "openOrder id: 110 CRIS STK @ SMART : SELL MKT 10.0 Filled\n",
      "orderStatus - orderid: 110 status: Filled filled 10.0 remaining 0.0 lastFillPrice 15.13\n"
     ]
    },
    {
     "name": "stderr",
     "output_type": "stream",
     "text": [
      "ERROR 110 10148 OrderId 110 that needs to be cancelled cannot be cancelled, state: Filled.\n"
     ]
    },
    {
     "name": "stdout",
     "output_type": "stream",
     "text": [
      "cancelling order\n"
     ]
    },
    {
     "name": "stderr",
     "output_type": "stream",
     "text": [
      "ERROR -1 2104 Market data farm connection is OK:usfarm.nj\n",
      "ERROR -1 2104 Market data farm connection is OK:usfarm\n",
      "ERROR -1 2106 HMDS data farm connection is OK:euhmds\n",
      "ERROR -1 2106 HMDS data farm connection is OK:fundfarm\n",
      "ERROR -1 2106 HMDS data farm connection is OK:ushmds\n",
      "ERROR -1 2158 Sec-def data farm connection is OK:secdefil\n"
     ]
    },
    {
     "name": "stdout",
     "output_type": "stream",
     "text": [
      "waiting for connection\n",
      "openOrder id: 41 PFIE STK @ SMART : BUY MIDPRICE 1.0 Submitted\n",
      "orderStatus - orderid: 41 status: Submitted filled 0.0 remaining 1.0 lastFillPrice 0.0\n",
      "The next valid order id is:  111\n",
      "connected\n",
      "openOrder id: 111 EYES STK @ SMART : SELL MKT 10.0 Submitted\n",
      "orderStatus - orderid: 111 status: Submitted filled 0.0 remaining 10.0 lastFillPrice 0.0\n",
      "Order Executed:  -1 EYES STK USD 0000e0d5.60fced52.01.01 111 10.0 2\n",
      "openOrder id: 111 EYES STK @ SMART : SELL MKT 10.0 Filled\n",
      "orderStatus - orderid: 111 status: Filled filled 10.0 remaining 0.0 lastFillPrice 4.98\n",
      "openOrder id: 111 EYES STK @ SMART : SELL MKT 10.0 Filled\n",
      "orderStatus - orderid: 111 status: Filled filled 10.0 remaining 0.0 lastFillPrice 4.98\n"
     ]
    },
    {
     "name": "stderr",
     "output_type": "stream",
     "text": [
      "ERROR 111 10148 OrderId 111 that needs to be cancelled cannot be cancelled, state: Filled.\n"
     ]
    },
    {
     "name": "stdout",
     "output_type": "stream",
     "text": [
      "cancelling order\n"
     ]
    },
    {
     "name": "stderr",
     "output_type": "stream",
     "text": [
      "ERROR -1 2104 Market data farm connection is OK:usfarm.nj\n",
      "ERROR -1 2104 Market data farm connection is OK:usfarm\n",
      "ERROR -1 2106 HMDS data farm connection is OK:euhmds\n",
      "ERROR -1 2106 HMDS data farm connection is OK:fundfarm\n",
      "ERROR -1 2106 HMDS data farm connection is OK:ushmds\n",
      "ERROR -1 2158 Sec-def data farm connection is OK:secdefil\n"
     ]
    },
    {
     "name": "stdout",
     "output_type": "stream",
     "text": [
      "waiting for connection\n",
      "openOrder id: 41 PFIE STK @ SMART : BUY MIDPRICE 1.0 Submitted\n",
      "orderStatus - orderid: 41 status: Submitted filled 0.0 remaining 1.0 lastFillPrice 0.0\n",
      "The next valid order id is:  112\n",
      "connected\n",
      "openOrder id: 112 LHDX STK @ SMART : SELL MKT 10.0 PreSubmitted\n",
      "orderStatus - orderid: 112 status: PreSubmitted filled 0.0 remaining 10.0 lastFillPrice 0.0\n",
      "Order Executed:  -1 LHDX STK USD 0000e22a.60d7835e.01.01 112 10.0 2\n",
      "openOrder id: 112 LHDX STK @ SMART : SELL MKT 10.0 Filled\n",
      "orderStatus - orderid: 112 status: Filled filled 10.0 remaining 0.0 lastFillPrice 5.26\n",
      "openOrder id: 112 LHDX STK @ SMART : SELL MKT 10.0 Filled\n",
      "orderStatus - orderid: 112 status: Filled filled 10.0 remaining 0.0 lastFillPrice 5.26\n"
     ]
    },
    {
     "name": "stderr",
     "output_type": "stream",
     "text": [
      "ERROR 112 10148 OrderId 112 that needs to be cancelled cannot be cancelled, state: Filled.\n"
     ]
    },
    {
     "name": "stdout",
     "output_type": "stream",
     "text": [
      "cancelling order\n"
     ]
    },
    {
     "name": "stderr",
     "output_type": "stream",
     "text": [
      "ERROR -1 2104 Market data farm connection is OK:usfarm.nj\n",
      "ERROR -1 2104 Market data farm connection is OK:usfarm\n",
      "ERROR -1 2106 HMDS data farm connection is OK:euhmds\n",
      "ERROR -1 2106 HMDS data farm connection is OK:fundfarm\n",
      "ERROR -1 2106 HMDS data farm connection is OK:ushmds\n",
      "ERROR -1 2158 Sec-def data farm connection is OK:secdefil\n"
     ]
    },
    {
     "name": "stdout",
     "output_type": "stream",
     "text": [
      "waiting for connection\n",
      "openOrder id: 41 PFIE STK @ SMART : BUY MIDPRICE 1.0 Submitted\n",
      "orderStatus - orderid: 41 status: Submitted filled 0.0 remaining 1.0 lastFillPrice 0.0\n",
      "The next valid order id is:  113\n",
      "connected\n",
      "openOrder id: 113 NCTY STK @ SMART : SELL MKT 10.0 PreSubmitted\n",
      "orderStatus - orderid: 113 status: PreSubmitted filled 0.0 remaining 10.0 lastFillPrice 0.0\n",
      "Order Executed:  -1 NCTY STK USD 0000e22a.60d78379.01.01 113 10.0 2\n",
      "openOrder id: 113 NCTY STK @ SMART : SELL MKT 10.0 Filled\n",
      "orderStatus - orderid: 113 status: Filled filled 10.0 remaining 0.0 lastFillPrice 15.89\n",
      "openOrder id: 113 NCTY STK @ SMART : SELL MKT 10.0 Filled\n",
      "orderStatus - orderid: 113 status: Filled filled 10.0 remaining 0.0 lastFillPrice 15.89\n"
     ]
    },
    {
     "name": "stderr",
     "output_type": "stream",
     "text": [
      "ERROR 113 10148 OrderId 113 that needs to be cancelled cannot be cancelled, state: Filled.\n"
     ]
    },
    {
     "name": "stdout",
     "output_type": "stream",
     "text": [
      "cancelling order\n"
     ]
    },
    {
     "name": "stderr",
     "output_type": "stream",
     "text": [
      "ERROR -1 2104 Market data farm connection is OK:usfarm.nj\n",
      "ERROR -1 2104 Market data farm connection is OK:usfarm\n",
      "ERROR -1 2106 HMDS data farm connection is OK:euhmds\n",
      "ERROR -1 2106 HMDS data farm connection is OK:fundfarm\n",
      "ERROR -1 2106 HMDS data farm connection is OK:ushmds\n",
      "ERROR -1 2158 Sec-def data farm connection is OK:secdefil\n"
     ]
    },
    {
     "name": "stdout",
     "output_type": "stream",
     "text": [
      "waiting for connection\n",
      "openOrder id: 41 PFIE STK @ SMART : BUY MIDPRICE 1.0 Submitted\n",
      "orderStatus - orderid: 41 status: Submitted filled 0.0 remaining 1.0 lastFillPrice 0.0\n",
      "The next valid order id is:  114\n",
      "connected\n",
      "openOrder id: 114 ATNF STK @ SMART : SELL MKT 10.0 PreSubmitted\n",
      "orderStatus - orderid: 114 status: PreSubmitted filled 0.0 remaining 10.0 lastFillPrice 0.0\n",
      "Order Executed:  -1 ATNF STK USD 0000e0d5.60fced7f.01.01 114 10.0 2\n",
      "openOrder id: 114 ATNF STK @ SMART : SELL MKT 10.0 Filled\n",
      "orderStatus - orderid: 114 status: Filled filled 10.0 remaining 0.0 lastFillPrice 7.57\n",
      "openOrder id: 114 ATNF STK @ SMART : SELL MKT 10.0 Filled\n",
      "orderStatus - orderid: 114 status: Filled filled 10.0 remaining 0.0 lastFillPrice 7.57\n"
     ]
    },
    {
     "name": "stderr",
     "output_type": "stream",
     "text": [
      "ERROR 114 10148 OrderId 114 that needs to be cancelled cannot be cancelled, state: Filled.\n"
     ]
    },
    {
     "name": "stdout",
     "output_type": "stream",
     "text": [
      "cancelling order\n"
     ]
    },
    {
     "name": "stderr",
     "output_type": "stream",
     "text": [
      "ERROR -1 2104 Market data farm connection is OK:usfarm.nj\n",
      "ERROR -1 2104 Market data farm connection is OK:usfarm\n",
      "ERROR -1 2106 HMDS data farm connection is OK:euhmds\n",
      "ERROR -1 2106 HMDS data farm connection is OK:fundfarm\n",
      "ERROR -1 2106 HMDS data farm connection is OK:ushmds\n",
      "ERROR -1 2158 Sec-def data farm connection is OK:secdefil\n"
     ]
    },
    {
     "name": "stdout",
     "output_type": "stream",
     "text": [
      "waiting for connection\n",
      "openOrder id: 41 PFIE STK @ SMART : BUY MIDPRICE 1.0 Submitted\n",
      "orderStatus - orderid: 41 status: Submitted filled 0.0 remaining 1.0 lastFillPrice 0.0\n",
      "The next valid order id is:  115\n",
      "connected\n",
      "openOrder id: 115 HYMC STK @ SMART : SELL MKT 10.0 Submitted\n",
      "orderStatus - orderid: 115 status: Submitted filled 0.0 remaining 10.0 lastFillPrice 0.0\n",
      "Order Executed:  -1 HYMC STK USD 0000e0d5.60fced99.01.01 115 10.0 2\n",
      "openOrder id: 115 HYMC STK @ SMART : SELL MKT 10.0 Filled\n",
      "orderStatus - orderid: 115 status: Filled filled 10.0 remaining 0.0 lastFillPrice 3.96\n",
      "openOrder id: 115 HYMC STK @ SMART : SELL MKT 10.0 Filled\n",
      "orderStatus - orderid: 115 status: Filled filled 10.0 remaining 0.0 lastFillPrice 3.96\n"
     ]
    },
    {
     "name": "stderr",
     "output_type": "stream",
     "text": [
      "ERROR 115 10148 OrderId 115 that needs to be cancelled cannot be cancelled, state: Filled.\n"
     ]
    },
    {
     "name": "stdout",
     "output_type": "stream",
     "text": [
      "cancelling order\n"
     ]
    },
    {
     "name": "stderr",
     "output_type": "stream",
     "text": [
      "ERROR -1 2104 Market data farm connection is OK:usfarm.nj\n",
      "ERROR -1 2104 Market data farm connection is OK:usfarm\n",
      "ERROR -1 2106 HMDS data farm connection is OK:euhmds\n",
      "ERROR -1 2106 HMDS data farm connection is OK:fundfarm\n",
      "ERROR -1 2106 HMDS data farm connection is OK:ushmds\n",
      "ERROR -1 2158 Sec-def data farm connection is OK:secdefil\n"
     ]
    },
    {
     "name": "stdout",
     "output_type": "stream",
     "text": [
      "waiting for connection\n",
      "openOrder id: 41 PFIE STK @ SMART : BUY MIDPRICE 1.0 Submitted\n",
      "orderStatus - orderid: 41 status: Submitted filled 0.0 remaining 1.0 lastFillPrice 0.0\n",
      "The next valid order id is:  116\n",
      "connected\n",
      "openOrder id: 116 EBON STK @ SMART : SELL MKT 10.0 Submitted\n",
      "orderStatus - orderid: 116 status: Submitted filled 0.0 remaining 10.0 lastFillPrice 0.0\n",
      "Order Executed:  -1 EBON STK USD 0000e0d5.60fcedc1.01.01 116 10.0 2\n",
      "openOrder id: 116 EBON STK @ SMART : SELL MKT 10.0 Filled\n",
      "orderStatus - orderid: 116 status: Filled filled 10.0 remaining 0.0 lastFillPrice 3.15\n",
      "openOrder id: 116 EBON STK @ SMART : SELL MKT 10.0 Filled\n",
      "orderStatus - orderid: 116 status: Filled filled 10.0 remaining 0.0 lastFillPrice 3.15\n"
     ]
    },
    {
     "name": "stderr",
     "output_type": "stream",
     "text": [
      "ERROR 116 10148 OrderId 116 that needs to be cancelled cannot be cancelled, state: Filled.\n"
     ]
    },
    {
     "name": "stdout",
     "output_type": "stream",
     "text": [
      "cancelling order\n"
     ]
    },
    {
     "name": "stderr",
     "output_type": "stream",
     "text": [
      "ERROR -1 2104 Market data farm connection is OK:usfarm.nj\n",
      "ERROR -1 2104 Market data farm connection is OK:usfarm\n",
      "ERROR -1 2106 HMDS data farm connection is OK:euhmds\n",
      "ERROR -1 2106 HMDS data farm connection is OK:fundfarm\n",
      "ERROR -1 2106 HMDS data farm connection is OK:ushmds\n",
      "ERROR -1 2158 Sec-def data farm connection is OK:secdefil\n"
     ]
    },
    {
     "name": "stdout",
     "output_type": "stream",
     "text": [
      "waiting for connection\n",
      "openOrder id: 41 PFIE STK @ SMART : BUY MIDPRICE 1.0 Submitted\n",
      "orderStatus - orderid: 41 status: Submitted filled 0.0 remaining 1.0 lastFillPrice 0.0\n",
      "The next valid order id is:  117\n",
      "connected\n",
      "openOrder id: 117 EAR STK @ SMART : SELL MKT 10.0 PreSubmitted\n",
      "orderStatus - orderid: 117 status: PreSubmitted filled 0.0 remaining 10.0 lastFillPrice 0.0\n",
      "Order Executed:  -1 EAR STK USD 0000e0d5.60fcedc9.01.01 117 10.0 2\n",
      "openOrder id: 117 EAR STK @ SMART : SELL MKT 10.0 Filled\n",
      "orderStatus - orderid: 117 status: Filled filled 10.0 remaining 0.0 lastFillPrice 33.29\n",
      "openOrder id: 117 EAR STK @ SMART : SELL MKT 10.0 Filled\n",
      "orderStatus - orderid: 117 status: Filled filled 10.0 remaining 0.0 lastFillPrice 33.29\n"
     ]
    },
    {
     "name": "stderr",
     "output_type": "stream",
     "text": [
      "ERROR 117 10148 OrderId 117 that needs to be cancelled cannot be cancelled, state: Filled.\n"
     ]
    },
    {
     "name": "stdout",
     "output_type": "stream",
     "text": [
      "cancelling order\n"
     ]
    },
    {
     "name": "stderr",
     "output_type": "stream",
     "text": [
      "ERROR -1 2104 Market data farm connection is OK:usfarm.nj\n",
      "ERROR -1 2104 Market data farm connection is OK:usfarm\n",
      "ERROR -1 2106 HMDS data farm connection is OK:euhmds\n",
      "ERROR -1 2106 HMDS data farm connection is OK:fundfarm\n",
      "ERROR -1 2106 HMDS data farm connection is OK:ushmds\n",
      "ERROR -1 2158 Sec-def data farm connection is OK:secdefil\n"
     ]
    },
    {
     "name": "stdout",
     "output_type": "stream",
     "text": [
      "waiting for connection\n",
      "openOrder id: 41 PFIE STK @ SMART : BUY MIDPRICE 1.0 Submitted\n",
      "orderStatus - orderid: 41 status: Submitted filled 0.0 remaining 1.0 lastFillPrice 0.0\n",
      "The next valid order id is:  118\n",
      "connected\n",
      "openOrder id: 118 BFLY STK @ SMART : SELL MKT 10.0 PreSubmitted\n",
      "orderStatus - orderid: 118 status: PreSubmitted filled 0.0 remaining 10.0 lastFillPrice 0.0\n",
      "Order Executed:  -1 BFLY STK USD 0000e0d5.60fcedd0.01.01 118 10.0 2\n",
      "openOrder id: 118 BFLY STK @ SMART : SELL MKT 10.0 Filled\n",
      "orderStatus - orderid: 118 status: Filled filled 10.0 remaining 0.0 lastFillPrice 9.98\n",
      "openOrder id: 118 BFLY STK @ SMART : SELL MKT 10.0 Filled\n",
      "orderStatus - orderid: 118 status: Filled filled 10.0 remaining 0.0 lastFillPrice 9.98\n"
     ]
    },
    {
     "name": "stderr",
     "output_type": "stream",
     "text": [
      "ERROR 118 10148 OrderId 118 that needs to be cancelled cannot be cancelled, state: Filled.\n"
     ]
    },
    {
     "name": "stdout",
     "output_type": "stream",
     "text": [
      "cancelling order\n"
     ]
    },
    {
     "name": "stderr",
     "output_type": "stream",
     "text": [
      "ERROR -1 2104 Market data farm connection is OK:usfarm.nj\n",
      "ERROR -1 2104 Market data farm connection is OK:usfarm\n",
      "ERROR -1 2106 HMDS data farm connection is OK:euhmds\n",
      "ERROR -1 2106 HMDS data farm connection is OK:fundfarm\n",
      "ERROR -1 2106 HMDS data farm connection is OK:ushmds\n",
      "ERROR -1 2158 Sec-def data farm connection is OK:secdefil\n"
     ]
    },
    {
     "name": "stdout",
     "output_type": "stream",
     "text": [
      "waiting for connection\n",
      "openOrder id: 41 PFIE STK @ SMART : BUY MIDPRICE 1.0 Submitted\n",
      "orderStatus - orderid: 41 status: Submitted filled 0.0 remaining 1.0 lastFillPrice 0.0\n",
      "The next valid order id is:  119\n",
      "connected\n",
      "openOrder id: 119 ANIX STK @ SMART : SELL MKT 10.0 Submitted\n",
      "orderStatus - orderid: 119 status: Submitted filled 0.0 remaining 10.0 lastFillPrice 0.0\n",
      "Order Executed:  -1 ANIX STK USD 0000e0d5.60fcedee.01.01 119 10.0 2\n",
      "openOrder id: 119 ANIX STK @ SMART : SELL MKT 10.0 Filled\n",
      "orderStatus - orderid: 119 status: Filled filled 10.0 remaining 0.0 lastFillPrice 3.82\n",
      "openOrder id: 119 ANIX STK @ SMART : SELL MKT 10.0 Filled\n",
      "orderStatus - orderid: 119 status: Filled filled 10.0 remaining 0.0 lastFillPrice 3.82\n"
     ]
    },
    {
     "name": "stderr",
     "output_type": "stream",
     "text": [
      "ERROR 119 10148 OrderId 119 that needs to be cancelled cannot be cancelled, state: Filled.\n"
     ]
    },
    {
     "name": "stdout",
     "output_type": "stream",
     "text": [
      "cancelling order\n"
     ]
    },
    {
     "name": "stderr",
     "output_type": "stream",
     "text": [
      "ERROR -1 2104 Market data farm connection is OK:usfarm.nj\n",
      "ERROR -1 2104 Market data farm connection is OK:usfarm\n",
      "ERROR -1 2106 HMDS data farm connection is OK:euhmds\n",
      "ERROR -1 2106 HMDS data farm connection is OK:fundfarm\n",
      "ERROR -1 2106 HMDS data farm connection is OK:ushmds\n",
      "ERROR -1 2158 Sec-def data farm connection is OK:secdefil\n"
     ]
    },
    {
     "name": "stdout",
     "output_type": "stream",
     "text": [
      "waiting for connection\n",
      "openOrder id: 41 PFIE STK @ SMART : BUY MIDPRICE 1.0 Submitted\n",
      "orderStatus - orderid: 41 status: Submitted filled 0.0 remaining 1.0 lastFillPrice 0.0\n",
      "The next valid order id is:  120\n",
      "connected\n",
      "openOrder id: 120 MICT STK @ SMART : SELL MKT 10.0 PreSubmitted\n",
      "orderStatus - orderid: 120 status: PreSubmitted filled 0.0 remaining 10.0 lastFillPrice 0.0\n",
      "Order Executed:  -1 MICT STK USD 0000e22a.60d784ae.01.01 120 10.0 2\n",
      "openOrder id: 120 MICT STK @ SMART : SELL MKT 10.0 Filled\n",
      "orderStatus - orderid: 120 status: Filled filled 10.0 remaining 0.0 lastFillPrice 1.57\n",
      "openOrder id: 120 MICT STK @ SMART : SELL MKT 10.0 Filled\n",
      "orderStatus - orderid: 120 status: Filled filled 10.0 remaining 0.0 lastFillPrice 1.57\n"
     ]
    },
    {
     "name": "stderr",
     "output_type": "stream",
     "text": [
      "ERROR 120 10148 OrderId 120 that needs to be cancelled cannot be cancelled, state: Filled.\n"
     ]
    },
    {
     "name": "stdout",
     "output_type": "stream",
     "text": [
      "cancelling order\n"
     ]
    },
    {
     "name": "stderr",
     "output_type": "stream",
     "text": [
      "ERROR -1 2104 Market data farm connection is OK:usfarm.nj\n",
      "ERROR -1 2104 Market data farm connection is OK:usfarm\n",
      "ERROR -1 2106 HMDS data farm connection is OK:euhmds\n",
      "ERROR -1 2106 HMDS data farm connection is OK:fundfarm\n",
      "ERROR -1 2106 HMDS data farm connection is OK:ushmds\n",
      "ERROR -1 2158 Sec-def data farm connection is OK:secdefil\n"
     ]
    },
    {
     "name": "stdout",
     "output_type": "stream",
     "text": [
      "waiting for connection\n",
      "openOrder id: 41 PFIE STK @ SMART : BUY MIDPRICE 1.0 Submitted\n",
      "orderStatus - orderid: 41 status: Submitted filled 0.0 remaining 1.0 lastFillPrice 0.0\n",
      "The next valid order id is:  121\n",
      "connected\n",
      "openOrder id: 121 NTEC STK @ SMART : SELL MKT 10.0 Submitted\n",
      "orderStatus - orderid: 121 status: Submitted filled 0.0 remaining 10.0 lastFillPrice 0.0\n",
      "Order Executed:  -1 NTEC STK USD 0000e22a.60d784d1.01.01 121 10.0 2\n",
      "openOrder id: 121 NTEC STK @ SMART : SELL MKT 10.0 Filled\n",
      "orderStatus - orderid: 121 status: Filled filled 10.0 remaining 0.0 lastFillPrice 3.53\n",
      "openOrder id: 121 NTEC STK @ SMART : SELL MKT 10.0 Filled\n",
      "orderStatus - orderid: 121 status: Filled filled 10.0 remaining 0.0 lastFillPrice 3.53\n"
     ]
    },
    {
     "name": "stderr",
     "output_type": "stream",
     "text": [
      "ERROR 121 10148 OrderId 121 that needs to be cancelled cannot be cancelled, state: Filled.\n"
     ]
    },
    {
     "name": "stdout",
     "output_type": "stream",
     "text": [
      "cancelling order\n"
     ]
    },
    {
     "name": "stderr",
     "output_type": "stream",
     "text": [
      "ERROR -1 2104 Market data farm connection is OK:usfarm.nj\n",
      "ERROR -1 2104 Market data farm connection is OK:usfarm\n",
      "ERROR -1 2106 HMDS data farm connection is OK:euhmds\n",
      "ERROR -1 2106 HMDS data farm connection is OK:fundfarm\n",
      "ERROR -1 2106 HMDS data farm connection is OK:ushmds\n",
      "ERROR -1 2158 Sec-def data farm connection is OK:secdefil\n"
     ]
    },
    {
     "name": "stdout",
     "output_type": "stream",
     "text": [
      "waiting for connection\n",
      "openOrder id: 41 PFIE STK @ SMART : BUY MIDPRICE 1.0 Submitted\n",
      "orderStatus - orderid: 41 status: Submitted filled 0.0 remaining 1.0 lastFillPrice 0.0\n",
      "The next valid order id is:  122\n",
      "connected\n",
      "openOrder id: 122 BFI STK @ SMART : SELL MKT 10.0 Submitted\n",
      "orderStatus - orderid: 122 status: Submitted filled 0.0 remaining 10.0 lastFillPrice 0.0\n",
      "Order Executed:  -1 BFI STK USD 0000e0d5.60fcee14.01.01 122 10.0 2\n",
      "openOrder id: 122 BFI STK @ SMART : SELL MKT 10.0 Filled\n",
      "orderStatus - orderid: 122 status: Filled filled 10.0 remaining 0.0 lastFillPrice 10.28\n",
      "openOrder id: 122 BFI STK @ SMART : SELL MKT 10.0 Filled\n",
      "orderStatus - orderid: 122 status: Filled filled 10.0 remaining 0.0 lastFillPrice 10.28\n"
     ]
    },
    {
     "name": "stderr",
     "output_type": "stream",
     "text": [
      "ERROR 122 10148 OrderId 122 that needs to be cancelled cannot be cancelled, state: Filled.\n"
     ]
    },
    {
     "name": "stdout",
     "output_type": "stream",
     "text": [
      "cancelling order\n"
     ]
    },
    {
     "name": "stderr",
     "output_type": "stream",
     "text": [
      "ERROR -1 2104 Market data farm connection is OK:usfarm.nj\n",
      "ERROR -1 2104 Market data farm connection is OK:usfarm\n",
      "ERROR -1 2106 HMDS data farm connection is OK:euhmds\n",
      "ERROR -1 2106 HMDS data farm connection is OK:fundfarm\n",
      "ERROR -1 2106 HMDS data farm connection is OK:ushmds\n",
      "ERROR -1 2158 Sec-def data farm connection is OK:secdefil\n"
     ]
    },
    {
     "name": "stdout",
     "output_type": "stream",
     "text": [
      "waiting for connection\n",
      "openOrder id: 41 PFIE STK @ SMART : BUY MIDPRICE 1.0 Submitted\n",
      "orderStatus - orderid: 41 status: Submitted filled 0.0 remaining 1.0 lastFillPrice 0.0\n",
      "The next valid order id is:  123\n",
      "connected\n",
      "openOrder id: 123 AMTX STK @ SMART : SELL MKT 10.0 PreSubmitted\n",
      "orderStatus - orderid: 123 status: PreSubmitted filled 0.0 remaining 10.0 lastFillPrice 0.0\n",
      "Order Executed:  -1 AMTX STK USD 0000e0d5.60fcee16.01.01 123 10.0 2\n",
      "openOrder id: 123 AMTX STK @ SMART : SELL MKT 10.0 Filled\n",
      "orderStatus - orderid: 123 status: Filled filled 10.0 remaining 0.0 lastFillPrice 11.69\n",
      "openOrder id: 123 AMTX STK @ SMART : SELL MKT 10.0 Filled\n",
      "orderStatus - orderid: 123 status: Filled filled 10.0 remaining 0.0 lastFillPrice 11.69\n"
     ]
    },
    {
     "name": "stderr",
     "output_type": "stream",
     "text": [
      "ERROR 123 10148 OrderId 123 that needs to be cancelled cannot be cancelled, state: Filled.\n"
     ]
    },
    {
     "name": "stdout",
     "output_type": "stream",
     "text": [
      "cancelling order\n"
     ]
    },
    {
     "name": "stderr",
     "output_type": "stream",
     "text": [
      "ERROR -1 2104 Market data farm connection is OK:usfarm.nj\n",
      "ERROR -1 2104 Market data farm connection is OK:usfarm\n",
      "ERROR -1 2106 HMDS data farm connection is OK:euhmds\n",
      "ERROR -1 2106 HMDS data farm connection is OK:fundfarm\n",
      "ERROR -1 2106 HMDS data farm connection is OK:ushmds\n",
      "ERROR -1 2158 Sec-def data farm connection is OK:secdefil\n"
     ]
    },
    {
     "name": "stdout",
     "output_type": "stream",
     "text": [
      "waiting for connection\n",
      "openOrder id: 41 PFIE STK @ SMART : BUY MIDPRICE 1.0 Submitted\n",
      "orderStatus - orderid: 41 status: Submitted filled 0.0 remaining 1.0 lastFillPrice 0.0\n",
      "The next valid order id is:  124\n",
      "connected\n",
      "openOrder id: 124 UAVS STK @ SMART : SELL MKT 10.0 Submitted\n",
      "orderStatus - orderid: 124 status: Submitted filled 0.0 remaining 10.0 lastFillPrice 0.0\n",
      "Order Executed:  -1 UAVS STK USD 0000e22a.60d78527.01.01 124 10.0 2\n",
      "openOrder id: 124 UAVS STK @ SMART : SELL MKT 10.0 Filled\n",
      "orderStatus - orderid: 124 status: Filled filled 10.0 remaining 0.0 lastFillPrice 4.72\n",
      "openOrder id: 124 UAVS STK @ SMART : SELL MKT 10.0 Filled\n",
      "orderStatus - orderid: 124 status: Filled filled 10.0 remaining 0.0 lastFillPrice 4.72\n"
     ]
    },
    {
     "name": "stderr",
     "output_type": "stream",
     "text": [
      "ERROR 124 10148 OrderId 124 that needs to be cancelled cannot be cancelled, state: Filled.\n"
     ]
    },
    {
     "name": "stdout",
     "output_type": "stream",
     "text": [
      "cancelling order\n"
     ]
    },
    {
     "name": "stderr",
     "output_type": "stream",
     "text": [
      "ERROR -1 2104 Market data farm connection is OK:usfarm.nj\n",
      "ERROR -1 2104 Market data farm connection is OK:usfarm\n",
      "ERROR -1 2106 HMDS data farm connection is OK:euhmds\n",
      "ERROR -1 2106 HMDS data farm connection is OK:fundfarm\n",
      "ERROR -1 2106 HMDS data farm connection is OK:ushmds\n",
      "ERROR -1 2158 Sec-def data farm connection is OK:secdefil\n"
     ]
    },
    {
     "name": "stdout",
     "output_type": "stream",
     "text": [
      "waiting for connection\n",
      "openOrder id: 41 PFIE STK @ SMART : BUY MIDPRICE 1.0 Submitted\n",
      "orderStatus - orderid: 41 status: Submitted filled 0.0 remaining 1.0 lastFillPrice 0.0\n",
      "The next valid order id is:  125\n",
      "connected\n",
      "openOrder id: 125 HAE STK @ SMART : SELL MKT 10.0 Submitted\n",
      "orderStatus - orderid: 125 status: Submitted filled 0.0 remaining 10.0 lastFillPrice 0.0\n",
      "Order Executed:  -1 HAE STK USD 0000e0d5.60fcee3f.01.01 125 10.0 2\n",
      "openOrder id: 125 HAE STK @ SMART : SELL MKT 10.0 Filled\n",
      "orderStatus - orderid: 125 status: Filled filled 10.0 remaining 0.0 lastFillPrice 56.59\n",
      "openOrder id: 125 HAE STK @ SMART : SELL MKT 10.0 Filled\n",
      "orderStatus - orderid: 125 status: Filled filled 10.0 remaining 0.0 lastFillPrice 56.59\n"
     ]
    },
    {
     "name": "stderr",
     "output_type": "stream",
     "text": [
      "ERROR 125 10148 OrderId 125 that needs to be cancelled cannot be cancelled, state: Filled.\n"
     ]
    },
    {
     "name": "stdout",
     "output_type": "stream",
     "text": [
      "cancelling order\n"
     ]
    },
    {
     "name": "stderr",
     "output_type": "stream",
     "text": [
      "ERROR -1 2104 Market data farm connection is OK:usfarm.nj\n",
      "ERROR -1 2104 Market data farm connection is OK:usfarm\n",
      "ERROR -1 2106 HMDS data farm connection is OK:euhmds\n",
      "ERROR -1 2106 HMDS data farm connection is OK:fundfarm\n",
      "ERROR -1 2106 HMDS data farm connection is OK:ushmds\n",
      "ERROR -1 2158 Sec-def data farm connection is OK:secdefil\n"
     ]
    },
    {
     "name": "stdout",
     "output_type": "stream",
     "text": [
      "waiting for connection\n",
      "openOrder id: 41 PFIE STK @ SMART : BUY MIDPRICE 1.0 Submitted\n",
      "orderStatus - orderid: 41 status: Submitted filled 0.0 remaining 1.0 lastFillPrice 0.0\n",
      "The next valid order id is:  126\n",
      "connected\n",
      "openOrder id: 126 SPRT STK @ SMART : SELL MKT 10.0 Submitted\n",
      "orderStatus - orderid: 126 status: Submitted filled 0.0 remaining 10.0 lastFillPrice 0.0\n",
      "Order Executed:  -1 SPRT STK USD 0000e22a.60d78548.01.01 126 10.0 2\n",
      "openOrder id: 126 SPRT STK @ SMART : SELL MKT 10.0 Filled\n",
      "orderStatus - orderid: 126 status: Filled filled 10.0 remaining 0.0 lastFillPrice 2.63\n",
      "openOrder id: 126 SPRT STK @ SMART : SELL MKT 10.0 Filled\n",
      "orderStatus - orderid: 126 status: Filled filled 10.0 remaining 0.0 lastFillPrice 2.63\n"
     ]
    },
    {
     "name": "stderr",
     "output_type": "stream",
     "text": [
      "ERROR 126 10148 OrderId 126 that needs to be cancelled cannot be cancelled, state: Filled.\n"
     ]
    },
    {
     "name": "stdout",
     "output_type": "stream",
     "text": [
      "cancelling order\n"
     ]
    },
    {
     "name": "stderr",
     "output_type": "stream",
     "text": [
      "ERROR -1 2104 Market data farm connection is OK:usfarm.nj\n",
      "ERROR -1 2104 Market data farm connection is OK:usfarm\n",
      "ERROR -1 2106 HMDS data farm connection is OK:euhmds\n",
      "ERROR -1 2106 HMDS data farm connection is OK:fundfarm\n",
      "ERROR -1 2106 HMDS data farm connection is OK:ushmds\n",
      "ERROR -1 2158 Sec-def data farm connection is OK:secdefil\n"
     ]
    },
    {
     "name": "stdout",
     "output_type": "stream",
     "text": [
      "waiting for connection\n",
      "openOrder id: 41 PFIE STK @ SMART : BUY MIDPRICE 1.0 Submitted\n",
      "orderStatus - orderid: 41 status: Submitted filled 0.0 remaining 1.0 lastFillPrice 0.0\n",
      "The next valid order id is:  127\n",
      "connected\n",
      "openOrder id: 127 TMCI STK @ SMART : SELL MKT 10.0 Submitted\n",
      "orderStatus - orderid: 127 status: Submitted filled 0.0 remaining 10.0 lastFillPrice 0.0\n",
      "Order Executed:  -1 TMCI STK USD 0000e22a.60d78555.01.01 127 10.0 2\n",
      "openOrder id: 127 TMCI STK @ SMART : SELL MKT 10.0 Filled\n",
      "orderStatus - orderid: 127 status: Filled filled 10.0 remaining 0.0 lastFillPrice 30.92\n",
      "openOrder id: 127 TMCI STK @ SMART : SELL MKT 10.0 Filled\n",
      "orderStatus - orderid: 127 status: Filled filled 10.0 remaining 0.0 lastFillPrice 30.92\n"
     ]
    },
    {
     "name": "stderr",
     "output_type": "stream",
     "text": [
      "ERROR 127 10148 OrderId 127 that needs to be cancelled cannot be cancelled, state: Filled.\n"
     ]
    },
    {
     "name": "stdout",
     "output_type": "stream",
     "text": [
      "cancelling order\n"
     ]
    },
    {
     "name": "stderr",
     "output_type": "stream",
     "text": [
      "ERROR -1 2104 Market data farm connection is OK:usfarm.nj\n",
      "ERROR -1 2104 Market data farm connection is OK:usfarm\n",
      "ERROR -1 2106 HMDS data farm connection is OK:euhmds\n",
      "ERROR -1 2106 HMDS data farm connection is OK:fundfarm\n",
      "ERROR -1 2106 HMDS data farm connection is OK:ushmds\n",
      "ERROR -1 2158 Sec-def data farm connection is OK:secdefil\n"
     ]
    },
    {
     "name": "stdout",
     "output_type": "stream",
     "text": [
      "waiting for connection\n",
      "openOrder id: 41 PFIE STK @ SMART : BUY MIDPRICE 1.0 Submitted\n",
      "orderStatus - orderid: 41 status: Submitted filled 0.0 remaining 1.0 lastFillPrice 0.0\n",
      "The next valid order id is:  128\n",
      "connected\n",
      "openOrder id: 128 SINO STK @ SMART : SELL MKT 10.0 Submitted\n",
      "orderStatus - orderid: 128 status: Submitted filled 0.0 remaining 10.0 lastFillPrice 0.0\n",
      "Order Executed:  -1 SINO STK USD 0000e22a.60d78562.01.01 128 10.0 2\n",
      "openOrder id: 128 SINO STK @ SMART : SELL MKT 10.0 Filled\n",
      "orderStatus - orderid: 128 status: Filled filled 10.0 remaining 0.0 lastFillPrice 3.71\n",
      "openOrder id: 128 SINO STK @ SMART : SELL MKT 10.0 Filled\n",
      "orderStatus - orderid: 128 status: Filled filled 10.0 remaining 0.0 lastFillPrice 3.71\n"
     ]
    },
    {
     "name": "stderr",
     "output_type": "stream",
     "text": [
      "ERROR 128 10148 OrderId 128 that needs to be cancelled cannot be cancelled, state: Filled.\n"
     ]
    },
    {
     "name": "stdout",
     "output_type": "stream",
     "text": [
      "cancelling order\n"
     ]
    },
    {
     "name": "stderr",
     "output_type": "stream",
     "text": [
      "ERROR -1 2104 Market data farm connection is OK:usfarm.nj\n",
      "ERROR -1 2104 Market data farm connection is OK:usfarm\n",
      "ERROR -1 2106 HMDS data farm connection is OK:euhmds\n",
      "ERROR -1 2106 HMDS data farm connection is OK:fundfarm\n",
      "ERROR -1 2106 HMDS data farm connection is OK:ushmds\n",
      "ERROR -1 2158 Sec-def data farm connection is OK:secdefil\n"
     ]
    },
    {
     "name": "stdout",
     "output_type": "stream",
     "text": [
      "waiting for connection\n",
      "openOrder id: 41 PFIE STK @ SMART : BUY MIDPRICE 1.0 Submitted\n",
      "orderStatus - orderid: 41 status: Submitted filled 0.0 remaining 1.0 lastFillPrice 0.0\n",
      "The next valid order id is:  129\n",
      "connected\n",
      "openOrder id: 129 VLDR STK @ SMART : SELL MKT 10.0 Submitted\n",
      "orderStatus - orderid: 129 status: Submitted filled 0.0 remaining 10.0 lastFillPrice 0.0\n",
      "Order Executed:  -1 VLDR STK USD 0000e22a.60d785b2.01.01 129 10.0 2\n",
      "openOrder id: 129 VLDR STK @ SMART : SELL MKT 10.0 Filled\n",
      "orderStatus - orderid: 129 status: Filled filled 10.0 remaining 0.0 lastFillPrice 10.7\n",
      "openOrder id: 129 VLDR STK @ SMART : SELL MKT 10.0 Filled\n",
      "orderStatus - orderid: 129 status: Filled filled 10.0 remaining 0.0 lastFillPrice 10.7\n"
     ]
    },
    {
     "name": "stderr",
     "output_type": "stream",
     "text": [
      "ERROR 129 10148 OrderId 129 that needs to be cancelled cannot be cancelled, state: Filled.\n"
     ]
    },
    {
     "name": "stdout",
     "output_type": "stream",
     "text": [
      "cancelling order\n"
     ]
    },
    {
     "name": "stderr",
     "output_type": "stream",
     "text": [
      "ERROR -1 2104 Market data farm connection is OK:usfarm.nj\n",
      "ERROR -1 2104 Market data farm connection is OK:usfarm\n",
      "ERROR -1 2106 HMDS data farm connection is OK:euhmds\n",
      "ERROR -1 2106 HMDS data farm connection is OK:fundfarm\n",
      "ERROR -1 2106 HMDS data farm connection is OK:ushmds\n",
      "ERROR -1 2158 Sec-def data farm connection is OK:secdefil\n"
     ]
    },
    {
     "name": "stdout",
     "output_type": "stream",
     "text": [
      "waiting for connection\n",
      "openOrder id: 41 PFIE STK @ SMART : BUY MIDPRICE 1.0 Submitted\n",
      "orderStatus - orderid: 41 status: Submitted filled 0.0 remaining 1.0 lastFillPrice 0.0\n",
      "The next valid order id is:  130\n",
      "connected\n",
      "openOrder id: 130 GRAY STK @ SMART : SELL MKT 10.0 Submitted\n",
      "orderStatus - orderid: 130 status: Submitted filled 0.0 remaining 10.0 lastFillPrice 0.0\n",
      "Order Executed:  -1 GRAY STK USD 0000e0d5.60fcee74.01.01 130 10.0 2\n",
      "openOrder id: 130 GRAY STK @ SMART : SELL MKT 10.0 Filled\n",
      "orderStatus - orderid: 130 status: Filled filled 10.0 remaining 0.0 lastFillPrice 3.76\n",
      "openOrder id: 130 GRAY STK @ SMART : SELL MKT 10.0 Filled\n",
      "orderStatus - orderid: 130 status: Filled filled 10.0 remaining 0.0 lastFillPrice 3.76\n"
     ]
    },
    {
     "name": "stderr",
     "output_type": "stream",
     "text": [
      "ERROR 130 10148 OrderId 130 that needs to be cancelled cannot be cancelled, state: Filled.\n"
     ]
    },
    {
     "name": "stdout",
     "output_type": "stream",
     "text": [
      "cancelling order\n"
     ]
    },
    {
     "name": "stderr",
     "output_type": "stream",
     "text": [
      "ERROR -1 2104 Market data farm connection is OK:usfarm.nj\n",
      "ERROR -1 2104 Market data farm connection is OK:usfarm\n",
      "ERROR -1 2106 HMDS data farm connection is OK:euhmds\n",
      "ERROR -1 2106 HMDS data farm connection is OK:fundfarm\n",
      "ERROR -1 2106 HMDS data farm connection is OK:ushmds\n",
      "ERROR -1 2158 Sec-def data farm connection is OK:secdefil\n"
     ]
    },
    {
     "name": "stdout",
     "output_type": "stream",
     "text": [
      "waiting for connection\n",
      "openOrder id: 41 PFIE STK @ SMART : BUY MIDPRICE 1.0 Submitted\n",
      "orderStatus - orderid: 41 status: Submitted filled 0.0 remaining 1.0 lastFillPrice 0.0\n",
      "The next valid order id is:  131\n",
      "connected\n",
      "openOrder id: 131 INTZ STK @ SMART : SELL MKT 10.0 Submitted\n",
      "orderStatus - orderid: 131 status: Submitted filled 0.0 remaining 10.0 lastFillPrice 0.0\n",
      "Order Executed:  -1 INTZ STK USD 0000e0d5.60fcee77.01.01 131 10.0 2\n",
      "openOrder id: 131 INTZ STK @ SMART : SELL MKT 10.0 Filled\n",
      "orderStatus - orderid: 131 status: Filled filled 10.0 remaining 0.0 lastFillPrice 12.12\n",
      "openOrder id: 131 INTZ STK @ SMART : SELL MKT 10.0 Filled\n",
      "orderStatus - orderid: 131 status: Filled filled 10.0 remaining 0.0 lastFillPrice 12.12\n"
     ]
    },
    {
     "name": "stderr",
     "output_type": "stream",
     "text": [
      "ERROR 131 10148 OrderId 131 that needs to be cancelled cannot be cancelled, state: Filled.\n"
     ]
    },
    {
     "name": "stdout",
     "output_type": "stream",
     "text": [
      "cancelling order\n"
     ]
    },
    {
     "name": "stderr",
     "output_type": "stream",
     "text": [
      "ERROR -1 2104 Market data farm connection is OK:usfarm.nj\n",
      "ERROR -1 2104 Market data farm connection is OK:usfarm\n",
      "ERROR -1 2106 HMDS data farm connection is OK:euhmds\n",
      "ERROR -1 2106 HMDS data farm connection is OK:fundfarm\n",
      "ERROR -1 2106 HMDS data farm connection is OK:ushmds\n",
      "ERROR -1 2158 Sec-def data farm connection is OK:secdefil\n"
     ]
    },
    {
     "name": "stdout",
     "output_type": "stream",
     "text": [
      "waiting for connection\n",
      "openOrder id: 41 PFIE STK @ SMART : BUY MIDPRICE 1.0 Submitted\n",
      "orderStatus - orderid: 41 status: Submitted filled 0.0 remaining 1.0 lastFillPrice 0.0\n",
      "The next valid order id is:  132\n",
      "connected\n",
      "openOrder id: 132 AGFY STK @ SMART : SELL MKT 10.0 PreSubmitted\n",
      "orderStatus - orderid: 132 status: PreSubmitted filled 0.0 remaining 10.0 lastFillPrice 0.0\n",
      "Order Executed:  -1 AGFY STK USD 0000e0d5.60fcee81.01.01 132 10.0 2\n",
      "openOrder id: 132 AGFY STK @ SMART : SELL MKT 10.0 Filled\n",
      "orderStatus - orderid: 132 status: Filled filled 10.0 remaining 0.0 lastFillPrice 8.45\n",
      "openOrder id: 132 AGFY STK @ SMART : SELL MKT 10.0 Filled\n",
      "orderStatus - orderid: 132 status: Filled filled 10.0 remaining 0.0 lastFillPrice 8.45\n"
     ]
    },
    {
     "name": "stderr",
     "output_type": "stream",
     "text": [
      "ERROR 132 10148 OrderId 132 that needs to be cancelled cannot be cancelled, state: Filled.\n"
     ]
    },
    {
     "name": "stdout",
     "output_type": "stream",
     "text": [
      "cancelling order\n"
     ]
    },
    {
     "name": "stderr",
     "output_type": "stream",
     "text": [
      "ERROR -1 2104 Market data farm connection is OK:usfarm.nj\n",
      "ERROR -1 2104 Market data farm connection is OK:usfarm\n",
      "ERROR -1 2106 HMDS data farm connection is OK:euhmds\n",
      "ERROR -1 2106 HMDS data farm connection is OK:fundfarm\n",
      "ERROR -1 2106 HMDS data farm connection is OK:ushmds\n",
      "ERROR -1 2158 Sec-def data farm connection is OK:secdefil\n"
     ]
    },
    {
     "name": "stdout",
     "output_type": "stream",
     "text": [
      "waiting for connection\n",
      "openOrder id: 41 PFIE STK @ SMART : BUY MIDPRICE 1.0 Submitted\n",
      "orderStatus - orderid: 41 status: Submitted filled 0.0 remaining 1.0 lastFillPrice 0.0\n",
      "The next valid order id is:  133\n",
      "connected\n",
      "openOrder id: 133 HFFG STK @ SMART : SELL MKT 10.0 Submitted\n",
      "orderStatus - orderid: 133 status: Submitted filled 0.0 remaining 10.0 lastFillPrice 0.0\n",
      "Order Executed:  -1 HFFG STK USD 0000e0d5.60fcee8f.01.01 133 10.0 2\n",
      "openOrder id: 133 HFFG STK @ SMART : SELL MKT 10.0 Filled\n",
      "orderStatus - orderid: 133 status: Filled filled 10.0 remaining 0.0 lastFillPrice 6.22\n",
      "openOrder id: 133 HFFG STK @ SMART : SELL MKT 10.0 Filled\n",
      "orderStatus - orderid: 133 status: Filled filled 10.0 remaining 0.0 lastFillPrice 6.22\n"
     ]
    },
    {
     "name": "stderr",
     "output_type": "stream",
     "text": [
      "ERROR 133 10148 OrderId 133 that needs to be cancelled cannot be cancelled, state: Filled.\n"
     ]
    },
    {
     "name": "stdout",
     "output_type": "stream",
     "text": [
      "cancelling order\n"
     ]
    },
    {
     "name": "stderr",
     "output_type": "stream",
     "text": [
      "ERROR -1 2104 Market data farm connection is OK:usfarm.nj\n",
      "ERROR -1 2104 Market data farm connection is OK:usfarm\n",
      "ERROR -1 2106 HMDS data farm connection is OK:euhmds\n",
      "ERROR -1 2106 HMDS data farm connection is OK:fundfarm\n",
      "ERROR -1 2106 HMDS data farm connection is OK:ushmds\n",
      "ERROR -1 2158 Sec-def data farm connection is OK:secdefil\n"
     ]
    },
    {
     "name": "stdout",
     "output_type": "stream",
     "text": [
      "waiting for connection\n",
      "openOrder id: 41 PFIE STK @ SMART : BUY MIDPRICE 1.0 Submitted\n",
      "orderStatus - orderid: 41 status: Submitted filled 0.0 remaining 1.0 lastFillPrice 0.0\n",
      "The next valid order id is:  134\n",
      "connected\n",
      "openOrder id: 134 NNOX STK @ SMART : SELL MKT 10.0 PreSubmitted\n",
      "orderStatus - orderid: 134 status: PreSubmitted filled 0.0 remaining 10.0 lastFillPrice 0.0\n",
      "Order Executed:  -1 NNOX STK USD 0000e22a.60d786cd.01.01 134 10.0 2\n",
      "openOrder id: 134 NNOX STK @ SMART : SELL MKT 10.0 Filled\n",
      "orderStatus - orderid: 134 status: Filled filled 10.0 remaining 0.0 lastFillPrice 24.12\n",
      "openOrder id: 134 NNOX STK @ SMART : SELL MKT 10.0 Filled\n",
      "orderStatus - orderid: 134 status: Filled filled 10.0 remaining 0.0 lastFillPrice 24.12\n"
     ]
    },
    {
     "name": "stderr",
     "output_type": "stream",
     "text": [
      "ERROR 134 10148 OrderId 134 that needs to be cancelled cannot be cancelled, state: Filled.\n"
     ]
    },
    {
     "name": "stdout",
     "output_type": "stream",
     "text": [
      "cancelling order\n"
     ]
    },
    {
     "name": "stderr",
     "output_type": "stream",
     "text": [
      "ERROR -1 2104 Market data farm connection is OK:usfarm.nj\n",
      "ERROR -1 2104 Market data farm connection is OK:usfarm\n",
      "ERROR -1 2106 HMDS data farm connection is OK:euhmds\n",
      "ERROR -1 2106 HMDS data farm connection is OK:fundfarm\n",
      "ERROR -1 2106 HMDS data farm connection is OK:ushmds\n",
      "ERROR -1 2158 Sec-def data farm connection is OK:secdefil\n"
     ]
    },
    {
     "name": "stdout",
     "output_type": "stream",
     "text": [
      "openOrder id:waiting for connection\n",
      " 41 PFIE STK @ SMART : BUY MIDPRICE 1.0 Submitted\n",
      "orderStatus - orderid: 41 status: Submitted filled 0.0 remaining 1.0 lastFillPrice 0.0\n",
      "The next valid order id is:  135\n",
      "connected\n",
      "openOrder id: 135 CAN STK @ SMART : SELL MKT 10.0 PreSubmitted\n",
      "orderStatus - orderid: 135 status: PreSubmitted filled 0.0 remaining 10.0 lastFillPrice 0.0\n",
      "Order Executed:  -1 CAN STK USD 0000e0d5.60fcee9e.01.01 135 10.0 2\n",
      "openOrder id: 135 CAN STK @ SMART : SELL MKT 10.0 Filled\n",
      "orderStatus - orderid: 135 status: Filled filled 10.0 remaining 0.0 lastFillPrice 9.89\n",
      "openOrder id: 135 CAN STK @ SMART : SELL MKT 10.0 Filled\n",
      "orderStatus - orderid: 135 status: Filled filled 10.0 remaining 0.0 lastFillPrice 9.89\n"
     ]
    },
    {
     "name": "stderr",
     "output_type": "stream",
     "text": [
      "ERROR 135 10148 OrderId 135 that needs to be cancelled cannot be cancelled, state: Filled.\n"
     ]
    },
    {
     "name": "stdout",
     "output_type": "stream",
     "text": [
      "cancelling order\n"
     ]
    },
    {
     "name": "stderr",
     "output_type": "stream",
     "text": [
      "ERROR -1 2104 Market data farm connection is OK:usfarm.nj\n",
      "ERROR -1 2104 Market data farm connection is OK:usfarm\n",
      "ERROR -1 2106 HMDS data farm connection is OK:euhmds\n",
      "ERROR -1 2106 HMDS data farm connection is OK:fundfarm\n",
      "ERROR -1 2106 HMDS data farm connection is OK:ushmds\n",
      "ERROR -1 2158 Sec-def data farm connection is OK:secdefil\n"
     ]
    },
    {
     "name": "stdout",
     "output_type": "stream",
     "text": [
      "waiting for connection\n",
      "openOrder id: 41 PFIE STK @ SMART : BUY MIDPRICE 1.0 Submitted\n",
      "orderStatus - orderid: 41 status: Submitted filled 0.0 remaining 1.0 lastFillPrice 0.0\n",
      "The next valid order id is:  136\n",
      "connected\n"
     ]
    },
    {
     "name": "stderr",
     "output_type": "stream",
     "text": [
      "ERROR 136 201 Order rejected - reason:The contract is not available for short sale.\n"
     ]
    },
    {
     "name": "stdout",
     "output_type": "stream",
     "text": [
      "openOrder id: 136 KBSF STK @ SMART : SELL MKT 10.0 Inactive\n",
      "orderStatus - orderid: 136 status: Inactive filled 0.0 remaining 10.0 lastFillPrice 0.0\n",
      "openOrder id: 136 KBSF STK @ SMART : SELL MKT 10.0 Inactive\n",
      "orderStatus - orderid: 136 status: Inactive filled 0.0 remaining 10.0 lastFillPrice 0.0\n"
     ]
    },
    {
     "name": "stderr",
     "output_type": "stream",
     "text": [
      "ERROR 136 10148 OrderId 136 that needs to be cancelled cannot be cancelled, state: Cancelled.\n"
     ]
    },
    {
     "name": "stdout",
     "output_type": "stream",
     "text": [
      "cancelling order\n"
     ]
    },
    {
     "name": "stderr",
     "output_type": "stream",
     "text": [
      "ERROR -1 2104 Market data farm connection is OK:usfarm.nj\n",
      "ERROR -1 2104 Market data farm connection is OK:usfarm\n",
      "ERROR -1 2106 HMDS data farm connection is OK:euhmds\n",
      "ERROR -1 2106 HMDS data farm connection is OK:fundfarm\n",
      "ERROR -1 2106 HMDS data farm connection is OK:ushmds\n",
      "ERROR -1 2158 Sec-def data farm connection is OK:secdefil\n"
     ]
    },
    {
     "name": "stdout",
     "output_type": "stream",
     "text": [
      "waiting for connection\n",
      "openOrder id: 41 PFIE STK @ SMART : BUY MIDPRICE 1.0 Submitted\n",
      "orderStatus - orderid: 41 status: Submitted filled 0.0 remaining 1.0 lastFillPrice 0.0\n",
      "The next valid order id is:  137\n",
      "connected\n",
      "openOrder id: 137 BIVI STK @ SMART : SELL MKT 10.0 Submitted\n",
      "orderStatus - orderid: 137 status: Submitted filled 0.0 remaining 10.0 lastFillPrice 0.0\n",
      "Order Executed:  -1 BIVI STK USD 0000e0d5.60fceedc.01.01 137 10.0 2\n",
      "openOrder id: 137 BIVI STK @ SMART : SELL MKT 10.0 Filled\n",
      "orderStatus - orderid: 137 status: Filled filled 10.0 remaining 0.0 lastFillPrice 13.9\n",
      "openOrder id: 137 BIVI STK @ SMART : SELL MKT 10.0 Filled\n",
      "orderStatus - orderid: 137 status: Filled filled 10.0 remaining 0.0 lastFillPrice 13.9\n"
     ]
    },
    {
     "name": "stderr",
     "output_type": "stream",
     "text": [
      "ERROR 137 10148 OrderId 137 that needs to be cancelled cannot be cancelled, state: Filled.\n"
     ]
    },
    {
     "name": "stdout",
     "output_type": "stream",
     "text": [
      "cancelling order\n"
     ]
    },
    {
     "name": "stderr",
     "output_type": "stream",
     "text": [
      "ERROR -1 2104 Market data farm connection is OK:usfarm.nj\n",
      "ERROR -1 2104 Market data farm connection is OK:usfarm\n",
      "ERROR -1 2106 HMDS data farm connection is OK:euhmds\n",
      "ERROR -1 2106 HMDS data farm connection is OK:fundfarm\n",
      "ERROR -1 2106 HMDS data farm connection is OK:ushmds\n",
      "ERROR -1 2158 Sec-def data farm connection is OK:secdefil\n"
     ]
    },
    {
     "name": "stdout",
     "output_type": "stream",
     "text": [
      "waiting for connection\n",
      "openOrder id: 41 PFIE STK @ SMART : BUY MIDPRICE 1.0 Submitted\n",
      "orderStatus - orderid: 41 status: Submitted filled 0.0 remaining 1.0 lastFillPrice 0.0\n",
      "The next valid order id is:  138\n",
      "connected\n",
      "openOrder id: 138 TAL STK @ SMART : SELL MKT 10.0 Submitted\n",
      "orderStatus - orderid: 138 status: Submitted filled 0.0 remaining 10.0 lastFillPrice 0.0\n",
      "Order Executed:  -1 TAL STK USD 0000e22a.60d78745.01.01 138 10.0 2\n",
      "openOrder id: 138 TAL STK @ SMART : SELL MKT 10.0 Filled\n",
      "orderStatus - orderid: 138 status: Filled filled 10.0 remaining 0.0 lastFillPrice 48.03\n",
      "openOrder id: 138 TAL STK @ SMART : SELL MKT 10.0 Filled\n",
      "orderStatus - orderid: 138 status: Filled filled 10.0 remaining 0.0 lastFillPrice 48.03\n"
     ]
    },
    {
     "name": "stderr",
     "output_type": "stream",
     "text": [
      "ERROR 138 10148 OrderId 138 that needs to be cancelled cannot be cancelled, state: Filled.\n"
     ]
    },
    {
     "name": "stdout",
     "output_type": "stream",
     "text": [
      "cancelling order\n"
     ]
    },
    {
     "name": "stderr",
     "output_type": "stream",
     "text": [
      "ERROR -1 2104 Market data farm connection is OK:usfarm.nj\n",
      "ERROR -1 2104 Market data farm connection is OK:usfarm\n",
      "ERROR -1 2106 HMDS data farm connection is OK:euhmds\n",
      "ERROR -1 2106 HMDS data farm connection is OK:fundfarm\n",
      "ERROR -1 2106 HMDS data farm connection is OK:ushmds\n",
      "ERROR -1 2158 Sec-def data farm connection is OK:secdefil\n"
     ]
    },
    {
     "name": "stdout",
     "output_type": "stream",
     "text": [
      "waiting for connection\n",
      "openOrder id: 41 PFIE STK @ SMART : BUY MIDPRICE 1.0 Submitted\n",
      "orderStatus - orderid: 41 status: Submitted filled 0.0 remaining 1.0 lastFillPrice 0.0\n",
      "The next valid order id is:  139\n",
      "connected\n",
      "openOrder id: 139 RYAM STK @ SMART : SELL MKT 10.0 Submitted\n",
      "orderStatus - orderid: 139 status: Submitted filled 0.0 remaining 10.0 lastFillPrice 0.0\n",
      "Order Executed:  -1 RYAM STK USD 0000e22a.60d78762.01.01 139 10.0 2\n",
      "openOrder id: 139 RYAM STK @ SMART : SELL MKT 10.0 Filled\n",
      "orderStatus - orderid: 139 status: Filled filled 10.0 remaining 0.0 lastFillPrice 7.62\n",
      "openOrder id: 139 RYAM STK @ SMART : SELL MKT 10.0 Filled\n",
      "orderStatus - orderid: 139 status: Filled filled 10.0 remaining 0.0 lastFillPrice 7.62\n"
     ]
    },
    {
     "name": "stderr",
     "output_type": "stream",
     "text": [
      "ERROR 139 10148 OrderId 139 that needs to be cancelled cannot be cancelled, state: Filled.\n"
     ]
    },
    {
     "name": "stdout",
     "output_type": "stream",
     "text": [
      "cancelling order\n"
     ]
    },
    {
     "name": "stderr",
     "output_type": "stream",
     "text": [
      "ERROR -1 2104 Market data farm connection is OK:usfarm.nj\n",
      "ERROR -1 2104 Market data farm connection is OK:usfarm\n",
      "ERROR -1 2106 HMDS data farm connection is OK:euhmds\n",
      "ERROR -1 2106 HMDS data farm connection is OK:fundfarm\n",
      "ERROR -1 2106 HMDS data farm connection is OK:ushmds\n",
      "ERROR -1 2158 Sec-def data farm connection is OK:secdefil\n"
     ]
    },
    {
     "name": "stdout",
     "output_type": "stream",
     "text": [
      "waiting for connection\n",
      "openOrder id: 41 PFIE STK @ SMART : BUY MIDPRICE 1.0 Submitted\n",
      "orderStatus - orderid: 41 status: Submitted filled 0.0 remaining 1.0 lastFillPrice 0.0\n",
      "The next valid order id is:  140\n",
      "connected\n",
      "openOrder id: 140 APLT STK @ SMART : SELL MKT 10.0 PreSubmitted\n",
      "orderStatus - orderid: 140 status: PreSubmitted filled 0.0 remaining 10.0 lastFillPrice 0.0\n",
      "Order Executed:  -1 APLT STK USD 0000e0d5.60fcef4e.01.01 140 10.0 2\n",
      "openOrder id: 140 APLT STK @ SMART : SELL MKT 10.0 Filled\n",
      "orderStatus - orderid: 140 status: Filled filled 10.0 remaining 0.0 lastFillPrice 14.88\n",
      "openOrder id: 140 APLT STK @ SMART : SELL MKT 10.0 Filled\n",
      "orderStatus - orderid: 140 status: Filled filled 10.0 remaining 0.0 lastFillPrice 14.88\n"
     ]
    },
    {
     "name": "stderr",
     "output_type": "stream",
     "text": [
      "ERROR 140 10148 OrderId 140 that needs to be cancelled cannot be cancelled, state: Filled.\n"
     ]
    },
    {
     "name": "stdout",
     "output_type": "stream",
     "text": [
      "cancelling order\n"
     ]
    },
    {
     "name": "stderr",
     "output_type": "stream",
     "text": [
      "ERROR -1 2104 Market data farm connection is OK:usfarm.nj\n",
      "ERROR -1 2104 Market data farm connection is OK:usfarm\n",
      "ERROR -1 2106 HMDS data farm connection is OK:euhmds\n",
      "ERROR -1 2106 HMDS data farm connection is OK:fundfarm\n",
      "ERROR -1 2106 HMDS data farm connection is OK:ushmds\n",
      "ERROR -1 2158 Sec-def data farm connection is OK:secdefil\n"
     ]
    },
    {
     "name": "stdout",
     "output_type": "stream",
     "text": [
      "waiting for connection\n",
      "openOrder id: 41 PFIE STK @ SMART : BUY MIDPRICE 1.0 Submitted\n",
      "orderStatus - orderid: 41 status: Submitted filled 0.0 remaining 1.0 lastFillPrice 0.0\n",
      "The next valid order id is:  141\n",
      "connected\n",
      "openOrder id: 141 PAAS STK @ SMART : SELL MKT 10.0 PreSubmitted\n",
      "orderStatus - orderid: 141 status: PreSubmitted filled 0.0 remaining 10.0 lastFillPrice 0.0\n",
      "Order Executed:  -1 PAAS STK USD 0000e22a.60d787b2.01.01 141 10.0 2\n",
      "openOrder id: 141 PAAS STK @ SMART : SELL MKT 10.0 Filled\n",
      "orderStatus - orderid: 141 status: Filled filled 10.0 remaining 0.0 lastFillPrice 33.45\n",
      "openOrder id: 141 PAAS STK @ SMART : SELL MKT 10.0 Filled\n",
      "orderStatus - orderid: 141 status: Filled filled 10.0 remaining 0.0 lastFillPrice 33.45\n"
     ]
    },
    {
     "name": "stderr",
     "output_type": "stream",
     "text": [
      "ERROR 141 10148 OrderId 141 that needs to be cancelled cannot be cancelled, state: Filled.\n"
     ]
    },
    {
     "name": "stdout",
     "output_type": "stream",
     "text": [
      "cancelling order\n"
     ]
    },
    {
     "name": "stderr",
     "output_type": "stream",
     "text": [
      "ERROR -1 2104 Market data farm connection is OK:usfarm.nj\n",
      "ERROR -1 2104 Market data farm connection is OK:usfarm\n",
      "ERROR -1 2106 HMDS data farm connection is OK:euhmds\n",
      "ERROR -1 2106 HMDS data farm connection is OK:fundfarm\n",
      "ERROR -1 2106 HMDS data farm connection is OK:ushmds\n",
      "ERROR -1 2158 Sec-def data farm connection is OK:secdefil\n"
     ]
    },
    {
     "name": "stdout",
     "output_type": "stream",
     "text": [
      "waiting for connection\n",
      "openOrder id: 41 PFIE STK @ SMART : BUY MIDPRICE 1.0 Submitted\n",
      "orderStatus - orderid: 41 status: Submitted filled 0.0 remaining 1.0 lastFillPrice 0.0\n",
      "The next valid order id is:  142\n",
      "connected\n",
      "openOrder id: 142 PRPO STK @ SMART : SELL MKT 10.0 Submitted\n",
      "orderStatus - orderid: 142 status: Submitted filled 0.0 remaining 10.0 lastFillPrice 0.0\n",
      "Order Executed:  -1 PRPO STK USD 0000e22a.60d787c9.01.01 142 10.0 2\n",
      "openOrder id: 142 PRPO STK @ SMART : SELL MKT 10.0 Filled\n",
      "orderStatus - orderid: 142 status: Filled filled 10.0 remaining 0.0 lastFillPrice 3.97\n",
      "openOrder id: 142 PRPO STK @ SMART : SELL MKT 10.0 Filled\n",
      "orderStatus - orderid: 142 status: Filled filled 10.0 remaining 0.0 lastFillPrice 3.97\n"
     ]
    },
    {
     "name": "stderr",
     "output_type": "stream",
     "text": [
      "ERROR 142 10148 OrderId 142 that needs to be cancelled cannot be cancelled, state: Filled.\n"
     ]
    },
    {
     "name": "stdout",
     "output_type": "stream",
     "text": [
      "cancelling order\n"
     ]
    },
    {
     "name": "stderr",
     "output_type": "stream",
     "text": [
      "ERROR -1 2104 Market data farm connection is OK:usfarm.nj\n",
      "ERROR -1 2104 Market data farm connection is OK:usfarm\n",
      "ERROR -1 2106 HMDS data farm connection is OK:euhmds\n",
      "ERROR -1 2106 HMDS data farm connection is OK:fundfarm\n",
      "ERROR -1 2106 HMDS data farm connection is OK:ushmds\n",
      "ERROR -1 2158 Sec-def data farm connection is OK:secdefil\n"
     ]
    },
    {
     "name": "stdout",
     "output_type": "stream",
     "text": [
      "waiting for connection\n",
      "openOrder id: 41 PFIE STK @ SMART : BUY MIDPRICE 1.0 Submitted\n",
      "orderStatus - orderid: 41 status: Submitted filled 0.0 remaining 1.0 lastFillPrice 0.0\n",
      "The next valid order id is:  143\n",
      "connected\n",
      "openOrder id: 143 DAO STK @ SMART : SELL MKT 10.0 PreSubmitted\n",
      "orderStatus - orderid: 143 status: PreSubmitted filled 0.0 remaining 10.0 lastFillPrice 0.0\n",
      "Order Executed:  -1 DAO STK USD 0000e0d5.60fcef85.01.01 143 10.0 2\n",
      "openOrder id: 143 DAO STK @ SMART : SELL MKT 10.0 Filled\n",
      "orderStatus - orderid: 143 status: Filled filled 10.0 remaining 0.0 lastFillPrice 23.27\n",
      "openOrder id: 143 DAO STK @ SMART : SELL MKT 10.0 Filled\n",
      "orderStatus - orderid: 143 status: Filled filled 10.0 remaining 0.0 lastFillPrice 23.27\n"
     ]
    },
    {
     "name": "stderr",
     "output_type": "stream",
     "text": [
      "ERROR 143 10148 OrderId 143 that needs to be cancelled cannot be cancelled, state: Filled.\n"
     ]
    },
    {
     "name": "stdout",
     "output_type": "stream",
     "text": [
      "cancelling order\n"
     ]
    },
    {
     "name": "stderr",
     "output_type": "stream",
     "text": [
      "ERROR -1 2104 Market data farm connection is OK:usfarm.nj\n",
      "ERROR -1 2104 Market data farm connection is OK:usfarm\n",
      "ERROR -1 2106 HMDS data farm connection is OK:euhmds\n",
      "ERROR -1 2106 HMDS data farm connection is OK:fundfarm\n",
      "ERROR -1 2106 HMDS data farm connection is OK:ushmds\n",
      "ERROR -1 2158 Sec-def data farm connection is OK:secdefil\n"
     ]
    },
    {
     "name": "stdout",
     "output_type": "stream",
     "text": [
      "waiting for connection\n",
      "openOrder id: 41 PFIE STK @ SMART : BUY MIDPRICE 1.0 Submitted\n",
      "orderStatus - orderid: 41 status: Submitted filled 0.0 remaining 1.0 lastFillPrice 0.0\n",
      "The next valid order id is:  144\n",
      "connected\n",
      "openOrder id: 144 AUTL STK @ SMART : SELL MKT 10.0 PreSubmitted\n",
      "orderStatus - orderid: 144 status: PreSubmitted filled 0.0 remaining 10.0 lastFillPrice 0.0\n",
      "Order Executed:  -1 AUTL STK USD 0000e0d5.60fcef9e.01.01 144 10.0 2\n",
      "openOrder id: 144 AUTL STK @ SMART : SELL MKT 10.0 Filled\n",
      "orderStatus - orderid: 144 status: Filled filled 10.0 remaining 0.0 lastFillPrice 6.32\n",
      "openOrder id: 144 AUTL STK @ SMART : SELL MKT 10.0 Filled\n",
      "orderStatus - orderid: 144 status: Filled filled 10.0 remaining 0.0 lastFillPrice 6.32\n"
     ]
    },
    {
     "name": "stderr",
     "output_type": "stream",
     "text": [
      "ERROR 144 10148 OrderId 144 that needs to be cancelled cannot be cancelled, state: Filled.\n"
     ]
    },
    {
     "name": "stdout",
     "output_type": "stream",
     "text": [
      "cancelling order\n"
     ]
    },
    {
     "name": "stderr",
     "output_type": "stream",
     "text": [
      "ERROR -1 2104 Market data farm connection is OK:usfarm.nj\n",
      "ERROR -1 2104 Market data farm connection is OK:usfarm\n",
      "ERROR -1 2106 HMDS data farm connection is OK:euhmds\n",
      "ERROR -1 2106 HMDS data farm connection is OK:fundfarm\n",
      "ERROR -1 2106 HMDS data farm connection is OK:ushmds\n",
      "ERROR -1 2158 Sec-def data farm connection is OK:secdefil\n"
     ]
    },
    {
     "name": "stdout",
     "output_type": "stream",
     "text": [
      "waiting for connection\n",
      "openOrder id: 41 PFIE STK @ SMART : BUY MIDPRICE 1.0 Submitted\n",
      "orderStatus - orderid: 41 status: Submitted filled 0.0 remaining 1.0 lastFillPrice 0.0\n",
      "The next valid order id is:  145\n",
      "connected\n",
      "openOrder id: 145 XBIO STK @ SMART : SELL MKT 10.0 Submitted\n",
      "orderStatus - orderid: 145 status: Submitted filled 0.0 remaining 10.0 lastFillPrice 0.0\n",
      "Order Executed:  -1 XBIO STK USD 0000e22a.60d78838.01.01 145 10.0 2\n",
      "openOrder id: 145 XBIO STK @ SMART : SELL MKT 10.0 Filled\n",
      "orderStatus - orderid: 145 status: Filled filled 10.0 remaining 0.0 lastFillPrice 1.81\n",
      "openOrder id: 145 XBIO STK @ SMART : SELL MKT 10.0 Filled\n",
      "orderStatus - orderid: 145 status: Filled filled 10.0 remaining 0.0 lastFillPrice 1.81\n"
     ]
    },
    {
     "name": "stderr",
     "output_type": "stream",
     "text": [
      "ERROR 145 10148 OrderId 145 that needs to be cancelled cannot be cancelled, state: Filled.\n"
     ]
    },
    {
     "name": "stdout",
     "output_type": "stream",
     "text": [
      "cancelling order\n"
     ]
    },
    {
     "name": "stderr",
     "output_type": "stream",
     "text": [
      "ERROR -1 2104 Market data farm connection is OK:usfarm.nj\n",
      "ERROR -1 2104 Market data farm connection is OK:usfarm\n",
      "ERROR -1 2106 HMDS data farm connection is OK:euhmds\n",
      "ERROR -1 2106 HMDS data farm connection is OK:fundfarm\n",
      "ERROR -1 2106 HMDS data farm connection is OK:ushmds\n",
      "ERROR -1 2158 Sec-def data farm connection is OK:secdefil\n"
     ]
    },
    {
     "name": "stdout",
     "output_type": "stream",
     "text": [
      "waiting for connection\n",
      "openOrder id: 41 PFIE STK @ SMART : BUY MIDPRICE 1.0 Submitted\n",
      "orderStatus - orderid: 41 status: Submitted filled 0.0 remaining 1.0 lastFillPrice 0.0\n",
      "The next valid order id is:  146\n",
      "connected\n",
      "openOrder id: 146 TAOP STK @ SMART : SELL MKT 10.0 PreSubmitted\n",
      "orderStatus - orderid: 146 status: PreSubmitted filled 0.0 remaining 10.0 lastFillPrice 0.0\n",
      "Order Executed:  -1 TAOP STK USD 0000e22a.60d78872.01.01 146 10.0 2\n",
      "openOrder id: 146 TAOP STK @ SMART : SELL MKT 10.0 Filled\n",
      "orderStatus - orderid: 146 status: Filled filled 10.0 remaining 0.0 lastFillPrice 5.62\n",
      "openOrder id: 146 TAOP STK @ SMART : SELL MKT 10.0 Filled\n",
      "orderStatus - orderid: 146 status: Filled filled 10.0 remaining 0.0 lastFillPrice 5.62\n"
     ]
    },
    {
     "name": "stderr",
     "output_type": "stream",
     "text": [
      "ERROR 146 10148 OrderId 146 that needs to be cancelled cannot be cancelled, state: Filled.\n"
     ]
    },
    {
     "name": "stdout",
     "output_type": "stream",
     "text": [
      "cancelling order\n"
     ]
    },
    {
     "name": "stderr",
     "output_type": "stream",
     "text": [
      "ERROR -1 2104 Market data farm connection is OK:usfarm.nj\n",
      "ERROR -1 2104 Market data farm connection is OK:usfarm\n",
      "ERROR -1 2106 HMDS data farm connection is OK:euhmds\n",
      "ERROR -1 2106 HMDS data farm connection is OK:fundfarm\n",
      "ERROR -1 2106 HMDS data farm connection is OK:ushmds\n",
      "ERROR -1 2158 Sec-def data farm connection is OK:secdefil\n"
     ]
    },
    {
     "name": "stdout",
     "output_type": "stream",
     "text": [
      "waiting for connection\n",
      "openOrder id: 41 PFIE STK @ SMART : BUY MIDPRICE 1.0 Submitted\n",
      "orderStatus - orderid: 41 status: Submitted filled 0.0 remaining 1.0 lastFillPrice 0.0\n",
      "The next valid order id is:  147\n",
      "connected\n",
      "openOrder id: 147 SHLS STK @ SMART : SELL MKT 10.0 PreSubmitted\n",
      "orderStatus - orderid: 147 status: PreSubmitted filled 0.0 remaining 10.0 lastFillPrice 0.0\n",
      "Order Executed:  -1 SHLS STK USD 0000e22a.60d788ad.01.01 147 10.0 2\n",
      "openOrder id: 147 SHLS STK @ SMART : SELL MKT 10.0 Filled\n",
      "orderStatus - orderid: 147 status: Filled filled 10.0 remaining 0.0 lastFillPrice 22.14\n",
      "openOrder id: 147 SHLS STK @ SMART : SELL MKT 10.0 Filled\n",
      "orderStatus - orderid: 147 status: Filled filled 10.0 remaining 0.0 lastFillPrice 22.14\n"
     ]
    },
    {
     "name": "stderr",
     "output_type": "stream",
     "text": [
      "ERROR 147 10148 OrderId 147 that needs to be cancelled cannot be cancelled, state: Filled.\n"
     ]
    },
    {
     "name": "stdout",
     "output_type": "stream",
     "text": [
      "cancelling order\n"
     ]
    },
    {
     "name": "stderr",
     "output_type": "stream",
     "text": [
      "ERROR -1 2104 Market data farm connection is OK:usfarm.nj\n",
      "ERROR -1 2104 Market data farm connection is OK:usfarm\n",
      "ERROR -1 2106 HMDS data farm connection is OK:euhmds\n",
      "ERROR -1 2106 HMDS data farm connection is OK:fundfarm\n",
      "ERROR -1 2106 HMDS data farm connection is OK:ushmds\n",
      "ERROR -1 2158 Sec-def data farm connection is OK:secdefil\n"
     ]
    },
    {
     "name": "stdout",
     "output_type": "stream",
     "text": [
      "waiting for connection\n",
      "openOrder id: 41 PFIE STK @ SMART : BUY MIDPRICE 1.0 Submitted\n",
      "orderStatus - orderid: 41 status: Submitted filled 0.0 remaining 1.0 lastFillPrice 0.0\n",
      "The next valid order id is:  148\n",
      "connected\n",
      "openOrder id: 148 ATIF STK @ SMART : SELL MKT 10.0 PreSubmitted\n",
      "orderStatus - orderid: 148 status: PreSubmitted filled 0.0 remaining 10.0 lastFillPrice 0.0\n",
      "Order Executed:  -1 ATIF STK USD 0000e0d5.60fcefed.01.01 148 10.0 2\n",
      "openOrder id: 148 ATIF STK @ SMART : SELL MKT 10.0 Filled\n",
      "orderStatus - orderid: 148 status: Filled filled 10.0 remaining 0.0 lastFillPrice 0.9451\n",
      "openOrder id: 148 ATIF STK @ SMART : SELL MKT 10.0 Filled\n",
      "orderStatus - orderid: 148 status: Filled filled 10.0 remaining 0.0 lastFillPrice 0.9451\n"
     ]
    },
    {
     "name": "stderr",
     "output_type": "stream",
     "text": [
      "ERROR 148 10148 OrderId 148 that needs to be cancelled cannot be cancelled, state: Filled.\n"
     ]
    },
    {
     "name": "stdout",
     "output_type": "stream",
     "text": [
      "cancelling order\n"
     ]
    },
    {
     "name": "stderr",
     "output_type": "stream",
     "text": [
      "ERROR -1 2104 Market data farm connection is OK:usfarm.nj\n",
      "ERROR -1 2104 Market data farm connection is OK:usfarm\n",
      "ERROR -1 2106 HMDS data farm connection is OK:euhmds\n",
      "ERROR -1 2106 HMDS data farm connection is OK:fundfarm\n",
      "ERROR -1 2106 HMDS data farm connection is OK:ushmds\n",
      "ERROR -1 2158 Sec-def data farm connection is OK:secdefil\n"
     ]
    },
    {
     "name": "stdout",
     "output_type": "stream",
     "text": [
      "waiting for connection\n",
      "openOrder id: 41 PFIE STK @ SMART : BUY MIDPRICE 1.0 Submitted\n",
      "orderStatus - orderid: 41 status: Submitted filled 0.0 remaining 1.0 lastFillPrice 0.0\n",
      "The next valid order id is:  149\n",
      "connected\n",
      "openOrder id: 149 MSTR STK @ SMART : SELL MKT 10.0 Submitted\n",
      "orderStatus - orderid: 149 status: Submitted filled 0.0 remaining 10.0 lastFillPrice 0.0\n"
     ]
    },
    {
     "name": "stderr",
     "output_type": "stream",
     "text": [
      "ERROR 149 202 Order Canceled - reason:\n"
     ]
    },
    {
     "name": "stdout",
     "output_type": "stream",
     "text": [
      "cancelling order\n",
      "orderStatus - orderid: 149 status: Cancelled filled 0.0 remaining 10.0 lastFillPrice 0.0\n"
     ]
    },
    {
     "name": "stderr",
     "output_type": "stream",
     "text": [
      "ERROR -1 2104 Market data farm connection is OK:usfarm.nj\n",
      "ERROR -1 2104 Market data farm connection is OK:usfarm\n",
      "ERROR -1 2106 HMDS data farm connection is OK:euhmds\n",
      "ERROR -1 2106 HMDS data farm connection is OK:fundfarm\n",
      "ERROR -1 2106 HMDS data farm connection is OK:ushmds\n",
      "ERROR -1 2158 Sec-def data farm connection is OK:secdefil\n"
     ]
    },
    {
     "name": "stdout",
     "output_type": "stream",
     "text": [
      "waiting for connection\n",
      "openOrder id: 41 PFIE STK @ SMART : BUY MIDPRICE 1.0 Submitted\n",
      "orderStatus - orderid: 41 status: Submitted filled 0.0 remaining 1.0 lastFillPrice 0.0\n",
      "The next valid order id is:  150\n",
      "connected\n",
      "openOrder id: 150 CHNR STK @ SMART : SELL MKT 10.0 PreSubmitted\n",
      "orderStatus - orderid: 150 status: PreSubmitted filled 0.0 remaining 10.0 lastFillPrice 0.0\n",
      "Order Executed:  -1 CHNR STK USD 0000e0d5.60fcf00b.01.01 150 10.0 2\n",
      "openOrder id: 150 CHNR STK @ SMART : SELL MKT 10.0 Filled\n",
      "orderStatus - orderid: 150 status: Filled filled 10.0 remaining 0.0 lastFillPrice 1.39\n",
      "openOrder id: 150 CHNR STK @ SMART : SELL MKT 10.0 Filled\n",
      "orderStatus - orderid: 150 status: Filled filled 10.0 remaining 0.0 lastFillPrice 1.39\n"
     ]
    },
    {
     "name": "stderr",
     "output_type": "stream",
     "text": [
      "ERROR 150 10148 OrderId 150 that needs to be cancelled cannot be cancelled, state: Filled.\n"
     ]
    },
    {
     "name": "stdout",
     "output_type": "stream",
     "text": [
      "cancelling order\n"
     ]
    },
    {
     "name": "stderr",
     "output_type": "stream",
     "text": [
      "ERROR -1 2104 Market data farm connection is OK:usfarm.nj\n",
      "ERROR -1 2104 Market data farm connection is OK:usfarm\n",
      "ERROR -1 2106 HMDS data farm connection is OK:euhmds\n",
      "ERROR -1 2106 HMDS data farm connection is OK:fundfarm\n",
      "ERROR -1 2106 HMDS data farm connection is OK:ushmds\n",
      "ERROR -1 2158 Sec-def data farm connection is OK:secdefil\n"
     ]
    },
    {
     "name": "stdout",
     "output_type": "stream",
     "text": [
      "waiting for connection\n",
      "openOrder id: 41 PFIE STK @ SMART : BUY MIDPRICE 1.0 Submitted\n",
      "orderStatus - orderid: 41 status: Submitted filled 0.0 remaining 1.0 lastFillPrice 0.0\n",
      "The next valid order id is:  151\n",
      "connected\n",
      "openOrder id: 151 PUBM STK @ SMART : SELL MKT 10.0 Submitted\n",
      "orderStatus - orderid: 151 status: Submitted filled 0.0 remaining 10.0 lastFillPrice 0.0\n"
     ]
    },
    {
     "name": "stderr",
     "output_type": "stream",
     "text": [
      "ERROR 151 202 Order Canceled - reason:\n"
     ]
    },
    {
     "name": "stdout",
     "output_type": "stream",
     "text": [
      "cancelling order\n",
      "orderStatus - orderid: 151 status: Cancelled filled 0.0 remaining 10.0 lastFillPrice 0.0\n"
     ]
    },
    {
     "name": "stderr",
     "output_type": "stream",
     "text": [
      "ERROR -1 2104 Market data farm connection is OK:usfarm.nj\n",
      "ERROR -1 2104 Market data farm connection is OK:usfarm\n",
      "ERROR -1 2106 HMDS data farm connection is OK:euhmds\n",
      "ERROR -1 2106 HMDS data farm connection is OK:fundfarm\n",
      "ERROR -1 2106 HMDS data farm connection is OK:ushmds\n",
      "ERROR -1 2158 Sec-def data farm connection is OK:secdefil\n"
     ]
    },
    {
     "name": "stdout",
     "output_type": "stream",
     "text": [
      "waiting for connection\n",
      "openOrder id: 41 PFIE STK @ SMART : BUY MIDPRICE 1.0 Submitted\n",
      "orderStatus - orderid: 41 status: Submitted filled 0.0 remaining 1.0 lastFillPrice 0.0\n",
      "The next valid order id is:  152\n",
      "connected\n",
      "openOrder id: 152 RMED STK @ SMART : SELL MKT 10.0 Submitted\n",
      "orderStatus - orderid: 152 status: Submitted filled 0.0 remaining 10.0 lastFillPrice 0.0\n"
     ]
    },
    {
     "name": "stderr",
     "output_type": "stream",
     "text": [
      "ERROR 152 202 Order Canceled - reason:\n"
     ]
    },
    {
     "name": "stdout",
     "output_type": "stream",
     "text": [
      "cancelling order\n",
      "orderStatus - orderid: 152 status: Cancelled filled 0.0 remaining 10.0 lastFillPrice 0.0\n"
     ]
    },
    {
     "name": "stderr",
     "output_type": "stream",
     "text": [
      "ERROR -1 2104 Market data farm connection is OK:usfarm.nj\n",
      "ERROR -1 2104 Market data farm connection is OK:usfarm\n",
      "ERROR -1 2106 HMDS data farm connection is OK:euhmds\n",
      "ERROR -1 2106 HMDS data farm connection is OK:fundfarm\n",
      "ERROR -1 2106 HMDS data farm connection is OK:ushmds\n",
      "ERROR -1 2158 Sec-def data farm connection is OK:secdefil\n"
     ]
    },
    {
     "name": "stdout",
     "output_type": "stream",
     "text": [
      "waiting for connection\n",
      "openOrder id: 41 PFIE STK @ SMART : BUY MIDPRICE 1.0 Submitted\n",
      "orderStatus - orderid: 41 status: Submitted filled 0.0 remaining 1.0 lastFillPrice 0.0\n",
      "The next valid order id is:  153\n",
      "connected\n",
      "openOrder id: 153 ALRN STK @ SMART : SELL MKT 10.0 Submitted\n",
      "orderStatus - orderid: 153 status: Submitted filled 0.0 remaining 10.0 lastFillPrice 0.0\n",
      "Order Executed:  -1 ALRN STK USD 0000e0d5.60fcf037.01.01 153 10.0 2\n",
      "openOrder id: 153 ALRN STK @ SMART : SELL MKT 10.0 Filled\n",
      "orderStatus - orderid: 153 status: Filled filled 10.0 remaining 0.0 lastFillPrice 1.19\n",
      "openOrder id: 153 ALRN STK @ SMART : SELL MKT 10.0 Filled\n",
      "orderStatus - orderid: 153 status: Filled filled 10.0 remaining 0.0 lastFillPrice 1.19\n"
     ]
    },
    {
     "name": "stderr",
     "output_type": "stream",
     "text": [
      "ERROR 153 10148 OrderId 153 that needs to be cancelled cannot be cancelled, state: Filled.\n"
     ]
    },
    {
     "name": "stdout",
     "output_type": "stream",
     "text": [
      "cancelling order\n"
     ]
    },
    {
     "name": "stderr",
     "output_type": "stream",
     "text": [
      "ERROR -1 2104 Market data farm connection is OK:usfarm.nj\n",
      "ERROR -1 2104 Market data farm connection is OK:usfarm\n",
      "ERROR -1 2106 HMDS data farm connection is OK:euhmds\n",
      "ERROR -1 2106 HMDS data farm connection is OK:fundfarm\n",
      "ERROR -1 2106 HMDS data farm connection is OK:ushmds\n",
      "ERROR -1 2158 Sec-def data farm connection is OK:secdefil\n"
     ]
    },
    {
     "name": "stdout",
     "output_type": "stream",
     "text": [
      "waiting for connection\n",
      "openOrder id: 41 PFIE STK @ SMART : BUY MIDPRICE 1.0 Submitted\n",
      "orderStatus - orderid: 41 status: Submitted filled 0.0 remaining 1.0 lastFillPrice 0.0\n",
      "The next valid order id is:  154\n",
      "connected\n",
      "openOrder id: 154 SPI STK @ SMART : SELL MKT 10.0 Submitted\n",
      "orderStatus - orderid: 154 status: Submitted filled 0.0 remaining 10.0 lastFillPrice 0.0\n",
      "Order Executed:  -1 SPI STK USD 0000e22a.60d789b1.01.01 154 10.0 2\n",
      "openOrder id: 154 SPI STK @ SMART : SELL MKT 10.0 Filled\n",
      "orderStatus - orderid: 154 status: Filled filled 10.0 remaining 0.0 lastFillPrice 5.32\n",
      "openOrder id: 154 SPI STK @ SMART : SELL MKT 10.0 Filled\n",
      "orderStatus - orderid: 154 status: Filled filled 10.0 remaining 0.0 lastFillPrice 5.32\n"
     ]
    },
    {
     "name": "stderr",
     "output_type": "stream",
     "text": [
      "ERROR 154 10148 OrderId 154 that needs to be cancelled cannot be cancelled, state: Filled.\n"
     ]
    },
    {
     "name": "stdout",
     "output_type": "stream",
     "text": [
      "cancelling order\n"
     ]
    },
    {
     "name": "stderr",
     "output_type": "stream",
     "text": [
      "ERROR -1 2104 Market data farm connection is OK:usfarm.nj\n",
      "ERROR -1 2104 Market data farm connection is OK:usfarm\n",
      "ERROR -1 2106 HMDS data farm connection is OK:euhmds\n",
      "ERROR -1 2106 HMDS data farm connection is OK:fundfarm\n",
      "ERROR -1 2106 HMDS data farm connection is OK:ushmds\n",
      "ERROR -1 2158 Sec-def data farm connection is OK:secdefil\n"
     ]
    },
    {
     "name": "stdout",
     "output_type": "stream",
     "text": [
      "waiting for connection\n",
      "openOrder id: 41 PFIE STK @ SMART : BUY MIDPRICE 1.0 Submitted\n",
      "orderStatus - orderid: 41 status: Submitted filled 0.0 remaining 1.0 lastFillPrice 0.0\n",
      "The next valid order id is:  155\n",
      "connected\n",
      "openOrder id: 155 CPNG STK @ SMART : SELL MKT 10.0 PreSubmitted\n",
      "orderStatus - orderid: 155 status: PreSubmitted filled 0.0 remaining 10.0 lastFillPrice 0.0\n",
      "Order Executed:  -1 CPNG STK USD 0000e0d5.60fcf075.01.01 155 10.0 2\n",
      "openOrder id: 155 CPNG STK @ SMART : SELL MKT 10.0 Filled\n",
      "orderStatus - orderid: 155 status: Filled filled 10.0 remaining 0.0 lastFillPrice 36.76\n",
      "openOrder id: 155 CPNG STK @ SMART : SELL MKT 10.0 Filled\n",
      "orderStatus - orderid: 155 status: Filled filled 10.0 remaining 0.0 lastFillPrice 36.76\n"
     ]
    },
    {
     "name": "stderr",
     "output_type": "stream",
     "text": [
      "ERROR 155 10148 OrderId 155 that needs to be cancelled cannot be cancelled, state: Filled.\n"
     ]
    },
    {
     "name": "stdout",
     "output_type": "stream",
     "text": [
      "cancelling order\n"
     ]
    },
    {
     "name": "stderr",
     "output_type": "stream",
     "text": [
      "ERROR -1 2104 Market data farm connection is OK:usfarm.nj\n",
      "ERROR -1 2104 Market data farm connection is OK:usfarm\n",
      "ERROR -1 2106 HMDS data farm connection is OK:euhmds\n",
      "ERROR -1 2106 HMDS data farm connection is OK:fundfarm\n",
      "ERROR -1 2106 HMDS data farm connection is OK:ushmds\n",
      "ERROR -1 2158 Sec-def data farm connection is OK:secdefil\n"
     ]
    },
    {
     "name": "stdout",
     "output_type": "stream",
     "text": [
      "waiting for connection\n",
      "openOrder id: 41 PFIE STK @ SMART : BUY MIDPRICE 1.0 Submitted\n",
      "orderStatus - orderid: 41 status: Submitted filled 0.0 remaining 1.0 lastFillPrice 0.0\n",
      "The next valid order id is:  156\n",
      "connected\n",
      "openOrder id: 156 BCEL STK @ SMART : SELL MKT 10.0 Submitted\n",
      "orderStatus - orderid: 156 status: Submitted filled 0.0 remaining 10.0 lastFillPrice 0.0\n",
      "Order Executed:  -1 BCEL STK USD 0000e0d5.60fcf0b3.01.01 156 10.0 2\n",
      "openOrder id: 156 BCEL STK @ SMART : SELL MKT 10.0 Filled\n",
      "orderStatus - orderid: 156 status: Filled filled 10.0 remaining 0.0 lastFillPrice 9.68\n",
      "openOrder id: 156 BCEL STK @ SMART : SELL MKT 10.0 Filled\n",
      "orderStatus - orderid: 156 status: Filled filled 10.0 remaining 0.0 lastFillPrice 9.68\n"
     ]
    },
    {
     "name": "stderr",
     "output_type": "stream",
     "text": [
      "ERROR 156 10148 OrderId 156 that needs to be cancelled cannot be cancelled, state: Filled.\n"
     ]
    },
    {
     "name": "stdout",
     "output_type": "stream",
     "text": [
      "cancelling order\n"
     ]
    },
    {
     "name": "stderr",
     "output_type": "stream",
     "text": [
      "ERROR -1 2104 Market data farm connection is OK:usfarm.nj\n",
      "ERROR -1 2104 Market data farm connection is OK:usfarm\n",
      "ERROR -1 2106 HMDS data farm connection is OK:euhmds\n",
      "ERROR -1 2106 HMDS data farm connection is OK:fundfarm\n",
      "ERROR -1 2106 HMDS data farm connection is OK:ushmds\n",
      "ERROR -1 2158 Sec-def data farm connection is OK:secdefil\n"
     ]
    },
    {
     "name": "stdout",
     "output_type": "stream",
     "text": [
      "waiting for connection\n",
      "openOrder id: 41 PFIE STK @ SMART : BUY MIDPRICE 1.0 Submitted\n",
      "orderStatus - orderid: 41 status: Submitted filled 0.0 remaining 1.0 lastFillPrice 0.0\n",
      "The next valid order id is:  157\n",
      "connected\n",
      "openOrder id: 157 SLP STK @ SMART : SELL MKT 10.0 PreSubmitted\n",
      "orderStatus - orderid: 157 status: PreSubmitted filled 0.0 remaining 10.0 lastFillPrice 0.0\n",
      "Order Executed:  -1 SLP STK USD 0000e22a.60d78a1b.01.01 157 10.0 2\n",
      "openOrder id: 157 SLP STK @ SMART : SELL MKT 10.0 Filled\n",
      "orderStatus - orderid: 157 status: Filled filled 10.0 remaining 0.0 lastFillPrice 52.57\n",
      "openOrder id: 157 SLP STK @ SMART : SELL MKT 10.0 Filled\n",
      "orderStatus - orderid: 157 status: Filled filled 10.0 remaining 0.0 lastFillPrice 52.57\n"
     ]
    },
    {
     "name": "stderr",
     "output_type": "stream",
     "text": [
      "ERROR 157 10148 OrderId 157 that needs to be cancelled cannot be cancelled, state: Filled.\n"
     ]
    },
    {
     "name": "stdout",
     "output_type": "stream",
     "text": [
      "cancelling order\n"
     ]
    },
    {
     "name": "stderr",
     "output_type": "stream",
     "text": [
      "ERROR -1 2104 Market data farm connection is OK:usfarm.nj\n",
      "ERROR -1 2104 Market data farm connection is OK:usfarm\n",
      "ERROR -1 2106 HMDS data farm connection is OK:euhmds\n",
      "ERROR -1 2106 HMDS data farm connection is OK:fundfarm\n",
      "ERROR -1 2106 HMDS data farm connection is OK:ushmds\n",
      "ERROR -1 2158 Sec-def data farm connection is OK:secdefil\n"
     ]
    },
    {
     "name": "stdout",
     "output_type": "stream",
     "text": [
      "waiting for connection\n",
      "openOrder id: 41 PFIE STK @ SMART : BUY MIDPRICE 1.0 Submitted\n",
      "orderStatus - orderid: 41 status: Submitted filled 0.0 remaining 1.0 lastFillPrice 0.0\n",
      "The next valid order id is:  158\n",
      "connected\n",
      "openOrder id: 158 JFU STK @ SMART : SELL MKT 10.0 PreSubmitted\n",
      "orderStatus - orderid: 158 status: PreSubmitted filled 0.0 remaining 10.0 lastFillPrice 0.0\n",
      "Order Executed:  -1 JFU STK USD 0000e22a.60d78a49.01.01 158 10.0 2\n",
      "openOrder id: 158 JFU STK @ SMART : SELL MKT 10.0 Filled\n",
      "orderStatus - orderid: 158 status: Filled filled 10.0 remaining 0.0 lastFillPrice 1.37\n",
      "openOrder id: 158 JFU STK @ SMART : SELL MKT 10.0 Filled\n",
      "orderStatus - orderid: 158 status: Filled filled 10.0 remaining 0.0 lastFillPrice 1.37\n"
     ]
    },
    {
     "name": "stderr",
     "output_type": "stream",
     "text": [
      "ERROR 158 10148 OrderId 158 that needs to be cancelled cannot be cancelled, state: Filled.\n"
     ]
    },
    {
     "name": "stdout",
     "output_type": "stream",
     "text": [
      "cancelling order\n"
     ]
    },
    {
     "name": "stderr",
     "output_type": "stream",
     "text": [
      "ERROR -1 2104 Market data farm connection is OK:usfarm.nj\n",
      "ERROR -1 2104 Market data farm connection is OK:usfarm\n",
      "ERROR -1 2106 HMDS data farm connection is OK:euhmds\n",
      "ERROR -1 2106 HMDS data farm connection is OK:fundfarm\n",
      "ERROR -1 2106 HMDS data farm connection is OK:ushmds\n",
      "ERROR -1 2158 Sec-def data farm connection is OK:secdefil\n"
     ]
    },
    {
     "name": "stdout",
     "output_type": "stream",
     "text": [
      "waiting for connection\n",
      "openOrder id: 41 PFIE STK @ SMART : BUY MIDPRICE 1.0 Submitted\n",
      "orderStatus - orderid: 41 status: Submitted filled 0.0 remaining 1.0 lastFillPrice 0.0\n",
      "The next valid order id is:  159\n",
      "connected\n",
      "openOrder id: 159 NVIV STK @ SMART : SELL MKT 10.0 PreSubmitted\n",
      "orderStatus - orderid: 159 status: PreSubmitted filled 0.0 remaining 10.0 lastFillPrice 0.0\n",
      "Order Executed:  -1 NVIV STK USD 0000e22a.60d78a62.01.01 159 10.0 2\n",
      "openOrder id: 159 NVIV STK @ SMART : SELL MKT 10.0 Filled\n",
      "orderStatus - orderid: 159 status: Filled filled 10.0 remaining 0.0 lastFillPrice 0.8003\n",
      "openOrder id: 159 NVIV STK @ SMART : SELL MKT 10.0 Filled\n",
      "orderStatus - orderid: 159 status: Filled filled 10.0 remaining 0.0 lastFillPrice 0.8003\n"
     ]
    },
    {
     "name": "stderr",
     "output_type": "stream",
     "text": [
      "ERROR 159 10148 OrderId 159 that needs to be cancelled cannot be cancelled, state: Filled.\n"
     ]
    },
    {
     "name": "stdout",
     "output_type": "stream",
     "text": [
      "cancelling order\n"
     ]
    },
    {
     "name": "stderr",
     "output_type": "stream",
     "text": [
      "ERROR -1 2104 Market data farm connection is OK:usfarm.nj\n",
      "ERROR -1 2104 Market data farm connection is OK:usfarm\n",
      "ERROR -1 2106 HMDS data farm connection is OK:euhmds\n",
      "ERROR -1 2106 HMDS data farm connection is OK:fundfarm\n",
      "ERROR -1 2106 HMDS data farm connection is OK:ushmds\n",
      "ERROR -1 2158 Sec-def data farm connection is OK:secdefil\n"
     ]
    },
    {
     "name": "stdout",
     "output_type": "stream",
     "text": [
      "waiting for connection\n",
      "openOrder id: 41 PFIE STK @ SMART : BUY MIDPRICE 1.0 Submitted\n",
      "orderStatus - orderid: 41 status: Submitted filled 0.0 remaining 1.0 lastFillPrice 0.0\n",
      "The next valid order id is:  160\n",
      "connected\n",
      "openOrder id: 160 CGEM STK @ SMART : SELL MKT 10.0 Submitted\n",
      "orderStatus - orderid: 160 status: Submitted filled 0.0 remaining 10.0 lastFillPrice 0.0\n",
      "Order Executed:  -1 CGEM STK USD 0000e0d5.60fcf0da.01.01 160 10.0 2\n",
      "openOrder id: 160 CGEM STK @ SMART : SELL MKT 10.0 Filled\n",
      "orderStatus - orderid: 160 status: Filled filled 10.0 remaining 0.0 lastFillPrice 30.74\n",
      "openOrder id: 160 CGEM STK @ SMART : SELL MKT 10.0 Filled\n",
      "orderStatus - orderid: 160 status: Filled filled 10.0 remaining 0.0 lastFillPrice 30.74\n"
     ]
    },
    {
     "name": "stderr",
     "output_type": "stream",
     "text": [
      "ERROR 160 10148 OrderId 160 that needs to be cancelled cannot be cancelled, state: Filled.\n"
     ]
    },
    {
     "name": "stdout",
     "output_type": "stream",
     "text": [
      "cancelling order\n"
     ]
    },
    {
     "name": "stderr",
     "output_type": "stream",
     "text": [
      "ERROR -1 2104 Market data farm connection is OK:usfarm.nj\n",
      "ERROR -1 2104 Market data farm connection is OK:usfarm\n",
      "ERROR -1 2106 HMDS data farm connection is OK:euhmds\n",
      "ERROR -1 2106 HMDS data farm connection is OK:fundfarm\n",
      "ERROR -1 2106 HMDS data farm connection is OK:ushmds\n",
      "ERROR -1 2158 Sec-def data farm connection is OK:secdefil\n"
     ]
    },
    {
     "name": "stdout",
     "output_type": "stream",
     "text": [
      "waiting for connection\n",
      "openOrder id: 41 PFIE STK @ SMART : BUY MIDPRICE 1.0 Submitted\n",
      "orderStatus - orderid: 41 status: Submitted filled 0.0 remaining 1.0 lastFillPrice 0.0\n",
      "The next valid order id is:  161\n",
      "connected\n",
      "openOrder id: 161 OSH STK @ SMART : SELL MKT 10.0 Submitted\n",
      "orderStatus - orderid: 161 status: Submitted filled 0.0 remaining 10.0 lastFillPrice 0.0\n",
      "Order Executed:  -1 OSH STK USD 0000e22a.60d78a9a.01.01 161 10.0 2\n",
      "openOrder id: 161 OSH STK @ SMART : SELL MKT 10.0 Filled\n",
      "orderStatus - orderid: 161 status: Filled filled 10.0 remaining 0.0 lastFillPrice 60.64\n",
      "openOrder id: 161 OSH STK @ SMART : SELL MKT 10.0 Filled\n",
      "orderStatus - orderid: 161 status: Filled filled 10.0 remaining 0.0 lastFillPrice 60.64\n"
     ]
    },
    {
     "name": "stderr",
     "output_type": "stream",
     "text": [
      "ERROR 161 10148 OrderId 161 that needs to be cancelled cannot be cancelled, state: Filled.\n"
     ]
    },
    {
     "name": "stdout",
     "output_type": "stream",
     "text": [
      "cancelling order\n"
     ]
    },
    {
     "name": "stderr",
     "output_type": "stream",
     "text": [
      "ERROR -1 2104 Market data farm connection is OK:usfarm.nj\n",
      "ERROR -1 2104 Market data farm connection is OK:usfarm\n",
      "ERROR -1 2106 HMDS data farm connection is OK:euhmds\n",
      "ERROR -1 2106 HMDS data farm connection is OK:fundfarm\n",
      "ERROR -1 2106 HMDS data farm connection is OK:ushmds\n",
      "ERROR -1 2158 Sec-def data farm connection is OK:secdefil\n"
     ]
    },
    {
     "name": "stdout",
     "output_type": "stream",
     "text": [
      "waiting for connection\n",
      "openOrder id: 41 PFIE STK @ SMART : BUY MIDPRICE 1.0 Submitted\n",
      "orderStatus - orderid: 41 status: Submitted filled 0.0 remaining 1.0 lastFillPrice 0.0\n",
      "The next valid order id is:  162\n",
      "connected\n",
      "openOrder id: 162 CPE STK @ SMART : SELL MKT 10.0 Submitted\n",
      "orderStatus - orderid: 162 status: Submitted filled 0.0 remaining 10.0 lastFillPrice 0.0\n",
      "Order Executed:  -1 CPE STK USD 0000e0d5.60fcf0e9.01.01 162 10.0 2\n",
      "openOrder id: 162 CPE STK @ SMART : SELL MKT 10.0 Filled\n",
      "orderStatus - orderid: 162 status: Filled filled 10.0 remaining 0.0 lastFillPrice 38.85\n",
      "openOrder id: 162 CPE STK @ SMART : SELL MKT 10.0 Filled\n",
      "orderStatus - orderid: 162 status: Filled filled 10.0 remaining 0.0 lastFillPrice 38.85\n"
     ]
    },
    {
     "name": "stderr",
     "output_type": "stream",
     "text": [
      "ERROR 162 10148 OrderId 162 that needs to be cancelled cannot be cancelled, state: Filled.\n"
     ]
    },
    {
     "name": "stdout",
     "output_type": "stream",
     "text": [
      "cancelling order\n"
     ]
    },
    {
     "name": "stderr",
     "output_type": "stream",
     "text": [
      "ERROR -1 2104 Market data farm connection is OK:usfarm.nj\n",
      "ERROR -1 2104 Market data farm connection is OK:usfarm\n",
      "ERROR -1 2106 HMDS data farm connection is OK:euhmds\n",
      "ERROR -1 2106 HMDS data farm connection is OK:fundfarm\n",
      "ERROR -1 2106 HMDS data farm connection is OK:ushmds\n",
      "ERROR -1 2158 Sec-def data farm connection is OK:secdefil\n"
     ]
    },
    {
     "name": "stdout",
     "output_type": "stream",
     "text": [
      "waiting for connection\n",
      "openOrder id: 41 PFIE STK @ SMART : BUY MIDPRICE 1.0 Submitted\n",
      "orderStatus - orderid: 41 status: Submitted filled 0.0 remaining 1.0 lastFillPrice 0.0\n",
      "The next valid order id is:  163\n",
      "connected\n",
      "openOrder id: 163 BLNK STK @ SMART : SELL MKT 10.0 Submitted\n",
      "orderStatus - orderid: 163 status: Submitted filled 0.0 remaining 10.0 lastFillPrice 0.0\n",
      "Order Executed:  -1 BLNK STK USD 0000e0d5.60fcf0ef.01.01 163 10.0 2\n",
      "openOrder id: 163 BLNK STK @ SMART : SELL MKT 10.0 Filled\n",
      "orderStatus - orderid: 163 status: Filled filled 10.0 remaining 0.0 lastFillPrice 32.51\n",
      "openOrder id: 163 BLNK STK @ SMART : SELL MKT 10.0 Filled\n",
      "orderStatus - orderid: 163 status: Filled filled 10.0 remaining 0.0 lastFillPrice 32.51\n"
     ]
    },
    {
     "name": "stderr",
     "output_type": "stream",
     "text": [
      "ERROR 163 10148 OrderId 163 that needs to be cancelled cannot be cancelled, state: Filled.\n"
     ]
    },
    {
     "name": "stdout",
     "output_type": "stream",
     "text": [
      "cancelling order\n"
     ]
    },
    {
     "name": "stderr",
     "output_type": "stream",
     "text": [
      "ERROR -1 2104 Market data farm connection is OK:usfarm.nj\n",
      "ERROR -1 2104 Market data farm connection is OK:usfarm\n",
      "ERROR -1 2106 HMDS data farm connection is OK:euhmds\n",
      "ERROR -1 2106 HMDS data farm connection is OK:fundfarm\n",
      "ERROR -1 2106 HMDS data farm connection is OK:ushmds\n",
      "ERROR -1 2158 Sec-def data farm connection is OK:secdefil\n"
     ]
    },
    {
     "name": "stdout",
     "output_type": "stream",
     "text": [
      "waiting for connection\n",
      "openOrder id: 41 PFIE STK @ SMART : BUY MIDPRICE 1.0 Submitted\n",
      "orderStatus - orderid: 41 status: Submitted filled 0.0 remaining 1.0 lastFillPrice 0.0\n",
      "The next valid order id is:  164\n",
      "connected\n",
      "openOrder id: 164 BIMI STK @ SMART : SELL MKT 10.0 Submitted\n",
      "orderStatus - orderid: 164 status: Submitted filled 0.0 remaining 10.0 lastFillPrice 0.0\n",
      "Order Executed:  -1 BIMI STK USD 0000e0d5.60fcf0f1.01.01 164 10.0 2\n",
      "openOrder id: 164 BIMI STK @ SMART : SELL MKT 10.0 Filled\n",
      "orderStatus - orderid: 164 status: Filled filled 10.0 remaining 0.0 lastFillPrice 1.28\n",
      "openOrder id: 164 BIMI STK @ SMART : SELL MKT 10.0 Filled\n",
      "orderStatus - orderid: 164 status: Filled filled 10.0 remaining 0.0 lastFillPrice 1.28\n"
     ]
    },
    {
     "name": "stderr",
     "output_type": "stream",
     "text": [
      "ERROR 164 10148 OrderId 164 that needs to be cancelled cannot be cancelled, state: Filled.\n"
     ]
    },
    {
     "name": "stdout",
     "output_type": "stream",
     "text": [
      "cancelling order\n"
     ]
    },
    {
     "name": "stderr",
     "output_type": "stream",
     "text": [
      "ERROR -1 2104 Market data farm connection is OK:usfarm.nj\n",
      "ERROR -1 2104 Market data farm connection is OK:usfarm\n",
      "ERROR -1 2106 HMDS data farm connection is OK:euhmds\n",
      "ERROR -1 2106 HMDS data farm connection is OK:fundfarm\n",
      "ERROR -1 2106 HMDS data farm connection is OK:ushmds\n",
      "ERROR -1 2158 Sec-def data farm connection is OK:secdefil\n"
     ]
    },
    {
     "name": "stdout",
     "output_type": "stream",
     "text": [
      "waiting for connection\n",
      "openOrder id: 41 PFIE STK @ SMART : BUY MIDPRICE 1.0 Submitted\n",
      "orderStatus - orderid: 41 status: Submitted filled 0.0 remaining 1.0 lastFillPrice 0.0\n",
      "The next valid order id is:  165\n",
      "connected\n",
      "openOrder id: 165 PHIO STK @ SMART : SELL MKT 10.0 Submitted\n",
      "orderStatus - orderid: 165 status: Submitted filled 0.0 remaining 10.0 lastFillPrice 0.0\n",
      "Order Executed:  -1 PHIO STK USD 0000e22a.60d78af6.01.01 165 10.0 2\n",
      "openOrder id: 165 PHIO STK @ SMART : SELL MKT 10.0 Filled\n",
      "orderStatus - orderid: 165 status: Filled filled 10.0 remaining 0.0 lastFillPrice 2.03\n",
      "openOrder id: 165 PHIO STK @ SMART : SELL MKT 10.0 Filled\n",
      "orderStatus - orderid: 165 status: Filled filled 10.0 remaining 0.0 lastFillPrice 2.03\n"
     ]
    },
    {
     "name": "stderr",
     "output_type": "stream",
     "text": [
      "ERROR 165 10148 OrderId 165 that needs to be cancelled cannot be cancelled, state: Filled.\n"
     ]
    },
    {
     "name": "stdout",
     "output_type": "stream",
     "text": [
      "cancelling order\n"
     ]
    },
    {
     "name": "stderr",
     "output_type": "stream",
     "text": [
      "ERROR -1 2104 Market data farm connection is OK:usfarm.nj\n",
      "ERROR -1 2104 Market data farm connection is OK:usfarm\n",
      "ERROR -1 2106 HMDS data farm connection is OK:euhmds\n",
      "ERROR -1 2106 HMDS data farm connection is OK:fundfarm\n",
      "ERROR -1 2106 HMDS data farm connection is OK:ushmds\n",
      "ERROR -1 2158 Sec-def data farm connection is OK:secdefil\n"
     ]
    },
    {
     "name": "stdout",
     "output_type": "stream",
     "text": [
      "waiting for connectionopenOrder id: 41\n",
      " PFIE STK @ SMART : BUY MIDPRICE 1.0 Submitted\n",
      "orderStatus - orderid: 41 status: Submitted filled 0.0 remaining 1.0 lastFillPrice 0.0\n",
      "The next valid order id is:  166\n",
      "connected\n",
      "openOrder id: 166 MSGM STK @ SMART : SELL MKT 10.0 Submitted\n",
      "orderStatus - orderid: 166 status: Submitted filled 0.0 remaining 10.0 lastFillPrice 0.0\n",
      "Order Executed:  -1 MSGM STK USD 0000e22a.60d78b32.01.01 166 10.0 2\n",
      "openOrder id: 166 MSGM STK @ SMART : SELL MKT 10.0 Filled\n",
      "orderStatus - orderid: 166 status: Filled filled 10.0 remaining 0.0 lastFillPrice 17.77\n",
      "openOrder id: 166 MSGM STK @ SMART : SELL MKT 10.0 Filled\n",
      "orderStatus - orderid: 166 status: Filled filled 10.0 remaining 0.0 lastFillPrice 17.77\n"
     ]
    },
    {
     "name": "stderr",
     "output_type": "stream",
     "text": [
      "ERROR 166 10148 OrderId 166 that needs to be cancelled cannot be cancelled, state: Filled.\n"
     ]
    },
    {
     "name": "stdout",
     "output_type": "stream",
     "text": [
      "cancelling order\n"
     ]
    },
    {
     "name": "stderr",
     "output_type": "stream",
     "text": [
      "ERROR -1 2104 Market data farm connection is OK:usfarm.nj\n",
      "ERROR -1 2104 Market data farm connection is OK:usfarm\n",
      "ERROR -1 2106 HMDS data farm connection is OK:euhmds\n",
      "ERROR -1 2106 HMDS data farm connection is OK:fundfarm\n",
      "ERROR -1 2106 HMDS data farm connection is OK:ushmds\n",
      "ERROR -1 2158 Sec-def data farm connection is OK:secdefil\n"
     ]
    },
    {
     "name": "stdout",
     "output_type": "stream",
     "text": [
      "waiting for connection\n",
      "openOrder id: 41 PFIE STK @ SMART : BUY MIDPRICE 1.0 Submitted\n",
      "orderStatus - orderid: 41 status: Submitted filled 0.0 remaining 1.0 lastFillPrice 0.0\n",
      "The next valid order id is:  167\n",
      "connected\n",
      "openOrder id: 167 NISN STK @ SMART : SELL MKT 10.0 Submitted\n",
      "orderStatus - orderid: 167 status: Submitted filled 0.0 remaining 10.0 lastFillPrice 0.0\n",
      "Order Executed:  -1 NISN STK USD 0000e22a.60d78b43.01.01 167 10.0 2\n",
      "openOrder id: 167 NISN STK @ SMART : SELL MKT 10.0 Filled\n",
      "orderStatus - orderid: 167 status: Filled filled 10.0 remaining 0.0 lastFillPrice 11.48\n",
      "openOrder id: 167 NISN STK @ SMART : SELL MKT 10.0 Filled\n",
      "orderStatus - orderid: 167 status: Filled filled 10.0 remaining 0.0 lastFillPrice 11.48\n"
     ]
    },
    {
     "name": "stderr",
     "output_type": "stream",
     "text": [
      "ERROR 167 10148 OrderId 167 that needs to be cancelled cannot be cancelled, state: Filled.\n"
     ]
    },
    {
     "name": "stdout",
     "output_type": "stream",
     "text": [
      "cancelling order\n"
     ]
    },
    {
     "name": "stderr",
     "output_type": "stream",
     "text": [
      "ERROR -1 2104 Market data farm connection is OK:usfarm.nj\n",
      "ERROR -1 2104 Market data farm connection is OK:usfarm\n",
      "ERROR -1 2106 HMDS data farm connection is OK:euhmds\n",
      "ERROR -1 2106 HMDS data farm connection is OK:fundfarm\n",
      "ERROR -1 2106 HMDS data farm connection is OK:ushmds\n",
      "ERROR -1 2158 Sec-def data farm connection is OK:secdefil\n"
     ]
    },
    {
     "name": "stdout",
     "output_type": "stream",
     "text": [
      "waiting for connection\n",
      "openOrder id: 41 PFIE STK @ SMART : BUY MIDPRICE 1.0 Submitted\n",
      "orderStatus - orderid: 41 status: Submitted filled 0.0 remaining 1.0 lastFillPrice 0.0\n",
      "The next valid order id is:  168\n",
      "connected\n",
      "openOrder id: 168 KLDO STK @ SMART : SELL MKT 10.0 PreSubmitted\n",
      "orderStatus - orderid: 168 status: PreSubmitted filled 0.0 remaining 10.0 lastFillPrice 0.0\n",
      "Order Executed:  -1 KLDO STK USD 0000e22a.60d78b4c.01.01 168 10.0 2\n",
      "openOrder id: 168 KLDO STK @ SMART : SELL MKT 10.0 Filled\n",
      "orderStatus - orderid: 168 status: Filled filled 10.0 remaining 0.0 lastFillPrice 6.7\n",
      "openOrder id: 168 KLDO STK @ SMART : SELL MKT 10.0 Filled\n",
      "orderStatus - orderid: 168 status: Filled filled 10.0 remaining 0.0 lastFillPrice 6.7\n"
     ]
    },
    {
     "name": "stderr",
     "output_type": "stream",
     "text": [
      "ERROR 168 10148 OrderId 168 that needs to be cancelled cannot be cancelled, state: Filled.\n"
     ]
    },
    {
     "name": "stdout",
     "output_type": "stream",
     "text": [
      "cancelling order\n"
     ]
    },
    {
     "name": "stderr",
     "output_type": "stream",
     "text": [
      "ERROR -1 2104 Market data farm connection is OK:usfarm.nj\n",
      "ERROR -1 2104 Market data farm connection is OK:usfarm\n",
      "ERROR -1 2106 HMDS data farm connection is OK:euhmds\n",
      "ERROR -1 2106 HMDS data farm connection is OK:fundfarm\n",
      "ERROR -1 2106 HMDS data farm connection is OK:ushmds\n",
      "ERROR -1 2158 Sec-def data farm connection is OK:secdefil\n"
     ]
    },
    {
     "name": "stdout",
     "output_type": "stream",
     "text": [
      "waiting for connection\n",
      "openOrder id: 41 PFIE STK @ SMART : BUY MIDPRICE 1.0 Submitted\n",
      "orderStatus - orderid: 41 status: Submitted filled 0.0 remaining 1.0 lastFillPrice 0.0\n",
      "The next valid order id is:  169\n",
      "connected\n",
      "openOrder id: 169 UPST STK @ SMART : SELL MKT 10.0 PreSubmitted\n",
      "orderStatus - orderid: 169 status: PreSubmitted filled 0.0 remaining 10.0 lastFillPrice 0.0\n",
      "Order Executed:  -1 UPST STK USD 0000e22a.60d78b57.01.01 169 10.0 2\n",
      "openOrder id: 169 UPST STK @ SMART : SELL MKT 10.0 Filled\n",
      "orderStatus - orderid: 169 status: Filled filled 10.0 remaining 0.0 lastFillPrice 116.5\n",
      "openOrder id: 169 UPST STK @ SMART : SELL MKT 10.0 Filled\n",
      "orderStatus - orderid: 169 status: Filled filled 10.0 remaining 0.0 lastFillPrice 116.5\n"
     ]
    },
    {
     "name": "stderr",
     "output_type": "stream",
     "text": [
      "ERROR 169 10148 OrderId 169 that needs to be cancelled cannot be cancelled, state: Filled.\n"
     ]
    },
    {
     "name": "stdout",
     "output_type": "stream",
     "text": [
      "cancelling order\n"
     ]
    },
    {
     "name": "stderr",
     "output_type": "stream",
     "text": [
      "ERROR -1 2104 Market data farm connection is OK:usfarm.nj\n",
      "ERROR -1 2104 Market data farm connection is OK:usfarm\n",
      "ERROR -1 2106 HMDS data farm connection is OK:euhmds\n",
      "ERROR -1 2106 HMDS data farm connection is OK:fundfarm\n",
      "ERROR -1 2106 HMDS data farm connection is OK:ushmds\n",
      "ERROR -1 2158 Sec-def data farm connection is OK:secdefil\n"
     ]
    },
    {
     "name": "stdout",
     "output_type": "stream",
     "text": [
      "waiting for connection\n",
      "openOrder id: 41 PFIE STK @ SMART : BUY MIDPRICE 1.0 Submitted\n",
      "orderStatus - orderid: 41 status: Submitted filled 0.0 remaining 1.0 lastFillPrice 0.0\n",
      "The next valid order id is:  170\n",
      "connected\n",
      "openOrder id: 170 EM STK @ SMART : SELL MKT 10.0 Submitted\n",
      "orderStatus - orderid: 170 status: Submitted filled 0.0 remaining 10.0 lastFillPrice 0.0\n",
      "Order Executed:  -1 EM STK USD 0000e0d5.60fcf11c.01.01 170 10.0 2\n",
      "openOrder id: 170 EM STK @ SMART : SELL MKT 10.0 Filled\n",
      "orderStatus - orderid: 170 status: Filled filled 10.0 remaining 0.0 lastFillPrice 6.21\n",
      "openOrder id: 170 EM STK @ SMART : SELL MKT 10.0 Filled\n",
      "orderStatus - orderid: 170 status: Filled filled 10.0 remaining 0.0 lastFillPrice 6.21\n"
     ]
    },
    {
     "name": "stderr",
     "output_type": "stream",
     "text": [
      "ERROR 170 10148 OrderId 170 that needs to be cancelled cannot be cancelled, state: Filled.\n"
     ]
    },
    {
     "name": "stdout",
     "output_type": "stream",
     "text": [
      "cancelling order\n"
     ]
    },
    {
     "name": "stderr",
     "output_type": "stream",
     "text": [
      "ERROR -1 2104 Market data farm connection is OK:usfarm.nj\n",
      "ERROR -1 2104 Market data farm connection is OK:usfarm\n",
      "ERROR -1 2106 HMDS data farm connection is OK:euhmds\n",
      "ERROR -1 2106 HMDS data farm connection is OK:fundfarm\n",
      "ERROR -1 2106 HMDS data farm connection is OK:ushmds\n",
      "ERROR -1 2158 Sec-def data farm connection is OK:secdefil\n"
     ]
    },
    {
     "name": "stdout",
     "output_type": "stream",
     "text": [
      "waiting for connection\n",
      "openOrder id: 41 PFIE STK @ SMART : BUY MIDPRICE 1.0 Submitted\n",
      "orderStatus - orderid: 41 status: Submitted filled 0.0 remaining 1.0 lastFillPrice 0.0\n",
      "The next valid order id is:  171\n",
      "connected\n",
      "openOrder id: 171 SNGX STK @ SMART : SELL MKT 10.0 PreSubmitted\n",
      "orderStatus - orderid: 171 status: PreSubmitted filled 0.0 remaining 10.0 lastFillPrice 0.0\n",
      "Order Executed:  -1 SNGX STK USD 0000e22a.60d78b7d.01.01 171 10.0 2\n",
      "openOrder id: 171 SNGX STK @ SMART : SELL MKT 10.0 Filled\n",
      "orderStatus - orderid: 171 status: Filled filled 10.0 remaining 0.0 lastFillPrice 0.9557\n",
      "openOrder id: 171 SNGX STK @ SMART : SELL MKT 10.0 Filled\n",
      "orderStatus - orderid: 171 status: Filled filled 10.0 remaining 0.0 lastFillPrice 0.9557\n"
     ]
    },
    {
     "name": "stderr",
     "output_type": "stream",
     "text": [
      "ERROR 171 10148 OrderId 171 that needs to be cancelled cannot be cancelled, state: Filled.\n"
     ]
    },
    {
     "name": "stdout",
     "output_type": "stream",
     "text": [
      "cancelling order\n"
     ]
    },
    {
     "name": "stderr",
     "output_type": "stream",
     "text": [
      "ERROR -1 2104 Market data farm connection is OK:usfarm.nj\n",
      "ERROR -1 2104 Market data farm connection is OK:usfarm\n",
      "ERROR -1 2106 HMDS data farm connection is OK:euhmds\n",
      "ERROR -1 2106 HMDS data farm connection is OK:fundfarm\n",
      "ERROR -1 2106 HMDS data farm connection is OK:ushmds\n",
      "ERROR -1 2158 Sec-def data farm connection is OK:secdefil\n"
     ]
    },
    {
     "name": "stdout",
     "output_type": "stream",
     "text": [
      "waiting for connection\n",
      "openOrder id: 41 PFIE STK @ SMART : BUY MIDPRICE 1.0 Submitted\n",
      "orderStatus - orderid: 41 status: Submitted filled 0.0 remaining 1.0 lastFillPrice 0.0\n",
      "The next valid order id is:  172\n",
      "connected\n",
      "openOrder id: 172 DOYU STK @ SMART : SELL MKT 10.0 PreSubmitted\n",
      "orderStatus - orderid: 172 status: PreSubmitted filled 0.0 remaining 10.0 lastFillPrice 0.0\n",
      "Order Executed:  -1 DOYU STK USD 0000e0d5.60fcf126.01.01 172 10.0 2\n",
      "openOrder id: 172 DOYU STK @ SMART : SELL MKT 10.0 Filled\n",
      "orderStatus - orderid: 172 status: Filled filled 10.0 remaining 0.0 lastFillPrice 8.01\n",
      "openOrder id: 172 DOYU STK @ SMART : SELL MKT 10.0 Filled\n",
      "orderStatus - orderid: 172 status: Filled filled 10.0 remaining 0.0 lastFillPrice 8.01\n"
     ]
    },
    {
     "name": "stderr",
     "output_type": "stream",
     "text": [
      "ERROR 172 10148 OrderId 172 that needs to be cancelled cannot be cancelled, state: Filled.\n"
     ]
    },
    {
     "name": "stdout",
     "output_type": "stream",
     "text": [
      "cancelling order\n"
     ]
    },
    {
     "name": "stderr",
     "output_type": "stream",
     "text": [
      "ERROR -1 2104 Market data farm connection is OK:usfarm.nj\n",
      "ERROR -1 2104 Market data farm connection is OK:usfarm\n",
      "ERROR -1 2106 HMDS data farm connection is OK:euhmds\n",
      "ERROR -1 2106 HMDS data farm connection is OK:fundfarm\n",
      "ERROR -1 2106 HMDS data farm connection is OK:ushmds\n",
      "ERROR -1 2158 Sec-def data farm connection is OK:secdefil\n"
     ]
    },
    {
     "name": "stdout",
     "output_type": "stream",
     "text": [
      "waiting for connection\n",
      "openOrder id: 41 PFIE STK @ SMART : BUY MIDPRICE 1.0 Submitted\n",
      "orderStatus - orderid: 41 status: Submitted filled 0.0 remaining 1.0 lastFillPrice 0.0\n",
      "The next valid order id is:  173\n",
      "connected\n",
      "openOrder id: 173 XCUR STK @ SMART : SELL MKT 10.0 Submitted\n",
      "orderStatus - orderid: 173 status: Submitted filled 0.0 remaining 10.0 lastFillPrice 0.0\n",
      "Order Executed:  -1 XCUR STK USD 0000e22a.60d78bb9.01.01 173 10.0 2\n",
      "openOrder id: 173 XCUR STK @ SMART : SELL MKT 10.0 Filled\n",
      "orderStatus - orderid: 173 status: Filled filled 10.0 remaining 0.0 lastFillPrice 1.58\n",
      "openOrder id: 173 XCUR STK @ SMART : SELL MKT 10.0 Filled\n",
      "orderStatus - orderid: 173 status: Filled filled 10.0 remaining 0.0 lastFillPrice 1.58\n"
     ]
    },
    {
     "name": "stderr",
     "output_type": "stream",
     "text": [
      "ERROR 173 10148 OrderId 173 that needs to be cancelled cannot be cancelled, state: Filled.\n"
     ]
    },
    {
     "name": "stdout",
     "output_type": "stream",
     "text": [
      "cancelling order\n"
     ]
    },
    {
     "name": "stderr",
     "output_type": "stream",
     "text": [
      "ERROR -1 2104 Market data farm connection is OK:usfarm.nj\n",
      "ERROR -1 2104 Market data farm connection is OK:usfarm\n",
      "ERROR -1 2106 HMDS data farm connection is OK:euhmds\n",
      "ERROR -1 2106 HMDS data farm connection is OK:fundfarm\n",
      "ERROR -1 2106 HMDS data farm connection is OK:ushmds\n",
      "ERROR -1 2158 Sec-def data farm connection is OK:secdefil\n"
     ]
    },
    {
     "name": "stdout",
     "output_type": "stream",
     "text": [
      "waiting for connection\n",
      "openOrder id: 41 PFIE STK @ SMART : BUY MIDPRICE 1.0 Submitted\n",
      "orderStatus - orderid: 41 status: Submitted filled 0.0 remaining 1.0 lastFillPrice 0.0\n",
      "The next valid order id is:  174\n",
      "connected\n",
      "openOrder id: 174 DRIO STK @ SMART : SELL MKT 10.0 Submitted\n",
      "orderStatus - orderid: 174 status: Submitted filled 0.0 remaining 10.0 lastFillPrice 0.0\n",
      "Order Executed:  -1 DRIO STK USD 0000e0d5.60fcf133.01.01 174 10.0 2\n",
      "openOrder id: 174 DRIO STK @ SMART : SELL MKT 10.0 Filled\n",
      "orderStatus - orderid: 174 status: Filled filled 10.0 remaining 0.0 lastFillPrice 15.14\n",
      "openOrder id: 174 DRIO STK @ SMART : SELL MKT 10.0 Filled\n",
      "orderStatus - orderid: 174 status: Filled filled 10.0 remaining 0.0 lastFillPrice 15.14\n"
     ]
    },
    {
     "name": "stderr",
     "output_type": "stream",
     "text": [
      "ERROR 174 10148 OrderId 174 that needs to be cancelled cannot be cancelled, state: Filled.\n"
     ]
    },
    {
     "name": "stdout",
     "output_type": "stream",
     "text": [
      "cancelling order\n"
     ]
    },
    {
     "name": "stderr",
     "output_type": "stream",
     "text": [
      "ERROR -1 2104 Market data farm connection is OK:usfarm.nj\n",
      "ERROR -1 2104 Market data farm connection is OK:usfarm\n",
      "ERROR -1 2106 HMDS data farm connection is OK:euhmds\n",
      "ERROR -1 2106 HMDS data farm connection is OK:fundfarm\n",
      "ERROR -1 2106 HMDS data farm connection is OK:ushmds\n",
      "ERROR -1 2158 Sec-def data farm connection is OK:secdefil\n"
     ]
    },
    {
     "name": "stdout",
     "output_type": "stream",
     "text": [
      "waiting for connection\n",
      "openOrder id: 41 PFIE STK @ SMART : BUY MIDPRICE 1.0 Submitted\n",
      "orderStatus - orderid: 41 status: Submitted filled 0.0 remaining 1.0 lastFillPrice 0.0\n",
      "The next valid order id is:  175\n",
      "connected\n"
     ]
    },
    {
     "name": "stderr",
     "output_type": "stream",
     "text": [
      "ERROR 175 202 Order Canceled - reason:\n"
     ]
    },
    {
     "name": "stdout",
     "output_type": "stream",
     "text": [
      "cancelling order\n",
      "openOrder id: 175 IKT STK @ SMART : SELL MKT 10.0 PendingCancel\n",
      "orderStatus - orderid: 175 status: PendingCancel filled 0.0 remaining 10.0 lastFillPrice 0.0\n",
      "orderStatus - orderid: 175 status: Cancelled filled 0.0 remaining 10.0 lastFillPrice 0.0\n"
     ]
    },
    {
     "name": "stderr",
     "output_type": "stream",
     "text": [
      "ERROR -1 2104 Market data farm connection is OK:usfarm.nj\n",
      "ERROR -1 2104 Market data farm connection is OK:usfarm\n",
      "ERROR -1 2106 HMDS data farm connection is OK:euhmds\n",
      "ERROR -1 2106 HMDS data farm connection is OK:fundfarm\n",
      "ERROR -1 2106 HMDS data farm connection is OK:ushmds\n",
      "ERROR -1 2158 Sec-def data farm connection is OK:secdefil\n"
     ]
    },
    {
     "name": "stdout",
     "output_type": "stream",
     "text": [
      "waiting for connection\n",
      "openOrder id: 41 PFIE STK @ SMART : BUY MIDPRICE 1.0 Submitted\n",
      "orderStatus - orderid: 41 status: Submitted filled 0.0 remaining 1.0 lastFillPrice 0.0\n",
      "The next valid order id is:  176\n",
      "connected\n",
      "openOrder id: 176 QTRX STK @ SMART : SELL MKT 10.0 Submitted\n",
      "orderStatus - orderid: 176 status: Submitted filled 0.0 remaining 10.0 lastFillPrice 0.0\n",
      "Order Executed:  -1 QTRX STK USD 0000e22a.60d78c13.01.01 176 10.0 2\n",
      "openOrder id: 176 QTRX STK @ SMART : SELL MKT 10.0 Filled\n",
      "orderStatus - orderid: 176 status: Filled filled 10.0 remaining 0.0 lastFillPrice 48.03\n",
      "openOrder id: 176 QTRX STK @ SMART : SELL MKT 10.0 Filled\n",
      "orderStatus - orderid: 176 status: Filled filled 10.0 remaining 0.0 lastFillPrice 48.03\n"
     ]
    },
    {
     "name": "stderr",
     "output_type": "stream",
     "text": [
      "ERROR 176 10148 OrderId 176 that needs to be cancelled cannot be cancelled, state: Filled.\n"
     ]
    },
    {
     "name": "stdout",
     "output_type": "stream",
     "text": [
      "cancelling order\n"
     ]
    },
    {
     "name": "stderr",
     "output_type": "stream",
     "text": [
      "ERROR -1 2104 Market data farm connection is OK:usfarm.nj\n",
      "ERROR -1 2104 Market data farm connection is OK:usfarm\n",
      "ERROR -1 2106 HMDS data farm connection is OK:euhmds\n",
      "ERROR -1 2106 HMDS data farm connection is OK:fundfarm\n",
      "ERROR -1 2106 HMDS data farm connection is OK:ushmds\n",
      "ERROR -1 2158 Sec-def data farm connection is OK:secdefil\n"
     ]
    },
    {
     "name": "stdout",
     "output_type": "stream",
     "text": [
      "waiting for connection\n",
      "openOrder id: 41 PFIE STK @ SMART : BUY MIDPRICE 1.0 Submitted\n",
      "orderStatus - orderid: 41 status: Submitted filled 0.0 remaining 1.0 lastFillPrice 0.0\n",
      "The next valid order id is:  177\n",
      "connected\n",
      "openOrder id: 177 GLMD STK @ SMART : SELL MKT 10.0 Submitted\n",
      "orderStatus - orderid: 177 status: Submitted filled 0.0 remaining 10.0 lastFillPrice 0.0\n",
      "Order Executed:  -1 GLMD STK USD 0000e0d5.60fcf183.01.01 177 10.0 2\n",
      "openOrder id: 177 GLMD STK @ SMART : SELL MKT 10.0 Filled\n",
      "orderStatus - orderid: 177 status: Filled filled 10.0 remaining 0.0 lastFillPrice 2.55\n",
      "openOrder id: 177 GLMD STK @ SMART : SELL MKT 10.0 Filled\n",
      "orderStatus - orderid: 177 status: Filled filled 10.0 remaining 0.0 lastFillPrice 2.55\n"
     ]
    },
    {
     "name": "stderr",
     "output_type": "stream",
     "text": [
      "ERROR 177 10148 OrderId 177 that needs to be cancelled cannot be cancelled, state: Filled.\n"
     ]
    },
    {
     "name": "stdout",
     "output_type": "stream",
     "text": [
      "cancelling order\n"
     ]
    },
    {
     "name": "stderr",
     "output_type": "stream",
     "text": [
      "ERROR -1 2104 Market data farm connection is OK:usfarm.nj\n",
      "ERROR -1 2104 Market data farm connection is OK:usfarm\n",
      "ERROR -1 2106 HMDS data farm connection is OK:euhmds\n",
      "ERROR -1 2106 HMDS data farm connection is OK:fundfarm\n",
      "ERROR -1 2106 HMDS data farm connection is OK:ushmds\n",
      "ERROR -1 2158 Sec-def data farm connection is OK:secdefil\n"
     ]
    },
    {
     "name": "stdout",
     "output_type": "stream",
     "text": [
      "waiting for connection\n",
      "openOrder id: 41 PFIE STK @ SMART : BUY MIDPRICE 1.0 Submitted\n",
      "orderStatus - orderid: 41 status: Submitted filled 0.0 remaining 1.0 lastFillPrice 0.0\n",
      "The next valid order id is:  178\n",
      "connected\n",
      "openOrder id: 178 IPWR STK @ SMART : SELL MKT 10.0 Submitted\n",
      "orderStatus - orderid: 178 status: Submitted filled 0.0 remaining 10.0 lastFillPrice 0.0\n",
      "Order Executed:  -1 IPWR STK USD 0000e0d5.60fcf192.01.01 178 10.0 2\n",
      "openOrder id: 178 IPWR STK @ SMART : SELL MKT 10.0 Filled\n",
      "orderStatus - orderid: 178 status: Filled filled 10.0 remaining 0.0 lastFillPrice 8.5\n",
      "openOrder id: 178 IPWR STK @ SMART : SELL MKT 10.0 Filled\n",
      "orderStatus - orderid: 178 status: Filled filled 10.0 remaining 0.0 lastFillPrice 8.5\n"
     ]
    },
    {
     "name": "stderr",
     "output_type": "stream",
     "text": [
      "ERROR 178 10148 OrderId 178 that needs to be cancelled cannot be cancelled, state: Filled.\n"
     ]
    },
    {
     "name": "stdout",
     "output_type": "stream",
     "text": [
      "cancelling order\n"
     ]
    },
    {
     "name": "stderr",
     "output_type": "stream",
     "text": [
      "ERROR -1 2104 Market data farm connection is OK:usfarm.nj\n",
      "ERROR -1 2104 Market data farm connection is OK:usfarm\n",
      "ERROR -1 2106 HMDS data farm connection is OK:euhmds\n",
      "ERROR -1 2106 HMDS data farm connection is OK:fundfarm\n",
      "ERROR -1 2106 HMDS data farm connection is OK:ushmds\n",
      "ERROR -1 2158 Sec-def data farm connection is OK:secdefil\n"
     ]
    },
    {
     "name": "stdout",
     "output_type": "stream",
     "text": [
      "waiting for connection\n",
      "openOrder id: 41 PFIE STK @ SMART : BUY MIDPRICE 1.0 Submitted\n",
      "orderStatus - orderid: 41 status: Submitted filled 0.0 remaining 1.0 lastFillPrice 0.0\n",
      "The next valid order id is:  179\n",
      "connected\n"
     ]
    },
    {
     "name": "stderr",
     "output_type": "stream",
     "text": [
      "ERROR 179 201 Order rejected - reason:The contract is not available for short sale.\n"
     ]
    },
    {
     "name": "stdout",
     "output_type": "stream",
     "text": [
      "openOrder id: 179 NMRD STK @ SMART : SELL MKT 10.0 Inactive\n",
      "orderStatus - orderid: 179 status: Inactive filled 0.0 remaining 10.0 lastFillPrice 0.0\n",
      "openOrder id: 179 NMRD STK @ SMART : SELL MKT 10.0 Inactive\n",
      "orderStatus - orderid: 179 status: Inactive filled 0.0 remaining 10.0 lastFillPrice 0.0\n"
     ]
    },
    {
     "name": "stderr",
     "output_type": "stream",
     "text": [
      "ERROR 179 10148 OrderId 179 that needs to be cancelled cannot be cancelled, state: Cancelled.\n"
     ]
    },
    {
     "name": "stdout",
     "output_type": "stream",
     "text": [
      "cancelling order\n"
     ]
    },
    {
     "name": "stderr",
     "output_type": "stream",
     "text": [
      "ERROR -1 2104 Market data farm connection is OK:usfarm.nj\n",
      "ERROR -1 2104 Market data farm connection is OK:usfarm\n",
      "ERROR -1 2106 HMDS data farm connection is OK:euhmds\n",
      "ERROR -1 2106 HMDS data farm connection is OK:fundfarm\n",
      "ERROR -1 2106 HMDS data farm connection is OK:ushmds\n",
      "ERROR -1 2158 Sec-def data farm connection is OK:secdefil\n"
     ]
    },
    {
     "name": "stdout",
     "output_type": "stream",
     "text": [
      "waiting for connection\n",
      "openOrder id: 41 PFIE STK @ SMART : BUY MIDPRICE 1.0 Submitted\n",
      "orderStatus - orderid: 41 status: Submitted filled 0.0 remaining 1.0 lastFillPrice 0.0\n",
      "The next valid order id is:  180\n"
     ]
    },
    {
     "name": "stderr",
     "output_type": "stream",
     "text": [
      "ERROR 180 200 No security definition has been found for the request\n"
     ]
    },
    {
     "name": "stdout",
     "output_type": "stream",
     "text": [
      "connected\n"
     ]
    },
    {
     "name": "stderr",
     "output_type": "stream",
     "text": [
      "ERROR 180 10147 OrderId 180 that needs to be cancelled is not found.\n"
     ]
    },
    {
     "name": "stdout",
     "output_type": "stream",
     "text": [
      "cancelling order\n"
     ]
    }
   ],
   "source": [
    "from ibapi.client import EClient\n",
    "from ibapi.wrapper import EWrapper\n",
    "from ibapi.contract import Contract\n",
    "from ibapi.order import *\n",
    "\n",
    "import threading\n",
    "import time\n",
    "\n",
    "class IBapi(EWrapper, EClient):\n",
    "\tdef __init__(self):\n",
    "\t\tEClient.__init__(self, self)\n",
    "\n",
    "\tdef nextValidId(self, orderId: int):\n",
    "\t\tsuper().nextValidId(orderId)\n",
    "\t\tself.nextorderId = orderId\n",
    "\t\tprint('The next valid order id is: ', self.nextorderId)\n",
    "\tdef orderStatus(self, orderId, status, filled, remaining, avgFullPrice, permId, parentId, lastFillPrice, clientId, whyHeld, mktCapPrice):\n",
    "\t\tprint('orderStatus - orderid:', orderId, 'status:', status, 'filled', filled, 'remaining', remaining, 'lastFillPrice', lastFillPrice)\n",
    "\t\n",
    "\tdef openOrder(self, orderId, contract, order, orderState):\n",
    "\t\tprint('openOrder id:', orderId, contract.symbol, contract.secType, '@', contract.exchange, ':', order.action, order.orderType, order.totalQuantity, orderState.status)\n",
    "\n",
    "\tdef execDetails(self, reqId, contract, execution):\n",
    "\t\tprint('Order Executed: ', reqId, contract.symbol, contract.secType, contract.currency, execution.execId, execution.orderId, execution.shares, execution.lastLiquidity)\n",
    "\n",
    "\n",
    "def run_loop():\n",
    "\tapp.run()\n",
    "\n",
    "#Function to create FX Order contract\n",
    "def FX_order(symbol):\n",
    "\tcontract = Contract()\n",
    "\tcontract.symbol = symbol\n",
    "\tcontract.secType = 'STK'\n",
    "\tcontract.exchange = 'SMART'\n",
    "\tcontract.currency = \"USD\"\n",
    "\treturn contract\n",
    "#Place order\n",
    "for tick in tickers_to_short:\n",
    "    app = IBapi()\n",
    "    app.connect('127.0.0.1', 7497, 123)\n",
    "    \n",
    "    app.nextorderId = None\n",
    "    \n",
    "    #Start the socket in a thread\n",
    "    api_thread = threading.Thread(target=run_loop, daemon=True)\n",
    "    api_thread.start()\n",
    "    \n",
    "    #Check if the API is connected via orderid\n",
    "    while True:\n",
    "        if isinstance(app.nextorderId, int):\n",
    "            print('connected')\n",
    "            break\n",
    "        else:\n",
    "            print('waiting for connection')\n",
    "            time.sleep(1)\n",
    "    \n",
    "    #Create order object\n",
    "    order = Order()\n",
    "    order.action = 'CLOSE'\n",
    "    order.totalQuantity = 10\n",
    "    order.orderType = 'MKT'\n",
    "    \n",
    "    \n",
    "    \n",
    "    \n",
    "    app.placeOrder(app.nextorderId, FX_order(tick), order)\n",
    "        \n",
    "    #app.nextorderId += 1\n",
    "    \n",
    "    time.sleep(3)\n",
    "    \n",
    "    #Cancel order \n",
    "    print('cancelling order')\n",
    "    app.cancelOrder(app.nextorderId)\n",
    "    \n",
    "    time.sleep(3)\n",
    "    app.disconnect()\n",
    "    \n",
    "    \n",
    "    \n",
    "    #app.nextorderId += 1\n",
    "    \n",
    "    time.sleep(2)"
   ]
  },
  {
   "cell_type": "code",
   "execution_count": null,
   "metadata": {},
   "outputs": [],
   "source": []
  },
  {
   "cell_type": "code",
   "execution_count": null,
   "metadata": {},
   "outputs": [],
   "source": []
  },
  {
   "cell_type": "code",
   "execution_count": 4,
   "metadata": {},
   "outputs": [
    {
     "name": "stderr",
     "output_type": "stream",
     "text": [
      "ERROR 7 10148 OrderId 7 that needs to be cancelled cannot be cancelled, state: Filled.\n"
     ]
    },
    {
     "name": "stdout",
     "output_type": "stream",
     "text": [
      "cancelling order\n"
     ]
    }
   ],
   "source": [
    "#Cancel order \n",
    "print('cancelling order')\n",
    "app.cancelOrder(app.nextorderId)\n",
    "\n",
    "time.sleep(3)\n",
    "app.disconnect()"
   ]
  },
  {
   "cell_type": "code",
   "execution_count": null,
   "metadata": {},
   "outputs": [],
   "source": []
  },
  {
   "cell_type": "code",
   "execution_count": null,
   "metadata": {},
   "outputs": [],
   "source": []
  },
  {
   "cell_type": "code",
   "execution_count": 19,
   "metadata": {},
   "outputs": [
    {
     "data": {
      "text/plain": [
       "'EUR'"
      ]
     },
     "execution_count": 19,
     "metadata": {},
     "output_type": "execute_result"
    }
   ],
   "source": [
    "'EURUSD'[:3]"
   ]
  },
  {
   "cell_type": "code",
   "execution_count": null,
   "metadata": {},
   "outputs": [],
   "source": [
    "#Cancel order \n",
    "print('cancelling order')\n",
    "app.cancelOrder(app.nextorderId)\n",
    "\n",
    "time.sleep(3)\n",
    "app.disconnect()"
   ]
  }
 ],
 "metadata": {
  "kernelspec": {
   "display_name": "Python 3",
   "language": "python",
   "name": "python3"
  },
  "language_info": {
   "codemirror_mode": {
    "name": "ipython",
    "version": 3
   },
   "file_extension": ".py",
   "mimetype": "text/x-python",
   "name": "python",
   "nbconvert_exporter": "python",
   "pygments_lexer": "ipython3",
   "version": "3.7.4"
  }
 },
 "nbformat": 4,
 "nbformat_minor": 5
}
