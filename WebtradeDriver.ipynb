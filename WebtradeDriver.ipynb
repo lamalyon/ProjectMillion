{
  "nbformat": 4,
  "nbformat_minor": 0,
  "metadata": {
    "colab": {
      "name": "WebtradeDriver.ipynb",
      "provenance": [],
      "include_colab_link": true
    },
    "kernelspec": {
      "display_name": "Python 3",
      "language": "python",
      "name": "python3"
    },
    "language_info": {
      "codemirror_mode": {
        "name": "ipython",
        "version": 3
      },
      "file_extension": ".py",
      "mimetype": "text/x-python",
      "name": "python",
      "nbconvert_exporter": "python",
      "pygments_lexer": "ipython3",
      "version": "3.7.4"
    }
  },
  "cells": [
    {
      "cell_type": "markdown",
      "metadata": {
        "id": "view-in-github",
        "colab_type": "text"
      },
      "source": [
        "<a href=\"https://colab.research.google.com/github/lamalyon/ProjectMillion/blob/STOCKclassV3_20210503/WebtradeDriver.ipynb\" target=\"_parent\"><img src=\"https://colab.research.google.com/assets/colab-badge.svg\" alt=\"Open In Colab\"/></a>"
      ]
    },
    {
      "cell_type": "code",
      "metadata": {
        "id": "SiM4mfBbqL9r"
      },
      "source": [
        "import time\n",
        "from IPython.display import Image\n",
        "import timeit\n",
        "import pandas as pd\n",
        "from random import randrange\n",
        "\n",
        "from selenium import webdriver\n",
        "from selenium.webdriver.common.keys import Keys\n",
        "from selenium.webdriver.support.ui import WebDriverWait\n",
        "from selenium.webdriver.support import expected_conditions as EC\n",
        "from selenium.webdriver.common.by import By\n",
        "from selenium.common.exceptions import TimeoutException"
      ],
      "execution_count": null,
      "outputs": []
    },
    {
      "cell_type": "code",
      "metadata": {
        "id": "2-Nhx__8gT6v"
      },
      "source": [
        "PATH = 'C:\\Program Files (x86)\\Google\\Chrome\\Application\\chromedriver.exe'"
      ],
      "execution_count": null,
      "outputs": []
    },
    {
      "cell_type": "code",
      "metadata": {
        "id": "_orvVNgUgT6w"
      },
      "source": [
        "driver = webdriver.Chrome(PATH)\n",
        "driver.get('https://zh.wgw.interactivebrokers.com/webtrader/servlet/login')"
      ],
      "execution_count": null,
      "outputs": []
    },
    {
      "cell_type": "markdown",
      "metadata": {
        "id": "HbrHjey3gT6w"
      },
      "source": [
        "def sendkeys(element,keys):\n",
        "    for i in keys:\n",
        "        if i == 'ctrl+a':\n",
        "            element.send_keys(Keys.CONTROL,'a')\n",
        "        elif i == 'backspace':\n",
        "            element.send_keys(Keys.BACKSPACE)\n",
        "        elif i == 'return':\n",
        "            element.send_keys(Keys.RETURN)\n",
        "        else:\n",
        "            element.send_keys(i)"
      ]
    },
    {
      "cell_type": "code",
      "metadata": {
        "id": "-th_zobBgT6x"
      },
      "source": [
        "def sendkey(element,key):\n",
        "    element.send_keys(Keys.CONTROL,'a')\n",
        "    element.send_keys(Keys.BACKSPACE)\n",
        "    element.send_keys(key)"
      ],
      "execution_count": null,
      "outputs": []
    },
    {
      "cell_type": "code",
      "metadata": {
        "id": "GJeOXTYggT6x"
      },
      "source": [
        "def findxp(xp):\n",
        "    return driver.find_element_by_xpath(xp)\n",
        "\n",
        "def findxps(xp):\n",
        "    return driver.find_elements_by_xpath(xp)"
      ],
      "execution_count": null,
      "outputs": []
    },
    {
      "cell_type": "markdown",
      "metadata": {
        "id": "mLP11JvSgT6x"
      },
      "source": [
        "### Login + phone authentification"
      ]
    },
    {
      "cell_type": "code",
      "metadata": {
        "id": "d1CCKhD1gT6x"
      },
      "source": [
        "user = findxp('//*[@id=\"user_name\"]')\n",
        "sendkey(user,'lam141085')\n",
        "pw = findxp('//*[@id=\"password\"]')\n",
        "sendkey(pw,'58emiTnrocpoP')\n",
        "findxp('//*[@id=\"loginType\"]/option[2]').click()\n",
        "findxp('//*[@id=\"submitForm\"]').click()"
      ],
      "execution_count": null,
      "outputs": []
    },
    {
      "cell_type": "markdown",
      "metadata": {
        "id": "G7nniYsmgT6y"
      },
      "source": [
        "### Place order"
      ]
    },
    {
      "cell_type": "code",
      "metadata": {
        "id": "o6JAyTbNgT6y"
      },
      "source": [
        "def order(position,ticker, numShare):\n",
        "    findxp('//*[@id=\"om_tab_neworder\"]').click()\n",
        "    findxp('//*[@id=\"no_tab_options\"]').click()\n",
        "    findxp('//*[@id=\"no_tab_stocks\"]').click()\n",
        "\n",
        "    # buying\n",
        "    if position == 'buy':  \n",
        "        findxp('//*[@id=\"side0\"]/option[1]').click()\n",
        "    elif position == 'sell':\n",
        "        findxp('//*[@id=\"side0\"]/option[2]').click()\n",
        "    # selling\n",
        "    #findxp('//*[@id=\"side0\"]/option[2]').click()\n",
        "\n",
        "    # quantity input\n",
        "    quantity = findxp('//*[@id=\"quantity0\"]')\n",
        "    sendkey(quantity,numShare)\n",
        "    \n",
        "    # select ticker\n",
        "    symbol = findxp('//*[@id=\"symbol0\"]')\n",
        "    sendkey(symbol,ticker)\n",
        "\n",
        "#     # select exchange code here\n",
        "#     findxp('//*[@id=\"lookup0\"]').click()\n",
        "#     time.sleep(1)\n",
        "#     symbol.send_keys(Keys.DOWN)\n",
        "#     symbol.send_keys(Keys.RETURN)\n",
        "#     time.sleep(1)\n",
        "\n",
        "#     # set market order\n",
        "#     findxp('//*[@id=\"order_type0\"]/option[2]').click()\n",
        "#     # preview order\n",
        "    \n",
        "#     findxp('//*[@id=\"previewOrder\"]').click()\n",
        "#     time.sleep(0.5)\n",
        "\n",
        "#     findxp('//*[@id=\"submitPrevOrder\"]').click()\n",
        "\n",
        "\n"
      ],
      "execution_count": null,
      "outputs": []
    },
    {
      "cell_type": "code",
      "metadata": {
        "id": "zBxQjzxpgT6z"
      },
      "source": [
        "symbol = findxp('//*[@id=\"symbol0\"]')\n",
        "ticker='BNGO'\n",
        "sendkey(symbol,ticker)"
      ],
      "execution_count": null,
      "outputs": []
    },
    {
      "cell_type": "code",
      "metadata": {
        "id": "tlAVYkJxgT6z",
        "outputId": "25c4cbaa-54f9-4b95-f8ac-09e9e4c2818c"
      },
      "source": [
        "order('sell','BNGO',300)"
      ],
      "execution_count": null,
      "outputs": [
        {
          "output_type": "error",
          "ename": "ElementNotInteractableException",
          "evalue": "Message: element not interactable\n  (Session info: chrome=90.0.4430.212)\n",
          "traceback": [
            "\u001b[1;31m---------------------------------------------------------------------------\u001b[0m",
            "\u001b[1;31mElementNotInteractableException\u001b[0m           Traceback (most recent call last)",
            "\u001b[1;32m<ipython-input-347-30b4a9e15aaa>\u001b[0m in \u001b[0;36m<module>\u001b[1;34m\u001b[0m\n\u001b[1;32m----> 1\u001b[1;33m \u001b[0morder\u001b[0m\u001b[1;33m(\u001b[0m\u001b[1;34m'sell'\u001b[0m\u001b[1;33m,\u001b[0m\u001b[1;34m'BNGO'\u001b[0m\u001b[1;33m,\u001b[0m\u001b[1;36m300\u001b[0m\u001b[1;33m)\u001b[0m\u001b[1;33m\u001b[0m\u001b[1;33m\u001b[0m\u001b[0m\n\u001b[0m",
            "\u001b[1;32m<ipython-input-325-9bcca8241cb6>\u001b[0m in \u001b[0;36morder\u001b[1;34m(position, ticker, numShare)\u001b[0m\n\u001b[0;32m     18\u001b[0m     \u001b[1;31m# select ticker\u001b[0m\u001b[1;33m\u001b[0m\u001b[1;33m\u001b[0m\u001b[1;33m\u001b[0m\u001b[0m\n\u001b[0;32m     19\u001b[0m     \u001b[0msymbol\u001b[0m \u001b[1;33m=\u001b[0m \u001b[0mfindxp\u001b[0m\u001b[1;33m(\u001b[0m\u001b[1;34m'//*[@id=\"symbol0\"]'\u001b[0m\u001b[1;33m)\u001b[0m\u001b[1;33m\u001b[0m\u001b[1;33m\u001b[0m\u001b[0m\n\u001b[1;32m---> 20\u001b[1;33m     \u001b[0msendkey\u001b[0m\u001b[1;33m(\u001b[0m\u001b[0msymbol\u001b[0m\u001b[1;33m,\u001b[0m\u001b[0mticker\u001b[0m\u001b[1;33m)\u001b[0m\u001b[1;33m\u001b[0m\u001b[1;33m\u001b[0m\u001b[0m\n\u001b[0m\u001b[0;32m     21\u001b[0m \u001b[1;33m\u001b[0m\u001b[0m\n\u001b[0;32m     22\u001b[0m \u001b[1;31m#     # select exchange code here\u001b[0m\u001b[1;33m\u001b[0m\u001b[1;33m\u001b[0m\u001b[1;33m\u001b[0m\u001b[0m\n",
            "\u001b[1;32m<ipython-input-324-d5ccde8355ed>\u001b[0m in \u001b[0;36msendkey\u001b[1;34m(element, key)\u001b[0m\n\u001b[0;32m      1\u001b[0m \u001b[1;32mdef\u001b[0m \u001b[0msendkey\u001b[0m\u001b[1;33m(\u001b[0m\u001b[0melement\u001b[0m\u001b[1;33m,\u001b[0m\u001b[0mkey\u001b[0m\u001b[1;33m)\u001b[0m\u001b[1;33m:\u001b[0m\u001b[1;33m\u001b[0m\u001b[1;33m\u001b[0m\u001b[0m\n\u001b[1;32m----> 2\u001b[1;33m     \u001b[0melement\u001b[0m\u001b[1;33m.\u001b[0m\u001b[0msend_keys\u001b[0m\u001b[1;33m(\u001b[0m\u001b[0mKeys\u001b[0m\u001b[1;33m.\u001b[0m\u001b[0mCONTROL\u001b[0m\u001b[1;33m,\u001b[0m\u001b[1;34m'a'\u001b[0m\u001b[1;33m)\u001b[0m\u001b[1;33m\u001b[0m\u001b[1;33m\u001b[0m\u001b[0m\n\u001b[0m\u001b[0;32m      3\u001b[0m     \u001b[0melement\u001b[0m\u001b[1;33m.\u001b[0m\u001b[0msend_keys\u001b[0m\u001b[1;33m(\u001b[0m\u001b[0mKeys\u001b[0m\u001b[1;33m.\u001b[0m\u001b[0mBACKSPACE\u001b[0m\u001b[1;33m)\u001b[0m\u001b[1;33m\u001b[0m\u001b[1;33m\u001b[0m\u001b[0m\n\u001b[0;32m      4\u001b[0m     \u001b[0melement\u001b[0m\u001b[1;33m.\u001b[0m\u001b[0msend_keys\u001b[0m\u001b[1;33m(\u001b[0m\u001b[0mkey\u001b[0m\u001b[1;33m)\u001b[0m\u001b[1;33m\u001b[0m\u001b[1;33m\u001b[0m\u001b[0m\n",
            "\u001b[1;32m~\\Anaconda3\\lib\\site-packages\\selenium\\webdriver\\remote\\webelement.py\u001b[0m in \u001b[0;36msend_keys\u001b[1;34m(self, *value)\u001b[0m\n\u001b[0;32m    477\u001b[0m         self._execute(Command.SEND_KEYS_TO_ELEMENT,\n\u001b[0;32m    478\u001b[0m                       {'text': \"\".join(keys_to_typing(value)),\n\u001b[1;32m--> 479\u001b[1;33m                        'value': keys_to_typing(value)})\n\u001b[0m\u001b[0;32m    480\u001b[0m \u001b[1;33m\u001b[0m\u001b[0m\n\u001b[0;32m    481\u001b[0m     \u001b[1;31m# RenderedWebElement Items\u001b[0m\u001b[1;33m\u001b[0m\u001b[1;33m\u001b[0m\u001b[1;33m\u001b[0m\u001b[0m\n",
            "\u001b[1;32m~\\Anaconda3\\lib\\site-packages\\selenium\\webdriver\\remote\\webelement.py\u001b[0m in \u001b[0;36m_execute\u001b[1;34m(self, command, params)\u001b[0m\n\u001b[0;32m    631\u001b[0m             \u001b[0mparams\u001b[0m \u001b[1;33m=\u001b[0m \u001b[1;33m{\u001b[0m\u001b[1;33m}\u001b[0m\u001b[1;33m\u001b[0m\u001b[1;33m\u001b[0m\u001b[0m\n\u001b[0;32m    632\u001b[0m         \u001b[0mparams\u001b[0m\u001b[1;33m[\u001b[0m\u001b[1;34m'id'\u001b[0m\u001b[1;33m]\u001b[0m \u001b[1;33m=\u001b[0m \u001b[0mself\u001b[0m\u001b[1;33m.\u001b[0m\u001b[0m_id\u001b[0m\u001b[1;33m\u001b[0m\u001b[1;33m\u001b[0m\u001b[0m\n\u001b[1;32m--> 633\u001b[1;33m         \u001b[1;32mreturn\u001b[0m \u001b[0mself\u001b[0m\u001b[1;33m.\u001b[0m\u001b[0m_parent\u001b[0m\u001b[1;33m.\u001b[0m\u001b[0mexecute\u001b[0m\u001b[1;33m(\u001b[0m\u001b[0mcommand\u001b[0m\u001b[1;33m,\u001b[0m \u001b[0mparams\u001b[0m\u001b[1;33m)\u001b[0m\u001b[1;33m\u001b[0m\u001b[1;33m\u001b[0m\u001b[0m\n\u001b[0m\u001b[0;32m    634\u001b[0m \u001b[1;33m\u001b[0m\u001b[0m\n\u001b[0;32m    635\u001b[0m     \u001b[1;32mdef\u001b[0m \u001b[0mfind_element\u001b[0m\u001b[1;33m(\u001b[0m\u001b[0mself\u001b[0m\u001b[1;33m,\u001b[0m \u001b[0mby\u001b[0m\u001b[1;33m=\u001b[0m\u001b[0mBy\u001b[0m\u001b[1;33m.\u001b[0m\u001b[0mID\u001b[0m\u001b[1;33m,\u001b[0m \u001b[0mvalue\u001b[0m\u001b[1;33m=\u001b[0m\u001b[1;32mNone\u001b[0m\u001b[1;33m)\u001b[0m\u001b[1;33m:\u001b[0m\u001b[1;33m\u001b[0m\u001b[1;33m\u001b[0m\u001b[0m\n",
            "\u001b[1;32m~\\Anaconda3\\lib\\site-packages\\selenium\\webdriver\\remote\\webdriver.py\u001b[0m in \u001b[0;36mexecute\u001b[1;34m(self, driver_command, params)\u001b[0m\n\u001b[0;32m    319\u001b[0m         \u001b[0mresponse\u001b[0m \u001b[1;33m=\u001b[0m \u001b[0mself\u001b[0m\u001b[1;33m.\u001b[0m\u001b[0mcommand_executor\u001b[0m\u001b[1;33m.\u001b[0m\u001b[0mexecute\u001b[0m\u001b[1;33m(\u001b[0m\u001b[0mdriver_command\u001b[0m\u001b[1;33m,\u001b[0m \u001b[0mparams\u001b[0m\u001b[1;33m)\u001b[0m\u001b[1;33m\u001b[0m\u001b[1;33m\u001b[0m\u001b[0m\n\u001b[0;32m    320\u001b[0m         \u001b[1;32mif\u001b[0m \u001b[0mresponse\u001b[0m\u001b[1;33m:\u001b[0m\u001b[1;33m\u001b[0m\u001b[1;33m\u001b[0m\u001b[0m\n\u001b[1;32m--> 321\u001b[1;33m             \u001b[0mself\u001b[0m\u001b[1;33m.\u001b[0m\u001b[0merror_handler\u001b[0m\u001b[1;33m.\u001b[0m\u001b[0mcheck_response\u001b[0m\u001b[1;33m(\u001b[0m\u001b[0mresponse\u001b[0m\u001b[1;33m)\u001b[0m\u001b[1;33m\u001b[0m\u001b[1;33m\u001b[0m\u001b[0m\n\u001b[0m\u001b[0;32m    322\u001b[0m             response['value'] = self._unwrap_value(\n\u001b[0;32m    323\u001b[0m                 response.get('value', None))\n",
            "\u001b[1;32m~\\Anaconda3\\lib\\site-packages\\selenium\\webdriver\\remote\\errorhandler.py\u001b[0m in \u001b[0;36mcheck_response\u001b[1;34m(self, response)\u001b[0m\n\u001b[0;32m    240\u001b[0m                 \u001b[0malert_text\u001b[0m \u001b[1;33m=\u001b[0m \u001b[0mvalue\u001b[0m\u001b[1;33m[\u001b[0m\u001b[1;34m'alert'\u001b[0m\u001b[1;33m]\u001b[0m\u001b[1;33m.\u001b[0m\u001b[0mget\u001b[0m\u001b[1;33m(\u001b[0m\u001b[1;34m'text'\u001b[0m\u001b[1;33m)\u001b[0m\u001b[1;33m\u001b[0m\u001b[1;33m\u001b[0m\u001b[0m\n\u001b[0;32m    241\u001b[0m             \u001b[1;32mraise\u001b[0m \u001b[0mexception_class\u001b[0m\u001b[1;33m(\u001b[0m\u001b[0mmessage\u001b[0m\u001b[1;33m,\u001b[0m \u001b[0mscreen\u001b[0m\u001b[1;33m,\u001b[0m \u001b[0mstacktrace\u001b[0m\u001b[1;33m,\u001b[0m \u001b[0malert_text\u001b[0m\u001b[1;33m)\u001b[0m\u001b[1;33m\u001b[0m\u001b[1;33m\u001b[0m\u001b[0m\n\u001b[1;32m--> 242\u001b[1;33m         \u001b[1;32mraise\u001b[0m \u001b[0mexception_class\u001b[0m\u001b[1;33m(\u001b[0m\u001b[0mmessage\u001b[0m\u001b[1;33m,\u001b[0m \u001b[0mscreen\u001b[0m\u001b[1;33m,\u001b[0m \u001b[0mstacktrace\u001b[0m\u001b[1;33m)\u001b[0m\u001b[1;33m\u001b[0m\u001b[1;33m\u001b[0m\u001b[0m\n\u001b[0m\u001b[0;32m    243\u001b[0m \u001b[1;33m\u001b[0m\u001b[0m\n\u001b[0;32m    244\u001b[0m     \u001b[1;32mdef\u001b[0m \u001b[0m_value_or_default\u001b[0m\u001b[1;33m(\u001b[0m\u001b[0mself\u001b[0m\u001b[1;33m,\u001b[0m \u001b[0mobj\u001b[0m\u001b[1;33m,\u001b[0m \u001b[0mkey\u001b[0m\u001b[1;33m,\u001b[0m \u001b[0mdefault\u001b[0m\u001b[1;33m)\u001b[0m\u001b[1;33m:\u001b[0m\u001b[1;33m\u001b[0m\u001b[1;33m\u001b[0m\u001b[0m\n",
            "\u001b[1;31mElementNotInteractableException\u001b[0m: Message: element not interactable\n  (Session info: chrome=90.0.4430.212)\n"
          ]
        }
      ]
    },
    {
      "cell_type": "code",
      "metadata": {
        "id": "Trvc9OKTgT60"
      },
      "source": [
        "findxp('/html/body/div[21]/div[11]/button/span').click()"
      ],
      "execution_count": null,
      "outputs": []
    },
    {
      "cell_type": "code",
      "metadata": {
        "id": "pRSVkh3vgT60"
      },
      "source": [
        "findxp('//*[@id=\"submitPrevOrder\"]').click()"
      ],
      "execution_count": null,
      "outputs": []
    },
    {
      "cell_type": "code",
      "metadata": {
        "id": "6pUDjMZPgT60"
      },
      "source": [
        "findxp('/html/body/div[20]/div[11]/button[1]').click()"
      ],
      "execution_count": null,
      "outputs": []
    },
    {
      "cell_type": "code",
      "metadata": {
        "id": "-wh3boJRgT60",
        "outputId": "2831f757-1b13-4c0e-d79f-54e7886bd2bf"
      },
      "source": [
        "head = findxp('//*[@id=\"gview_tablePSHeader\"]/thead/tr').text.split('\\n')[:-1]\n",
        "head\n"
      ],
      "execution_count": null,
      "outputs": [
        {
          "output_type": "execute_result",
          "data": {
            "text/plain": [
              "[' Contract',\n",
              " ' Position',\n",
              " ' Mark Price',\n",
              " ' Mark Value',\n",
              " ' Average Cost',\n",
              " ' Unrealized P&L',\n",
              " ' Realized P&L',\n",
              " ' Liquidate Last']"
            ]
          },
          "metadata": {
            "tags": []
          },
          "execution_count": 222
        }
      ]
    },
    {
      "cell_type": "code",
      "metadata": {
        "id": "Gj5V5yx7gT61",
        "outputId": "a02e0f9d-f407-4388-ac3e-3e313913bae3"
      },
      "source": [
        "head"
      ],
      "execution_count": null,
      "outputs": [
        {
          "output_type": "execute_result",
          "data": {
            "text/plain": [
              "[' Contract\\n Position\\n Mark Price\\n Mark Value\\n Average Cost\\n Unrealized P&L\\n Realized P&L\\n Liquidate Last\\n     ']"
            ]
          },
          "metadata": {
            "tags": []
          },
          "execution_count": 209
        }
      ]
    },
    {
      "cell_type": "code",
      "metadata": {
        "id": "99rQKtncgT61",
        "outputId": "ddec721e-292a-4da6-9299-635d549b7d85"
      },
      "source": [
        "table = findxps('//*[@id=\"tablePSContainer\"]/tbody/tr')\n",
        "li = []\n",
        "for e in table[2:]:\n",
        "    l = []\n",
        "    for i in e.find_elements_by_xpath('.//td'):\n",
        "        l.append(i.text)\n",
        "    li.append(l[1:-3])\n",
        "li"
      ],
      "execution_count": null,
      "outputs": [
        {
          "output_type": "execute_result",
          "data": {
            "text/plain": [
              "[['BNGO, Stock, SMART, USD',\n",
              "  '-100',\n",
              "  '5.55',\n",
              "  '-555.00',\n",
              "  '5.5',\n",
              "  '-4.51',\n",
              "  '0.00',\n",
              "  'No'],\n",
              " ['TSLA, Stock, SMART, USD',\n",
              "  '-100',\n",
              "  '598.52',\n",
              "  '-59,900.00',\n",
              "  '597.87',\n",
              "  '-65.32',\n",
              "  '0.00',\n",
              "  'No']]"
            ]
          },
          "metadata": {
            "tags": []
          },
          "execution_count": 252
        }
      ]
    },
    {
      "cell_type": "code",
      "metadata": {
        "id": "OGihg657gT61",
        "outputId": "1197d89e-57d4-4894-e89d-c655b33f291d"
      },
      "source": [
        "findxp(\"//*[contains(text(), 'BNGO, Stock, SMART, USD')]/..\").text"
      ],
      "execution_count": null,
      "outputs": [
        {
          "output_type": "execute_result",
          "data": {
            "text/plain": [
              "'BNGO, Stock, SMART, USD -200 5.55 -1,110.00 5.51 -7.03 0.00 No Add Close Position'"
            ]
          },
          "metadata": {
            "tags": []
          },
          "execution_count": 260
        }
      ]
    },
    {
      "cell_type": "code",
      "metadata": {
        "id": "OlG-tSnlgT62",
        "outputId": "57a6d00d-050d-41e5-8198-1bebe6fab35b"
      },
      "source": [
        "pd.DataFrame(li,columns=head)"
      ],
      "execution_count": null,
      "outputs": [
        {
          "output_type": "execute_result",
          "data": {
            "text/html": [
              "<div>\n",
              "<style scoped>\n",
              "    .dataframe tbody tr th:only-of-type {\n",
              "        vertical-align: middle;\n",
              "    }\n",
              "\n",
              "    .dataframe tbody tr th {\n",
              "        vertical-align: top;\n",
              "    }\n",
              "\n",
              "    .dataframe thead th {\n",
              "        text-align: right;\n",
              "    }\n",
              "</style>\n",
              "<table border=\"1\" class=\"dataframe\">\n",
              "  <thead>\n",
              "    <tr style=\"text-align: right;\">\n",
              "      <th></th>\n",
              "      <th>Contract</th>\n",
              "      <th>Position</th>\n",
              "      <th>Mark Price</th>\n",
              "      <th>Mark Value</th>\n",
              "      <th>Average Cost</th>\n",
              "      <th>Unrealized P&amp;L</th>\n",
              "      <th>Realized P&amp;L</th>\n",
              "      <th>Liquidate Last</th>\n",
              "    </tr>\n",
              "  </thead>\n",
              "  <tbody>\n",
              "    <tr>\n",
              "      <td>0</td>\n",
              "      <td>BNGO, Stock, SMART, USD</td>\n",
              "      <td>-100</td>\n",
              "      <td>5.55</td>\n",
              "      <td>-555.00</td>\n",
              "      <td>5.5</td>\n",
              "      <td>-5.51</td>\n",
              "      <td>0.00</td>\n",
              "      <td>No</td>\n",
              "    </tr>\n",
              "    <tr>\n",
              "      <td>1</td>\n",
              "      <td>TSLA, Stock, SMART, USD</td>\n",
              "      <td>-100</td>\n",
              "      <td>600.22</td>\n",
              "      <td>-60,000.00</td>\n",
              "      <td>597.87</td>\n",
              "      <td>-235.45</td>\n",
              "      <td>0.00</td>\n",
              "      <td>No</td>\n",
              "    </tr>\n",
              "  </tbody>\n",
              "</table>\n",
              "</div>"
            ],
            "text/plain": [
              "                  Contract  Position  Mark Price  Mark Value  Average Cost  \\\n",
              "0  BNGO, Stock, SMART, USD      -100        5.55     -555.00           5.5   \n",
              "1  TSLA, Stock, SMART, USD      -100      600.22  -60,000.00        597.87   \n",
              "\n",
              "   Unrealized P&L  Realized P&L  Liquidate Last  \n",
              "0           -5.51          0.00              No  \n",
              "1         -235.45          0.00              No  "
            ]
          },
          "metadata": {
            "tags": []
          },
          "execution_count": 223
        }
      ]
    },
    {
      "cell_type": "code",
      "metadata": {
        "id": "T8J8czj6gT62",
        "outputId": "7e9225c0-2d7e-45e9-a7d9-cbcd47c27e0c"
      },
      "source": [
        "for i in findxps('//*[@id=\"tableEQContainer\"]/thead/tr/th'):\n",
        "    print(i.text)\n"
      ],
      "execution_count": null,
      "outputs": [
        {
          "output_type": "stream",
          "text": [
            " \n",
            "Cash Bal\n",
            "Stock\n",
            "Sec Options\n",
            "Fut Options\n",
            "Fut P&l\n",
            "Net Liquid\n",
            "Unrealized P&L\n",
            "Realized P&L\n",
            "FDIC Sweep Acct Cash\n",
            " \n"
          ],
          "name": "stdout"
        }
      ]
    },
    {
      "cell_type": "code",
      "metadata": {
        "id": "kFRiudTOgT62",
        "outputId": "4042f108-e960-4ed4-b538-dc2a5afcef05"
      },
      "source": [
        "findxp('//*[@id=\"tableEQContainer\"]/tbody/tr').text '//*[@id=\"tableEQContainer\"]/tbody/tr/td'"
      ],
      "execution_count": null,
      "outputs": [
        {
          "output_type": "execute_result",
          "data": {
            "text/plain": [
              "'GBP 0 0 0 0 0 0 0 0  '"
            ]
          },
          "metadata": {
            "tags": []
          },
          "execution_count": 64
        }
      ]
    },
    {
      "cell_type": "code",
      "metadata": {
        "id": "Go27fnhhgT63",
        "outputId": "c3681456-8b8f-4dad-94eb-ddef5eda2b48"
      },
      "source": [
        "for i in findxps('//*[@id=\"tableEQContainer\"]/tbody/tr/td'):\n",
        "    print(i.text)"
      ],
      "execution_count": null,
      "outputs": [
        {
          "output_type": "stream",
          "text": [
            "GBP\n",
            "0\n",
            "0\n",
            "0\n",
            "0\n",
            "0\n",
            "0\n",
            "0\n",
            "0\n",
            " \n"
          ],
          "name": "stdout"
        }
      ]
    },
    {
      "cell_type": "code",
      "metadata": {
        "id": "w0N17GMOgT63"
      },
      "source": [
        "symbol = findxp('//*[@id=\"symbol0\"]')\n"
      ],
      "execution_count": null,
      "outputs": []
    }
  ]
}