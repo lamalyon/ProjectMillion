{
  "nbformat": 4,
  "nbformat_minor": 0,
  "metadata": {
    "colab": {
      "name": "WebtradeDriver.ipynb",
      "provenance": [],
      "include_colab_link": true
    },
    "kernelspec": {
      "display_name": "Python 3",
      "language": "python",
      "name": "python3"
    },
    "language_info": {
      "codemirror_mode": {
        "name": "ipython",
        "version": 3
      },
      "file_extension": ".py",
      "mimetype": "text/x-python",
      "name": "python",
      "nbconvert_exporter": "python",
      "pygments_lexer": "ipython3",
      "version": "3.7.4"
    }
  },
  "cells": [
    {
      "cell_type": "markdown",
      "metadata": {
        "id": "view-in-github",
        "colab_type": "text"
      },
      "source": [
        "<a href=\"https://colab.research.google.com/github/lamalyon/ProjectMillion/blob/STOCKclassV3_20210503/WebtradeDriver.ipynb\" target=\"_parent\"><img src=\"https://colab.research.google.com/assets/colab-badge.svg\" alt=\"Open In Colab\"/></a>"
      ]
    },
    {
      "cell_type": "code",
      "metadata": {
        "id": "LevCWcadelWq"
      },
      "source": [
        "!pip install selenium"
      ],
      "execution_count": null,
      "outputs": []
    },
    {
      "cell_type": "code",
      "metadata": {
        "id": "SiM4mfBbqL9r"
      },
      "source": [
        "import time\n",
        "from IPython.display import Image\n",
        "import timeit\n",
        "import pandas as pd\n",
        "from random import randrange\n",
        "import locale\n",
        "from locale import atof\n",
        "\n",
        "from selenium import webdriver\n",
        "from selenium.webdriver.common.keys import Keys\n",
        "from selenium.webdriver.support.ui import WebDriverWait\n",
        "from selenium.webdriver.support import expected_conditions as EC\n",
        "from selenium.webdriver.common.by import By\n",
        "from selenium.common.exceptions import TimeoutException"
      ],
      "execution_count": null,
      "outputs": []
    },
    {
      "cell_type": "code",
      "metadata": {
        "id": "2-Nhx__8gT6v"
      },
      "source": [
        "PATH = 'C:\\Program Files (x86)\\Google\\Chrome\\Application\\chromedriver.exe'"
      ],
      "execution_count": null,
      "outputs": []
    },
    {
      "cell_type": "code",
      "metadata": {
        "id": "_orvVNgUgT6w"
      },
      "source": [
        "driver = webdriver.Chrome(PATH)\n",
        "driver.get('https://zh.wgw.interactivebrokers.com/webtrader/servlet/login')"
      ],
      "execution_count": null,
      "outputs": []
    },
    {
      "cell_type": "markdown",
      "metadata": {
        "id": "HbrHjey3gT6w"
      },
      "source": [
        "def sendkeys(element,keys):\n",
        "    for i in keys:\n",
        "        if i == 'ctrl+a':\n",
        "            element.send_keys(Keys.CONTROL,'a')\n",
        "        elif i == 'backspace':\n",
        "            element.send_keys(Keys.BACKSPACE)\n",
        "        elif i == 'return':\n",
        "            element.send_keys(Keys.RETURN)\n",
        "        else:\n",
        "            element.send_keys(i)"
      ]
    },
    {
      "cell_type": "code",
      "metadata": {
        "id": "-th_zobBgT6x"
      },
      "source": [
        "def sendkey(element,key):\n",
        "    element.send_keys(Keys.CONTROL,'a')\n",
        "    element.send_keys(Keys.BACKSPACE)\n",
        "    element.send_keys(key)"
      ],
      "execution_count": null,
      "outputs": []
    },
    {
      "cell_type": "code",
      "metadata": {
        "id": "GJeOXTYggT6x"
      },
      "source": [
        "def findxp(xp):\n",
        "    return driver.find_element_by_xpath(xp)\n",
        "\n",
        "def findxps(xp):\n",
        "    return driver.find_elements_by_xpath(xp)"
      ],
      "execution_count": null,
      "outputs": []
    },
    {
      "cell_type": "markdown",
      "metadata": {
        "id": "mLP11JvSgT6x"
      },
      "source": [
        "### Login + phone authentification"
      ]
    },
    {
      "cell_type": "code",
      "metadata": {
        "id": "d1CCKhD1gT6x"
      },
      "source": [
        "user = findxp('//*[@id=\"user_name\"]')\n",
        "sendkey(user,'lam141085')\n",
        "pw = findxp('//*[@id=\"password\"]')\n",
        "sendkey(pw,'58emiTnrocpoP')\n",
        "findxp('//*[@id=\"loginType\"]/option[2]').click()\n",
        "findxp('//*[@id=\"submitForm\"]').click()"
      ],
      "execution_count": null,
      "outputs": []
    },
    {
      "cell_type": "markdown",
      "metadata": {
        "id": "G7nniYsmgT6y"
      },
      "source": [
        "### Place order"
      ]
    },
    {
      "cell_type": "code",
      "metadata": {
        "id": "o6JAyTbNgT6y"
      },
      "source": [
        "def order(position,ticker, numShare):\n",
        "    findxp('//*[@id=\"om_tab_neworder\"]').click()\n",
        "    findxp('//*[@id=\"no_tab_options\"]').click()\n",
        "    findxp('//*[@id=\"no_tab_stocks\"]').click()\n",
        "\n",
        "    # buying\n",
        "    if position == 'buy':  \n",
        "        findxp('//*[@id=\"side0\"]/option[1]').click()\n",
        "    elif position == 'sell':\n",
        "        findxp('//*[@id=\"side0\"]/option[2]').click()\n",
        "    # selling\n",
        "    #findxp('//*[@id=\"side0\"]/option[2]').click()\n",
        "\n",
        "\n",
        "    \n",
        "    # select ticker\n",
        "    symbol = findxp('//*[@id=\"symbol0\"]')\n",
        "    sendkey(symbol,ticker)\n",
        "\n",
        "    # select exchange code here\n",
        "    findxp('//*[@id=\"lookup0\"]').click()\n",
        "    time.sleep(1)\n",
        "    symbol.send_keys(Keys.DOWN)\n",
        "    symbol.send_keys(Keys.RETURN)\n",
        "    time.sleep(0.5)\n",
        "\n",
        "    # quantity input\n",
        "    quantity = findxp('//*[@id=\"quantity0\"]')\n",
        "    sendkey(quantity,numShare)\n",
        "    \n",
        "    time.sleep(1)\n",
        "    # set market order\n",
        "    findxp('//*[@id=\"order_type0\"]').click()\n",
        "    time.sleep(1)\n",
        "\n",
        "    findxp('//*[@id=\"order_type0\"]/*[contains(text(), \"MKT\")]').click()\n",
        "    # preview order\n",
        "    \n",
        "    findxp('//*[@id=\"previewOrder\"]').click()\n",
        "    time.sleep(1)\n",
        "\n",
        "    findxp('//*[@id=\"submitPrevOrder\"]').click()\n",
        "    time.sleep(1)\n",
        "\n",
        "\n"
      ],
      "execution_count": null,
      "outputs": []
    },
    {
      "cell_type": "code",
      "metadata": {
        "id": "ooUBFQL8elWw"
      },
      "source": [
        "# test one order\n",
        "order('buy','ZVO',10)"
      ],
      "execution_count": null,
      "outputs": []
    },
    {
      "cell_type": "code",
      "metadata": {
        "id": "4ymoEiHeelWx"
      },
      "source": [
        "# feed in stock list\n",
        "stockList = [\n",
        "'ZVO','WISH','RPHM','EVOK','BHR','DXF','PTIX','OBLN','POSH','YCBD','KBNT','AMWL','FLR','FREQ','CRIS','EYES','SQBG','CXDC','SIOX','LHDX','NCTY','TRQ','ATNF','MEIP','HYMC','INM','VIRX','EBON','MASS','EAR','RIOT','CNET','BFLY','ANIX','RNA','LEDS','PHUN','URGN','TUSK','WINT','MGTA','UVXY','BTX','EDU','EGLX','ONEM','BMBL','MICT','PATI','NTEC','PCT','SNMP','YQ','ZY','MARA','BFI','IKNA','AMTX','UAVS','HAE','SPRT','ZEPP','PRAX','OLO','ETNB','ELTK','TMCI','PETZ','PALI','SINO','VLDR','GRAY','INTZ','AGFY','HFFG','NNOX','BKTI','HGSH','VINO','DSP','LGO','PRLD','CAN','OPGN','TLIS','BEEM','DV','KBSF','BIVI','PED','SDPI','TAL','GRCL','ADN','REKR','AHPI','HRTX','QK','RYAM','KRT','APLT','PAAS','PRPO','DAO','AUTL','SONM','XBIO','TAOP','HOWL','FTFT','BIOC','DQ','STEM','WNW','DBTX','SHLS','ATIF','MSTR','LIVE','AVGR','VZIO','GMBL','PLSE','OYST','AIHS','NEW','MREO','ATER','VXX','YVR','CTXR','CHNR','YALA','PUBM','RMED','LIZI','VIXY','ALRN','SPI','AEVA','AMEH','CPNG','BCEL','GBS','SLP','SHC','LODE','LEE','ORTX','OEG','HIMS','JFU','REPX','PBF','KC','CSCW','UTME','GOOS','NVIV','CGEM','FEDU','XSPA','GNCA','OSH','CPE','BLNK','BIMI','PHIO','MSGM','GSHD','PFIE','OCG','GTBP','NBY','FUV','RETO','VTGN','SGA','TLMD','ABEO','NISN','KLDO','UPST','AEI','EM','PHAR','SNGX','DOYU','XCUR','DRIO','ADMS','IKT','QTRX','ALF','GLMD','OUST','UTZ','IPWR','NMRD','OIBR-C'\n",
        "]"
      ],
      "execution_count": null,
      "outputs": []
    },
    {
      "cell_type": "code",
      "metadata": {
        "id": "zBxQjzxpgT6z"
      },
      "source": [
        "# replace l with stocklist\n",
        "l = ['ZVO','WISH','RPHM','EVOK','BHR','DXF']\n",
        "while len(l) != 0 :\n",
        "    try:\n",
        "        ticker = l.pop()\n",
        "        order('sell',ticker,10)\n",
        "        l.remove(i)\n",
        "    except:\n",
        "        findxp('//*[@id=\"om_tab_neworder\"]').click() # this is to return to order page when fill order notification pop up"
      ],
      "execution_count": null,
      "outputs": []
    },
    {
      "cell_type": "markdown",
      "metadata": {
        "id": "YG0u8YuaelWx"
      },
      "source": [
        "### position data"
      ]
    },
    {
      "cell_type": "code",
      "metadata": {
        "id": "-wh3boJRgT60",
        "outputId": "2831f757-1b13-4c0e-d79f-54e7886bd2bf"
      },
      "source": [
        "# get header\n",
        "header = findxp('//*[@id=\"gview_tablePSHeader\"]/thead/tr').text.split('\\n')[:-1]\n",
        "header = [i.strip() for i in header]\n",
        "header"
      ],
      "execution_count": null,
      "outputs": [
        {
          "output_type": "execute_result",
          "data": {
            "text/plain": [
              "['Contract',\n",
              " 'Position',\n",
              " 'Mark Price',\n",
              " 'Mark Value',\n",
              " 'Average Cost',\n",
              " 'Unrealized P&L',\n",
              " 'Realized P&L',\n",
              " 'Liquidate Last']"
            ]
          },
          "metadata": {
            "tags": []
          },
          "execution_count": 10
        }
      ]
    },
    {
      "cell_type": "code",
      "metadata": {
        "id": "99rQKtncgT61",
        "outputId": "ddec721e-292a-4da6-9299-635d549b7d85"
      },
      "source": [
        "table = findxps('//*[@id=\"tablePSContainer\"]/tbody/tr')\n",
        "li = []\n",
        "for e in table[2:]:\n",
        "    l = []\n",
        "    for i in e.find_elements_by_xpath('.//td'):\n",
        "        l.append(i.text)\n",
        "    li.append(l[1:-3])\n",
        "tradePosition = pd.DataFrame(li,columns=header)\n",
        "tradePosition['Contract'] =tradePosition.Contract.str.split(',').str[0]\n",
        "\n",
        "tradePosition.set_index('Contract',inplace=True)\n",
        "tradePosition.drop('Liquidate Last',axis=1,inplace=True)\n",
        "locale.setlocale(locale.LC_NUMERIC, '')\n",
        "tradePosition = tradePosition.applymap(atof)\n",
        "tradePosition.reset_index(inplace=True)\n",
        "tradePosition"
      ],
      "execution_count": null,
      "outputs": [
        {
          "output_type": "execute_result",
          "data": {
            "text/html": [
              "<div>\n",
              "<style scoped>\n",
              "    .dataframe tbody tr th:only-of-type {\n",
              "        vertical-align: middle;\n",
              "    }\n",
              "\n",
              "    .dataframe tbody tr th {\n",
              "        vertical-align: top;\n",
              "    }\n",
              "\n",
              "    .dataframe thead th {\n",
              "        text-align: right;\n",
              "    }\n",
              "</style>\n",
              "<table border=\"1\" class=\"dataframe\">\n",
              "  <thead>\n",
              "    <tr style=\"text-align: right;\">\n",
              "      <th></th>\n",
              "      <th>Contract</th>\n",
              "      <th>Position</th>\n",
              "      <th>Mark Price</th>\n",
              "      <th>Mark Value</th>\n",
              "      <th>Average Cost</th>\n",
              "      <th>Unrealized P&amp;L</th>\n",
              "      <th>Realized P&amp;L</th>\n",
              "    </tr>\n",
              "  </thead>\n",
              "  <tbody>\n",
              "    <tr>\n",
              "      <td>0</td>\n",
              "      <td>BHR</td>\n",
              "      <td>-10.0</td>\n",
              "      <td>6.22</td>\n",
              "      <td>-62.0</td>\n",
              "      <td>5.97</td>\n",
              "      <td>-2.45</td>\n",
              "      <td>0.0</td>\n",
              "    </tr>\n",
              "    <tr>\n",
              "      <td>1</td>\n",
              "      <td>BNGO</td>\n",
              "      <td>-500.0</td>\n",
              "      <td>5.93</td>\n",
              "      <td>-2960.0</td>\n",
              "      <td>5.63</td>\n",
              "      <td>-152.07</td>\n",
              "      <td>0.0</td>\n",
              "    </tr>\n",
              "    <tr>\n",
              "      <td>2</td>\n",
              "      <td>DXF</td>\n",
              "      <td>-30.0</td>\n",
              "      <td>1.65</td>\n",
              "      <td>-49.0</td>\n",
              "      <td>1.72</td>\n",
              "      <td>2.17</td>\n",
              "      <td>0.0</td>\n",
              "    </tr>\n",
              "    <tr>\n",
              "      <td>3</td>\n",
              "      <td>TSLA</td>\n",
              "      <td>-100.0</td>\n",
              "      <td>624.73</td>\n",
              "      <td>-62500.0</td>\n",
              "      <td>597.87</td>\n",
              "      <td>-2686.31</td>\n",
              "      <td>0.0</td>\n",
              "    </tr>\n",
              "    <tr>\n",
              "      <td>4</td>\n",
              "      <td>WISH</td>\n",
              "      <td>-40.0</td>\n",
              "      <td>7.76</td>\n",
              "      <td>-310.0</td>\n",
              "      <td>8.59</td>\n",
              "      <td>33.30</td>\n",
              "      <td>0.0</td>\n",
              "    </tr>\n",
              "  </tbody>\n",
              "</table>\n",
              "</div>"
            ],
            "text/plain": [
              "  Contract  Position  Mark Price  Mark Value  Average Cost  Unrealized P&L  \\\n",
              "0      BHR     -10.0        6.22       -62.0          5.97           -2.45   \n",
              "1     BNGO    -500.0        5.93     -2960.0          5.63         -152.07   \n",
              "2      DXF     -30.0        1.65       -49.0          1.72            2.17   \n",
              "3     TSLA    -100.0      624.73    -62500.0        597.87        -2686.31   \n",
              "4     WISH     -40.0        7.76      -310.0          8.59           33.30   \n",
              "\n",
              "   Realized P&L  \n",
              "0           0.0  \n",
              "1           0.0  \n",
              "2           0.0  \n",
              "3           0.0  \n",
              "4           0.0  "
            ]
          },
          "metadata": {
            "tags": []
          },
          "execution_count": 20
        }
      ]
    },
    {
      "cell_type": "markdown",
      "metadata": {
        "id": "M3qGphx2elWz"
      },
      "source": [
        "### close all trade"
      ]
    },
    {
      "cell_type": "code",
      "metadata": {
        "id": "OlG-tSnlgT62",
        "outputId": "57a6d00d-050d-41e5-8198-1bebe6fab35b"
      },
      "source": [
        "closing= tradePosition[['Contract','Position']].to_dict('records')\n",
        "closing"
      ],
      "execution_count": null,
      "outputs": [
        {
          "output_type": "execute_result",
          "data": {
            "text/plain": [
              "[{'Contract': 'BHR', 'Position': -10.0},\n",
              " {'Contract': 'BNGO', 'Position': -500.0},\n",
              " {'Contract': 'DXF', 'Position': -30.0},\n",
              " {'Contract': 'TSLA', 'Position': -100.0},\n",
              " {'Contract': 'WISH', 'Position': -40.0}]"
            ]
          },
          "metadata": {
            "tags": []
          },
          "execution_count": 21
        }
      ]
    },
    {
      "cell_type": "code",
      "metadata": {
        "id": "T8J8czj6gT62"
      },
      "source": [
        "while len(closing) != 0 :\n",
        "    try:\n",
        "        ticker = closing[-1]\n",
        "        if ticker['Position']>0:\n",
        "            order('sell',ticker['Contract'],abs(int(ticker['Position'])))\n",
        "        elif ticker['Position']<0:\n",
        "            order('buy',ticker['Contract'],abs(int(ticker['Position'])))\n",
        "        closing.pop()\n",
        "    except:\n",
        "        findxp('//*[@id=\"om_tab_neworder\"]').click()"
      ],
      "execution_count": null,
      "outputs": []
    },
    {
      "cell_type": "code",
      "metadata": {
        "id": "kFRiudTOgT62"
      },
      "source": [
        "ticker = closing[-1]\n",
        "if ticker['Position']>0:\n",
        "    order('sell',ticker['Contract'],abs(int(ticker['Position'])))\n",
        "elif ticker['Position']<0:\n",
        "    order('buy',ticker['Contract'],abs(int(ticker['Position'])))\n"
      ],
      "execution_count": null,
      "outputs": []
    },
    {
      "cell_type": "code",
      "metadata": {
        "id": "Go27fnhhgT63",
        "outputId": "c3681456-8b8f-4dad-94eb-ddef5eda2b48"
      },
      "source": [
        "ticker = closing[-1]\n",
        "abs(int(ticker['Position']))"
      ],
      "execution_count": null,
      "outputs": [
        {
          "output_type": "execute_result",
          "data": {
            "text/plain": [
              "30"
            ]
          },
          "metadata": {
            "tags": []
          },
          "execution_count": 18
        }
      ]
    },
    {
      "cell_type": "code",
      "metadata": {
        "id": "w0N17GMOgT63"
      },
      "source": [
        "locale.setlocale(locale.LC_NUMERIC, '')\n",
        "tradePosition = tradePosition.applymap(atof)"
      ],
      "execution_count": null,
      "outputs": []
    }
  ]
}