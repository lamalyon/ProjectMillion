{
 "cells": [
  {
   "cell_type": "code",
   "execution_count": 1,
   "metadata": {},
   "outputs": [
    {
     "name": "stderr",
     "output_type": "stream",
     "text": [
      "ERROR -1 2104 Market data farm connection is OK:usfarm.nj\n",
      "ERROR -1 2104 Market data farm connection is OK:eufarm\n",
      "ERROR -1 2104 Market data farm connection is OK:cashfarm\n",
      "ERROR -1 2104 Market data farm connection is OK:usfarm\n",
      "ERROR -1 2106 HMDS data farm connection is OK:euhmds\n",
      "ERROR -1 2106 HMDS data farm connection is OK:ushmds.nj\n",
      "ERROR -1 2106 HMDS data farm connection is OK:fundfarm\n",
      "ERROR -1 2106 HMDS data farm connection is OK:ushmds\n",
      "ERROR -1 2158 Sec-def data farm connection is OK:secdefil\n",
      "ERROR 1 10168 Requested market data is not subscribed. Delayed market data is not enabled.\n"
     ]
    }
   ],
   "source": [
    "from ibapi.client import EClient\n",
    "from ibapi.wrapper import EWrapper\n",
    "from ibapi.contract import Contract\n",
    "\n",
    "import pandas\n",
    "import threading\n",
    "import time\n",
    "\n",
    "\n",
    "class IBapi(EWrapper, EClient):\n",
    "    def __init__(self):\n",
    "        EClient.__init__(self, self)\n",
    "    def tickPrice(self, reqId, tickType, price, attrib):\n",
    "        if tickType == 2 and reqId == 1:\n",
    "            print('The current ask price is: ', price)\n",
    "\n",
    "def run_loop():\n",
    "    app.run()\n",
    "\n",
    "app = IBapi()\n",
    "app.connect('127.0.0.1', 7497, 123)\n",
    "\n",
    "#Start the socket in a thread\n",
    "api_thread = threading.Thread(target=run_loop, daemon=True)\n",
    "api_thread.start()\n",
    "\n",
    "time.sleep(1) #Sleep interval to allow time for connection to server\n",
    "\n",
    "#Create contract object\n",
    "apple_contract = Contract()\n",
    "apple_contract.symbol = 'AAPL'\n",
    "apple_contract.secType = 'STK'\n",
    "apple_contract.exchange = 'SMART'\n",
    "apple_contract.currency = 'USD'\n",
    "\n",
    "#Request Market Data\n",
    "app.reqMktData(1, apple_contract, '', False, False, [])\n",
    "\n",
    "time.sleep(10) #Sleep interval to allow time for incoming price data\n",
    "app.disconnect()"
   ]
  },
  {
   "cell_type": "code",
   "execution_count": 2,
   "metadata": {},
   "outputs": [
    {
     "data": {
      "text/plain": [
       "2581536210184: 0,AAPL,STK,,0.0,,,SMART,,USD,,,False,,combo:"
      ]
     },
     "execution_count": 2,
     "metadata": {},
     "output_type": "execute_result"
    }
   ],
   "source": [
    "apple_contract"
   ]
  },
  {
   "cell_type": "code",
   "execution_count": 2,
   "metadata": {},
   "outputs": [],
   "source": [
    "import datetime"
   ]
  },
  {
   "cell_type": "code",
   "execution_count": 12,
   "metadata": {},
   "outputs": [
    {
     "data": {
      "text/plain": [
       "datetime.timedelta(seconds=3600)"
      ]
     },
     "execution_count": 12,
     "metadata": {},
     "output_type": "execute_result"
    }
   ],
   "source": [
    "datetime.timedelta(hours=1)"
   ]
  },
  {
   "cell_type": "code",
   "execution_count": 13,
   "metadata": {},
   "outputs": [
    {
     "data": {
      "text/plain": [
       "datetime.datetime(2021, 4, 20, 18, 32, 43, 690746)"
      ]
     },
     "execution_count": 13,
     "metadata": {},
     "output_type": "execute_result"
    }
   ],
   "source": [
    "datetime.datetime.now() - datetime.timedelta(hours=1)"
   ]
  },
  {
   "cell_type": "code",
   "execution_count": 1,
   "metadata": {
    "scrolled": true
   },
   "outputs": [
    {
     "name": "stderr",
     "output_type": "stream",
     "text": [
      "ERROR -1 2104 Market data farm connection is OK:usfarm.nj\n",
      "ERROR -1 2104 Market data farm connection is OK:eufarm\n",
      "ERROR -1 2104 Market data farm connection is OK:cashfarm\n",
      "ERROR -1 2104 Market data farm connection is OK:usfarm\n",
      "ERROR -1 2106 HMDS data farm connection is OK:euhmds\n",
      "ERROR -1 2106 HMDS data farm connection is OK:ushmds.nj\n",
      "ERROR -1 2106 HMDS data farm connection is OK:fundfarm\n",
      "ERROR -1 2106 HMDS data farm connection is OK:ushmds\n",
      "ERROR -1 2158 Sec-def data farm connection is OK:secdefil\n",
      "ERROR 1 162 Historical Market Data Service error message:No market data permissions for ISLAND STK\n"
     ]
    }
   ],
   "source": [
    "from ibapi.client import EClient\n",
    "from ibapi.wrapper import EWrapper\n",
    "from ibapi.contract import Contract\n",
    "\n",
    "import threading\n",
    "import time\n",
    "\n",
    "class IBapi(EWrapper, EClient):\n",
    "    def __init__(self):\n",
    "        EClient.__init__(self, self)\n",
    "        self.data = []\n",
    "    def historicalData(self, reqId, bar):\n",
    "        #print(bar)\n",
    "        #print(bar.low)\n",
    "        print(f'Time: {bar.date} Close: {bar.close}')\n",
    "        self.data.append([bar.date, bar.close])\n",
    "\n",
    "def run_loop():\n",
    "    app.run()\n",
    "\n",
    "app = IBapi()\n",
    "app.connect('127.0.0.1', 7497, 123)\n",
    "\n",
    "#Start the socket in a thread\n",
    "api_thread = threading.Thread(target=run_loop, daemon=True)\n",
    "api_thread.start()\n",
    "\n",
    "time.sleep(1) #Sleep interval to allow time for connection to server\n",
    "\n",
    "#Create contract object\n",
    "eurusd_contract = Contract()\n",
    "eurusd_contract.symbol = 'AMZN'\n",
    "eurusd_contract.secType = 'STK'\n",
    "eurusd_contract.currency = 'USD'\n",
    "eurusd_contract.exchange = 'SMART'\n",
    "\n",
    "#Request historical candles\n",
    "app.reqHistoricalData(1, eurusd_contract, '20210419 19:00:00 GMT', '2 D', '1 hour', 'BID', 1, 2, False, [])\n",
    "\n",
    "time.sleep(5) #sleep to allow enough time for data to be returned\n",
    "\n",
    "\n"
   ]
  },
  {
   "cell_type": "code",
   "execution_count": 1,
   "metadata": {},
   "outputs": [],
   "source": [
    "import backtrader as bt"
   ]
  },
  {
   "cell_type": "code",
   "execution_count": 6,
   "metadata": {},
   "outputs": [],
   "source": [
    "ibstore = bt.stores.IBStore(host='127.0.0.1', port=7497, clientId=35)\n"
   ]
  },
  {
   "cell_type": "code",
   "execution_count": 7,
   "metadata": {},
   "outputs": [],
   "source": [
    "data = ibstore.getdata(dataname='TWTR')"
   ]
  },
  {
   "cell_type": "code",
   "execution_count": 12,
   "metadata": {},
   "outputs": [],
   "source": [
    "cerebro = bt.Cerebro()"
   ]
  },
  {
   "cell_type": "code",
   "execution_count": null,
   "metadata": {},
   "outputs": [],
   "source": [
    "cerebro."
   ]
  },
  {
   "cell_type": "code",
   "execution_count": null,
   "metadata": {},
   "outputs": [],
   "source": []
  },
  {
   "cell_type": "code",
   "execution_count": 9,
   "metadata": {},
   "outputs": [],
   "source": [
    "def next(self):\n",
    "    # some logic before\n",
    "    self.buy(data, m_triggerMethod=2)"
   ]
  },
  {
   "cell_type": "code",
   "execution_count": 11,
   "metadata": {},
   "outputs": [
    {
     "ename": "NameError",
     "evalue": "name 'Order' is not defined",
     "output_type": "error",
     "traceback": [
      "\u001b[1;31m---------------------------------------------------------------------------\u001b[0m",
      "\u001b[1;31mNameError\u001b[0m                                 Traceback (most recent call last)",
      "\u001b[1;32m<ipython-input-11-340286f0d1fb>\u001b[0m in \u001b[0;36m<module>\u001b[1;34m\u001b[0m\n\u001b[1;32m----> 1\u001b[1;33m \u001b[0mOrder\u001b[0m\u001b[1;33m.\u001b[0m\u001b[0mMarket\u001b[0m\u001b[1;33m\u001b[0m\u001b[1;33m\u001b[0m\u001b[0m\n\u001b[0m",
      "\u001b[1;31mNameError\u001b[0m: name 'Order' is not defined"
     ]
    }
   ],
   "source": [
    "Order.Market"
   ]
  },
  {
   "cell_type": "code",
   "execution_count": null,
   "metadata": {},
   "outputs": [],
   "source": []
  },
  {
   "cell_type": "code",
   "execution_count": null,
   "metadata": {},
   "outputs": [],
   "source": [
    "app.reqHistoricalData()"
   ]
  },
  {
   "cell_type": "code",
   "execution_count": 1,
   "metadata": {},
   "outputs": [
    {
     "ename": "NameError",
     "evalue": "name 'app' is not defined",
     "output_type": "error",
     "traceback": [
      "\u001b[1;31m---------------------------------------------------------------------------\u001b[0m",
      "\u001b[1;31mNameError\u001b[0m                                 Traceback (most recent call last)",
      "\u001b[1;32m<ipython-input-1-ac32e74a2d32>\u001b[0m in \u001b[0;36m<module>\u001b[1;34m\u001b[0m\n\u001b[1;32m----> 1\u001b[1;33m \u001b[0mapp\u001b[0m\u001b[1;33m.\u001b[0m\u001b[0mdata\u001b[0m\u001b[1;33m\u001b[0m\u001b[1;33m\u001b[0m\u001b[0m\n\u001b[0m",
      "\u001b[1;31mNameError\u001b[0m: name 'app' is not defined"
     ]
    }
   ],
   "source": [
    "app.data"
   ]
  },
  {
   "cell_type": "code",
   "execution_count": 8,
   "metadata": {},
   "outputs": [],
   "source": [
    "def sendData():\n",
    "    '''sends data as a dictionary to black box in the format {Datetime: , \"Open\": 2 dp, \"High\": , \"Low\": , \"Close\": , \"Price\": (average of high, low, close, open), \"Volumne\", \"D\": (date), \"T\": (time) ,}'''"
   ]
  },
  {
   "cell_type": "code",
   "execution_count": 9,
   "metadata": {},
   "outputs": [],
   "source": [
    "def placeOrder():\n",
    "    '''receives dictionary of order which is in the format {\"type\": (\"long\" or \"short\"), \"volume\": int, }'''"
   ]
  },
  {
   "cell_type": "code",
   "execution_count": 2,
   "metadata": {},
   "outputs": [
    {
     "data": {
      "text/plain": [
       "'__main__'"
      ]
     },
     "execution_count": 2,
     "metadata": {},
     "output_type": "execute_result"
    }
   ],
   "source": [
    "__name__"
   ]
  },
  {
   "cell_type": "code",
   "execution_count": 1,
   "metadata": {},
   "outputs": [
    {
     "name": "stdout",
     "output_type": "stream",
     "text": [
      "name is testing\n"
     ]
    }
   ],
   "source": [
    "import testing"
   ]
  },
  {
   "cell_type": "code",
   "execution_count": null,
   "metadata": {},
   "outputs": [
    {
     "name": "stdout",
     "output_type": "stream",
     "text": [
      "Server Version: 76\n",
      "TWS Time at connection:20210511 18:42:47 British Summer Time\n",
      "***** DATA NOTIF: DELAYED\n"
     ]
    }
   ],
   "source": [
    "from __future__ import (absolute_import, division, print_function,\n",
    "                        unicode_literals)\n",
    "\n",
    "import backtrader as bt\n",
    "\n",
    "\n",
    "class St(bt.Strategy):\n",
    "    def logdata(self):\n",
    "        txt = []\n",
    "        txt.append('{}'.format(len(self)))\n",
    "        txt.append('{}'.format(self.data.datetime.datetime(0).isoformat()))\n",
    "        txt.append('{:.2f}'.format(self.data.open[0]))\n",
    "        txt.append('{:.2f}'.format(self.data.high[0]))\n",
    "        txt.append('{:.2f}'.format(self.data.low[0]))\n",
    "        txt.append('{:.2f}'.format(self.data.close[0]))\n",
    "        txt.append('{:.2f}'.format(self.data.volume[0]))\n",
    "        print(','.join(txt))\n",
    "\n",
    "    data_live = False\n",
    "\n",
    "    def notify_data(self, data, status, *args, **kwargs):\n",
    "        print('*' * 5, 'DATA NOTIF:', data._getstatusname(status), *args)\n",
    "        if status == data.LIVE:\n",
    "            self.data_live = True\n",
    "\n",
    "    def notify_order(self, order):\n",
    "        if order.status == order.Completed:\n",
    "            buysell = 'BUY ' if order.isbuy() else 'SELL'\n",
    "            txt = '{} {}@{}'.format(buysell, order.executed.size,\n",
    "                                    order.executed.price)\n",
    "            print(txt)\n",
    "\n",
    "    bought = 0\n",
    "    sold = 0\n",
    "\n",
    "    def next(self):\n",
    "        self.logdata()\n",
    "        if not self.data_live:\n",
    "            return\n",
    "\n",
    "        if not self.bought:\n",
    "            self.bought = len(self)  # keep entry bar\n",
    "            self.buy()\n",
    "        elif not self.sold:\n",
    "            if len(self) == (self.bought + 3):\n",
    "                self.sell()\n",
    "\n",
    "\n",
    "def run(args=None):\n",
    "    cerebro = bt.Cerebro(stdstats=False)\n",
    "    store = bt.stores.IBStore(port=7497)\n",
    "\n",
    "    data = store.getdata(dataname='TWTR', timeframe=bt.TimeFrame.Ticks)\n",
    "    cerebro.resampledata(data, timeframe=bt.TimeFrame.Seconds, compression=10)\n",
    "\n",
    "    cerebro.broker = store.getbroker()\n",
    "\n",
    "    cerebro.addstrategy(St)\n",
    "    cerebro.run()\n",
    "\n",
    "\n",
    "if __name__ == '__main__':\n",
    "    run()"
   ]
  },
  {
   "cell_type": "code",
   "execution_count": null,
   "metadata": {},
   "outputs": [],
   "source": []
  },
  {
   "cell_type": "code",
   "execution_count": 3,
   "metadata": {},
   "outputs": [
    {
     "name": "stdout",
     "output_type": "stream",
     "text": [
      "Server Version: 76\n",
      "TWS Time at connection:20210511 18:42:10 British Summer Time\n",
      "***** DATA NOTIF: DISCONNECTED\n"
     ]
    }
   ],
   "source": [
    "run()"
   ]
  },
  {
   "cell_type": "code",
   "execution_count": 9,
   "metadata": {},
   "outputs": [],
   "source": [
    "def next():\n",
    "    print(\"next22\")"
   ]
  },
  {
   "cell_type": "code",
   "execution_count": 6,
   "metadata": {},
   "outputs": [],
   "source": [
    "def gh():\n",
    "    print(\"hello\")"
   ]
  },
  {
   "cell_type": "code",
   "execution_count": 10,
   "metadata": {},
   "outputs": [
    {
     "name": "stdout",
     "output_type": "stream",
     "text": [
      "hello\n"
     ]
    }
   ],
   "source": [
    "gh()"
   ]
  },
  {
   "cell_type": "code",
   "execution_count": 14,
   "metadata": {},
   "outputs": [
    {
     "name": "stdout",
     "output_type": "stream",
     "text": [
      "next22\n"
     ]
    }
   ],
   "source": [
    "next()"
   ]
  },
  {
   "cell_type": "code",
   "execution_count": null,
   "metadata": {},
   "outputs": [],
   "source": []
  },
  {
   "cell_type": "code",
   "execution_count": null,
   "metadata": {},
   "outputs": [],
   "source": []
  },
  {
   "cell_type": "code",
   "execution_count": null,
   "metadata": {},
   "outputs": [],
   "source": []
  },
  {
   "cell_type": "code",
   "execution_count": 26,
   "metadata": {},
   "outputs": [],
   "source": [
    "from __future__ import (absolute_import, division, print_function,\n",
    "                        unicode_literals)\n",
    "\n",
    "import backtrader as bt\n",
    "\n",
    "\n",
    "class St(bt.Strategy):\n",
    "    def logdata(self):\n",
    "        txt = []\n",
    "        txt.append('{}'.format(len(self)))\n",
    "        txt.append('{}'.format(self.data.datetime.datetime(0).isoformat()))\n",
    "        txt.append('{:.2f}'.format(self.data.open[0]))\n",
    "        txt.append('{:.2f}'.format(self.data.high[0]))\n",
    "        txt.append('{:.2f}'.format(self.data.low[0]))\n",
    "        txt.append('{:.2f}'.format(self.data.close[0]))\n",
    "        txt.append('{:.2f}'.format(self.data.volume[0]))\n",
    "        print(','.join(txt))\n",
    "\n",
    "    data_live = False\n",
    "\n",
    "    def notify_data(self, data, status, *args, **kwargs):\n",
    "        print('*' * 5, 'DATA NOTIF:', data._getstatusname(status), *args)\n",
    "        if status == data.LIVE:\n",
    "            self.data_live = True\n",
    "\n",
    "    def notify_order(self, order):\n",
    "        if order.status == order.Completed:\n",
    "            buysell = 'BUY ' if order.isbuy() else 'SELL'\n",
    "            txt = '{} {}@{}'.format(buysell, order.executed.size,\n",
    "                                    order.executed.price)\n",
    "            print(txt)\n",
    "\n",
    "    bought = 0\n",
    "    sold = 0\n",
    "\n",
    "    def next(self):\n",
    "        self.logdata()\n",
    "        if not self.data_live:\n",
    "            return\n",
    "\n",
    "        if not self.bought:\n",
    "            self.bought = len(self)  # keep entry bar\n",
    "            self.buy()\n",
    "        elif not self.sold:\n",
    "            if len(self) == (self.bought + 3):\n",
    "                self.sell()\n",
    "    def testing(self):\n",
    "        print(\"testing\")\n",
    "\n",
    "def run(args=None):\n",
    "    cerebro = bt.Cerebro(stdstats=False)\n",
    "    store = bt.stores.IBStore(port=7497)\n",
    "\n",
    "    data = store.getdata(dataname='TWTR', timeframe=bt.TimeFrame.Ticks)\n",
    "    cerebro.resampledata(data, timeframe=bt.TimeFrame.Seconds, compression=10)\n",
    "\n",
    "    cerebro.broker = store.getbroker()\n",
    "\n",
    "    cerebro.addstrategy(St)\n",
    "    cerebro.run()\n",
    "\n",
    "\n",
    "if __name__ == '__main__':\n",
    "    run()"
   ]
  },
  {
   "cell_type": "code",
   "execution_count": 22,
   "metadata": {},
   "outputs": [],
   "source": [
    "class St(bt.Strategy):\n",
    "\n",
    "\n",
    "    def next(self):\n",
    "        self.buy()\n",
    "\n"
   ]
  },
  {
   "cell_type": "code",
   "execution_count": 23,
   "metadata": {},
   "outputs": [
    {
     "name": "stdout",
     "output_type": "stream",
     "text": [
      "Server Version: 76\n",
      "TWS Time at connection:20210504 20:59:40 British Summer Time\n"
     ]
    }
   ],
   "source": [
    "def run(args=None):\n",
    "    cerebro = bt.Cerebro(stdstats=False)\n",
    "    store = bt.stores.IBStore(port=7497)\n",
    "\n",
    "    data = store.getdata(dataname='TWTR', timeframe=bt.TimeFrame.Ticks)\n",
    "    cerebro.resampledata(data, timeframe=bt.TimeFrame.Seconds, compression=10)\n",
    "\n",
    "    cerebro.broker = store.getbroker()\n",
    "\n",
    "    cerebro.addstrategy(St)\n",
    "    cerebro.run()\n",
    "    \n",
    "if __name__ == '__main__':\n",
    "    run()"
   ]
  },
  {
   "cell_type": "code",
   "execution_count": null,
   "metadata": {},
   "outputs": [],
   "source": [
    "cerebro."
   ]
  },
  {
   "cell_type": "code",
   "execution_count": null,
   "metadata": {},
   "outputs": [],
   "source": []
  },
  {
   "cell_type": "code",
   "execution_count": null,
   "metadata": {},
   "outputs": [],
   "source": []
  },
  {
   "cell_type": "code",
   "execution_count": 19,
   "metadata": {},
   "outputs": [
    {
     "data": {
      "text/plain": [
       "1"
      ]
     },
     "execution_count": 19,
     "metadata": {},
     "output_type": "execute_result"
    }
   ],
   "source": [
    "cerebro.addstrategy(St)"
   ]
  },
  {
   "cell_type": "code",
   "execution_count": 18,
   "metadata": {},
   "outputs": [
    {
     "name": "stdout",
     "output_type": "stream",
     "text": [
      "Server Version: 76\n",
      "TWS Time at connection:20210504 20:56:31 British Summer Time\n"
     ]
    },
    {
     "data": {
      "text/plain": [
       "[<backtrader.strategy.Strategy at 0x1bf19a424c8>]"
      ]
     },
     "execution_count": 18,
     "metadata": {},
     "output_type": "execute_result"
    }
   ],
   "source": [
    "cerebro.run()"
   ]
  },
  {
   "cell_type": "code",
   "execution_count": null,
   "metadata": {},
   "outputs": [],
   "source": []
  },
  {
   "cell_type": "code",
   "execution_count": null,
   "metadata": {},
   "outputs": [],
   "source": [
    "class test(self):\n",
    "    def bla:\n",
    "        p"
   ]
  },
  {
   "cell_type": "code",
   "execution_count": null,
   "metadata": {},
   "outputs": [],
   "source": []
  },
  {
   "cell_type": "code",
   "execution_count": null,
   "metadata": {},
   "outputs": [],
   "source": []
  },
  {
   "cell_type": "code",
   "execution_count": null,
   "metadata": {},
   "outputs": [],
   "source": []
  },
  {
   "cell_type": "code",
   "execution_count": null,
   "metadata": {},
   "outputs": [],
   "source": []
  },
  {
   "cell_type": "code",
   "execution_count": 18,
   "metadata": {},
   "outputs": [
    {
     "ename": "NameError",
     "evalue": "name 'symbol' is not defined",
     "output_type": "error",
     "traceback": [
      "\u001b[1;31m---------------------------------------------------------------------------\u001b[0m",
      "\u001b[1;31mNameError\u001b[0m                                 Traceback (most recent call last)",
      "\u001b[1;32m<ipython-input-18-8228b90781b0>\u001b[0m in \u001b[0;36m<module>\u001b[1;34m\u001b[0m\n\u001b[1;32m----> 1\u001b[1;33m \u001b[0msymbol\u001b[0m\u001b[1;33m[\u001b[0m\u001b[1;33m:\u001b[0m\u001b[1;36m3\u001b[0m\u001b[1;33m]\u001b[0m\u001b[1;33m\u001b[0m\u001b[1;33m\u001b[0m\u001b[0m\n\u001b[0m",
      "\u001b[1;31mNameError\u001b[0m: name 'symbol' is not defined"
     ]
    }
   ],
   "source": [
    "symbol[:3]"
   ]
  },
  {
   "cell_type": "code",
   "execution_count": 1,
   "metadata": {},
   "outputs": [],
   "source": [
    "tickers = [\"APPL\", \"ABNB\", \"TWTR\"]"
   ]
  },
  {
   "cell_type": "code",
   "execution_count": 1,
   "metadata": {},
   "outputs": [],
   "source": [
    "tickers_to_short = ['WISH', 'RPHM', 'PTIX', 'OBLN', 'POSH', 'KBNT', 'CRIS', 'EYES', 'LHDX', 'NCTY', 'ATNF', 'HYMC', 'EBON', 'EAR', 'BFLY', 'ANIX', 'MICT', 'NTEC', 'BFI', 'AMTX', 'UAVS', 'HAE', 'SPRT', 'TMCI', 'SINO', 'VLDR', 'GRAY', 'INTZ', 'AGFY', 'HFFG', 'NNOX', 'CAN', 'KBSF', 'BIVI', 'TAL', 'RYAM', 'APLT', 'PAAS', 'PRPO', 'DAO', 'AUTL', 'XBIO', 'TAOP', 'SHLS', 'ATIF', 'MSTR', 'CHNR', 'PUBM', 'RMED', 'ALRN', 'SPI', 'CPNG', 'BCEL', 'SLP', 'JFU', 'NVIV', 'CGEM', 'OSH', 'CPE', 'BLNK', 'BIMI', 'PHIO', 'MSGM', 'NISN', 'KLDO', 'UPST', 'EM', 'SNGX', 'DOYU', 'XCUR', 'DRIO', 'IKT', 'QTRX', 'GLMD', 'IPWR', 'NMRD', 'OIBR-C']"
   ]
  },
  {
   "cell_type": "code",
   "execution_count": 4,
   "metadata": {},
   "outputs": [],
   "source": [
    "tickers_to_buy = ['YCBD', 'FREQ', 'SQBG', 'MEIP', 'INM', 'RNA', 'LEDS', 'MGTA', 'ZY', 'IKNA', 'ZEPP', 'PRAX', 'ETNB', 'BKTI', 'VINO', 'PRLD', 'OPGN', 'BEEM', 'REKR', 'AHPI', 'DQ', 'LIVE', 'GMBL', 'MREO', 'YVR', 'LIZI', 'REPX', 'PBF', 'CSCW', 'FEDU', 'GNCA', 'PFIE', 'OCG', 'GTBP', 'RETO', 'TLMD', 'ABEO', 'ADMS']\n",
    "# failed : ['DXF',"
   ]
  },
  {
   "cell_type": "code",
   "execution_count": null,
   "metadata": {},
   "outputs": [],
   "source": []
  },
  {
   "cell_type": "code",
   "execution_count": 5,
   "metadata": {},
   "outputs": [
    {
     "ename": "NameError",
     "evalue": "name 'failed' is not defined",
     "output_type": "error",
     "traceback": [
      "\u001b[1;31m---------------------------------------------------------------------------\u001b[0m",
      "\u001b[1;31mNameError\u001b[0m                                 Traceback (most recent call last)",
      "\u001b[1;32m<ipython-input-5-d14e4b5b81f9>\u001b[0m in \u001b[0;36m<module>\u001b[1;34m\u001b[0m\n\u001b[1;32m----> 1\u001b[1;33m \u001b[0mfailed\u001b[0m\u001b[1;33m\u001b[0m\u001b[1;33m\u001b[0m\u001b[0m\n\u001b[0m",
      "\u001b[1;31mNameError\u001b[0m: name 'failed' is not defined"
     ]
    }
   ],
   "source": [
    "failed"
   ]
  },
  {
   "cell_type": "code",
   "execution_count": 2,
   "metadata": {},
   "outputs": [
    {
     "name": "stderr",
     "output_type": "stream",
     "text": [
      "ERROR -1 2104 Market data farm connection is OK:usfarm.nj\n",
      "ERROR -1 2104 Market data farm connection is OK:usfarm\n",
      "ERROR -1 2106 HMDS data farm connection is OK:euhmds\n",
      "ERROR -1 2106 HMDS data farm connection is OK:fundfarm\n",
      "ERROR -1 2106 HMDS data farm connection is OK:ushmds\n",
      "ERROR -1 2158 Sec-def data farm connection is OK:secdefil\n"
     ]
    },
    {
     "name": "stdout",
     "output_type": "stream",
     "text": [
      "waiting for connection\n",
      "The next valid order id is:  5\n"
     ]
    },
    {
     "name": "stderr",
     "output_type": "stream",
     "text": [
      "ERROR 5 2102 Unable to modify this order as its still being processed.\n",
      "ERROR 5 2102 Unable to modify this order as its still being processed.\n",
      "ERROR 5 2102 Unable to modify this order as its still being processed.\n",
      "ERROR 5 2102 Unable to modify this order as its still being processed.\n",
      "ERROR 5 2102 Unable to modify this order as its still being processed.\n",
      "ERROR 5 2102 Unable to modify this order as its still being processed.\n",
      "ERROR 5 2102 Unable to modify this order as its still being processed.\n",
      "ERROR 5 2102 Unable to modify this order as its still being processed.\n",
      "ERROR 5 2102 Unable to modify this order as its still being processed.\n",
      "ERROR 5 2102 Unable to modify this order as its still being processed.\n",
      "ERROR 5 2102 Unable to modify this order as its still being processed.\n",
      "ERROR 5 2102 Unable to modify this order as its still being processed.\n",
      "ERROR 5 2102 Unable to modify this order as its still being processed.\n",
      "ERROR 5 2102 Unable to modify this order as its still being processed.\n",
      "ERROR 5 2102 Unable to modify this order as its still being processed.\n",
      "ERROR 5 2102 Unable to modify this order as its still being processed.\n",
      "ERROR 5 2102 Unable to modify this order as its still being processed.\n",
      "ERROR 5 2102 Unable to modify this order as its still being processed.\n",
      "ERROR 5 2102 Unable to modify this order as its still being processed.\n",
      "ERROR 5 2102 Unable to modify this order as its still being processed.\n",
      "ERROR 5 2102 Unable to modify this order as its still being processed.\n",
      "ERROR 5 2102 Unable to modify this order as its still being processed.\n",
      "ERROR 5 2102 Unable to modify this order as its still being processed.\n",
      "ERROR 5 2102 Unable to modify this order as its still being processed.\n",
      "ERROR 5 2102 Unable to modify this order as its still being processed.\n",
      "ERROR 5 2102 Unable to modify this order as its still being processed.\n",
      "ERROR 5 2102 Unable to modify this order as its still being processed.\n",
      "ERROR 5 2102 Unable to modify this order as its still being processed.\n",
      "ERROR 5 2102 Unable to modify this order as its still being processed.\n",
      "ERROR 5 2102 Unable to modify this order as its still being processed.\n",
      "ERROR 5 2102 Unable to modify this order as its still being processed.\n",
      "ERROR 5 2102 Unable to modify this order as its still being processed.\n",
      "ERROR 5 2102 Unable to modify this order as its still being processed.\n",
      "ERROR 5 2102 Unable to modify this order as its still being processed.\n",
      "ERROR 5 2102 Unable to modify this order as its still being processed.\n",
      "ERROR 5 2102 Unable to modify this order as its still being processed.\n",
      "ERROR 5 2102 Unable to modify this order as its still being processed.\n",
      "ERROR 5 2102 Unable to modify this order as its still being processed.\n"
     ]
    },
    {
     "name": "stdout",
     "output_type": "stream",
     "text": [
      "connected\n",
      "openOrder id: 5 DXF STK @ SMART : BUY MIDPRICE 10.0 PreSubmitted\n",
      "orderStatus - orderid: 5 status: PreSubmitted filled 0.0 remaining 10.0 lastFillPrice 0.0\n",
      "openOrder id: 5 DXF STK @ SMART : BUY MIDPRICE 10.0 Submitted\n",
      "orderStatus - orderid: 5 status: Submitted filled 0.0 remaining 10.0 lastFillPrice 0.0\n",
      "openOrder id: 5 DXF STK @ SMART : BUY MIDPRICE 10.0 Submitted\n",
      "orderStatus - orderid: 5 status: Submitted filled 0.0 remaining 10.0 lastFillPrice 0.0\n"
     ]
    }
   ],
   "source": [
    "from ibapi.client import EClient\n",
    "from ibapi.wrapper import EWrapper\n",
    "from ibapi.contract import Contract\n",
    "from ibapi.order import *\n",
    "\n",
    "import threading\n",
    "import time\n",
    "\n",
    "class IBapi(EWrapper, EClient):\n",
    "\tdef __init__(self):\n",
    "\t\tEClient.__init__(self, self)\n",
    "\n",
    "\tdef nextValidId(self, orderId: int):\n",
    "\t\tsuper().nextValidId(orderId)\n",
    "\t\tself.nextorderId = orderId\n",
    "\t\tprint('The next valid order id is: ', self.nextorderId)\n",
    "\n",
    "\tdef orderStatus(self, orderId, status, filled, remaining, avgFullPrice, permId, parentId, lastFillPrice, clientId, whyHeld, mktCapPrice):\n",
    "\t\tprint('orderStatus - orderid:', orderId, 'status:', status, 'filled', filled, 'remaining', remaining, 'lastFillPrice', lastFillPrice)\n",
    "\t\n",
    "\tdef openOrder(self, orderId, contract, order, orderState):\n",
    "\t\tprint('openOrder id:', orderId, contract.symbol, contract.secType, '@', contract.exchange, ':', order.action, order.orderType, order.totalQuantity, orderState.status)\n",
    "\n",
    "\tdef execDetails(self, reqId, contract, execution):\n",
    "\t\tprint('Order Executed: ', reqId, contract.symbol, contract.secType, contract.currency, execution.execId, execution.orderId, execution.shares, execution.lastLiquidity)\n",
    "\n",
    "\n",
    "def run_loop():\n",
    "\tapp.run()\n",
    "\n",
    "#Function to create FX Order contract\n",
    "def FX_order(symbol):\n",
    "\tcontract = Contract()\n",
    "\tcontract.symbol = symbol\n",
    "\tcontract.secType = 'STK'\n",
    "\tcontract.exchange = 'SMART'\n",
    "\tcontract.currency = \"USD\"\n",
    "\treturn contract\n",
    "\n",
    "app = IBapi()\n",
    "app.connect('127.0.0.1', 7497, 123)\n",
    "\n",
    "app.nextorderId = None\n",
    "\n",
    "#Start the socket in a thread\n",
    "api_thread = threading.Thread(target=run_loop, daemon=True)\n",
    "api_thread.start()\n",
    "\n",
    "#Check if the API is connected via orderid\n",
    "while True:\n",
    "\tif isinstance(app.nextorderId, int):\n",
    "\t\tprint('connected')\n",
    "\t\tbreak\n",
    "\telse:\n",
    "\t\tprint('waiting for connection')\n",
    "\t\ttime.sleep(1)\n",
    "\n",
    "#Create order object\n",
    "order = Order()\n",
    "order.action = 'BUY'\n",
    "order.totalQuantity = 10\n",
    "order.orderType = 'MIDPRICE'\n",
    "\n",
    "\n",
    "\n",
    "#Place order\n",
    "for tick in tickers_to_buy:\n",
    "    app.placeOrder(app.nextorderId, FX_order(tick), order)\n",
    "\n",
    "\n",
    "\n",
    "#app.nextorderId += 1\n",
    "\n",
    "time.sleep(3)\n",
    "\n"
   ]
  },
  {
   "cell_type": "code",
   "execution_count": 3,
   "metadata": {},
   "outputs": [
    {
     "name": "stderr",
     "output_type": "stream",
     "text": [
      "ERROR 5 202 Order Canceled - reason:\n"
     ]
    },
    {
     "name": "stdout",
     "output_type": "stream",
     "text": [
      "cancelling order\n",
      "orderStatus - orderid: 5 status: Cancelled filled 0.0 remaining 10.0 lastFillPrice 0.0\n"
     ]
    }
   ],
   "source": [
    "#Cancel order \n",
    "print('cancelling order')\n",
    "app.cancelOrder(app.nextorderId)\n",
    "\n",
    "time.sleep(3)\n",
    "app.disconnect()"
   ]
  },
  {
   "cell_type": "code",
   "execution_count": null,
   "metadata": {},
   "outputs": [],
   "source": []
  },
  {
   "cell_type": "code",
   "execution_count": null,
   "metadata": {},
   "outputs": [],
   "source": []
  },
  {
   "cell_type": "code",
   "execution_count": 19,
   "metadata": {},
   "outputs": [
    {
     "data": {
      "text/plain": [
       "'EUR'"
      ]
     },
     "execution_count": 19,
     "metadata": {},
     "output_type": "execute_result"
    }
   ],
   "source": [
    "'EURUSD'[:3]"
   ]
  },
  {
   "cell_type": "code",
   "execution_count": null,
   "metadata": {},
   "outputs": [],
   "source": [
    "#Cancel order \n",
    "print('cancelling order')\n",
    "app.cancelOrder(app.nextorderId)\n",
    "\n",
    "time.sleep(3)\n",
    "app.disconnect()"
   ]
  }
 ],
 "metadata": {
  "kernelspec": {
   "display_name": "Python 3",
   "language": "python",
   "name": "python3"
  },
  "language_info": {
   "codemirror_mode": {
    "name": "ipython",
    "version": 3
   },
   "file_extension": ".py",
   "mimetype": "text/x-python",
   "name": "python",
   "nbconvert_exporter": "python",
   "pygments_lexer": "ipython3",
   "version": "3.7.4"
  }
 },
 "nbformat": 4,
 "nbformat_minor": 5
}
